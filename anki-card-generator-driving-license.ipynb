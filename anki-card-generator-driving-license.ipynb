{
 "cells": [
  {
   "cell_type": "code",
   "execution_count": 1,
   "metadata": {},
   "outputs": [
    {
     "name": "stdout",
     "output_type": "stream",
     "text": [
      "Started\n"
     ]
    }
   ],
   "source": [
    "import requests\n",
    "import json\n",
    "import openai\n",
    "\n",
    "openai.api_key = open(\".tokens/openai\", \"r\").read()\n",
    "print(\"Started\")"
   ]
  },
  {
   "cell_type": "code",
   "execution_count": 2,
   "metadata": {},
   "outputs": [
    {
     "name": "stdout",
     "output_type": "stream",
     "text": [
      "{'result': ['Driving License', 'English', 'German', 'German::A2_Wortliste_Goethe', 'German::B1_Wortliste_DTZ_Goethe', 'German::Deutsch B1', 'German::Deutsch B1+', 'German::DW Nicos Weg B1', 'Standard'], 'error': None}\n"
     ]
    }
   ],
   "source": [
    "# Uses anki-connect to connect to anki\n",
    "response = requests.post('http://localhost:8765', data='{\"action\": \"deckNames\", \"version\": 6}', headers={'Content-type': 'application/json'})\n",
    "print(response.json())"
   ]
  },
  {
   "cell_type": "code",
   "execution_count": 3,
   "metadata": {},
   "outputs": [],
   "source": [
    "def invoke(method, **params):\n",
    "    request_data = json.dumps({\n",
    "        'action': method,\n",
    "        'params': params,\n",
    "        'version': 6\n",
    "    })\n",
    "\n",
    "    response = requests.post('http://localhost:8765', data=request_data)\n",
    "    response_data = json.loads(response.text)\n",
    "    print(response_data)\n",
    "\n",
    "    if response_data.get('error'):\n",
    "        raise Exception(f\"Error: {response_data['error']}\")\n",
    "    else:\n",
    "        return response_data['result']\n",
    "\n",
    "def clean_content(markdown: str):\n",
    "    # this method extracts the code from the markdown and returns only the code from the markdown string\n",
    "\n",
    "    result = \"\"\n",
    "    in_code = False\n",
    "    for line in markdown.split(\"\\n\"):\n",
    "        if line.startswith(\"```\"):\n",
    "            in_code = not in_code\n",
    "        elif in_code:\n",
    "            result += line + \"\\n\"\n",
    "    return result"
   ]
  },
  {
   "cell_type": "code",
   "execution_count": 19,
   "metadata": {},
   "outputs": [],
   "source": [
    "task_template = \"\"\"\n",
    "You create cards for Spaced Repetition to for a learner of german as a foreign language, these cards will be used in the context of preparation for the german driving license exam, please use this context if it could help in some cases.\n",
    "There is an existing structure for cards, for example:\n",
    "\n",
    "```json\n",
    "[\n",
    "    {\n",
    "        \"Wort_DE\": \"melden\",\n",
    "        \"Wort_EN\": \"to report, register, put one's hand up, volunteer\",\n",
    "        \"Verbformen\": \"meldet, meldete, hat gemeldet\",\n",
    "        \"Satz1_DE\": \"Ich habe schon zweimal angerufen. - Aber es meldet sich niemand.\",\n",
    "        \"Satz1_EN\": \"I have already called twice. - But nobody answers.\",\n",
    "        \"Satz2_DE\": \"Den Unfall müssen Sie der Versicherung melden.\",\n",
    "        \"Satz2_EN\":\"You must report the accident to the insurance company.\",\n",
    "        \"Satz3_DE\":\"Ich melde mich auf Ihre Anzeige. - Sie wollen ein Sofa verkaufen?\",\n",
    "        \"Satz3_EN\": \"I'm reporting to your ad. - You want to sell a sofa?\",\n",
    "        \"Satz4_DE\":\"Warum hast du dich so lange nicht gemeldet? Warst du krank?\",\n",
    "        \"Satz4_EN\": \"Why have not you been in contact for so long? Were you sick?\"\n",
    "    },\n",
    "    {\n",
    "        \"Wort_DE\": \"Pflicht\",\n",
    "        \"Wort_EN\": \"Duty; Obligation; Mandatory\",\n",
    "        \"Artikel\": \"die\",\n",
    "        \"Plural\": \"-en\",\n",
    "        \"Satz1_DE\": \"Eltern haben die Pflicht, ihre Kinder vor Schaden zu bewahren.\",\n",
    "        \"Satz1_EN\": \"Parents have an obligation to protect their children from harm.\",\n",
    "        \"Satz2_DE\": \"Er hatte seine vertraglichen Pflichten erfüllt.\",\n",
    "        \"Satz2_EN\": \"He had met his contractual obligations.\"\n",
    "    }\n",
    "]\n",
    "```\n",
    "\n",
    "Please don't output anything else apart from the JSON. The JSON should be valid. The JSON should be an array of objects.\n",
    "\n",
    "Please add any interesting and relevant information in the \"hinweis\" field, whatever is connected with a given word, and could help in preparation for the exam.\n",
    "\n",
    "Use the same structure for the new words and phrases:\n",
    "\"\"\""
   ]
  },
  {
   "cell_type": "code",
   "execution_count": 14,
   "metadata": {},
   "outputs": [],
   "source": [
    "cards_to_create_string = \"\"\"\n",
    "flattert\n",
    "belästigt\n",
    "durchgerostete\n",
    "Auspuffanlage\n",
    "\"\"\"\n",
    "\n",
    "# Split by lines and remove empty lines\n",
    "cards_to_create = [line for line in cards_to_create_string.split(\"\\n\") if line != \"\"]"
   ]
  },
  {
   "cell_type": "code",
   "execution_count": 22,
   "metadata": {},
   "outputs": [
    {
     "name": "stdout",
     "output_type": "stream",
     "text": [
      "[{'Wort_DE': 'Gütern', 'Wort_EN': 'Goods; Commodities', 'Artikel': 'die', 'Plural': '-', 'Satz1_DE': 'Transporter müssen ihre Ladung von Gütern sicher befestigen.', 'Satz1_EN': 'Cargo vehicles must securely fasten their load of goods.', 'Satz2_DE': 'Diebstahl von Gütern kann zu schwerwiegenden rechtlichen Konsequenzen führen.', 'Satz2_EN': 'Theft of goods can lead to serious legal consequences.', 'hinweis': 'Für die Prüfung ist es wichtig, Verkehrsregeln bezüglich des Transports von Gütern zu kennen.'}, {'Wort_DE': 'einer geschäftsmäßigen oder entgeltlichen Beförderung', 'Wort_EN': 'a commercial or paid transport', 'Satz1_DE': 'Fahrer, die an einer geschäftsmäßigen oder entgeltlichen Beförderung beteiligt sind, müssen über die notwendigen Lizenzen verfügen.', 'Satz1_EN': 'Drivers involved in a commercial or paid transport must have the necessary licenses.', 'Satz2_DE': 'Versicherungsschutz ist besonders wichtig bei einer geschäftsmäßigen oder entgeltlichen Beförderung.', 'Satz2_EN': 'Insurance coverage is particularly important for a commercial or paid transport.', 'hinweis': 'Die Vorschriften für geschäftsmäßige oder entgeltliche Beförderung sind im Rahmen der Führerscheinprüfung relevant, insbesondere für LKW- und Busfahrer.'}, {'Wort_DE': 'Anhänger', 'Wort_EN': 'Trailer', 'Artikel': 'der', 'Plural': '-', 'Satz1_DE': 'Der Anhänger muss richtig an das Zugfahrzeug angekoppelt sein.', 'Satz1_EN': 'The trailer must be correctly coupled to the towing vehicle.', 'Satz2_DE': 'Für das Führen eines Anhängers kann je nach Gewicht eine zusätzliche Fahrerlaubnis erforderlich sein.', 'Satz2_EN': 'Driving with a trailer may require an additional driving licence depending on the weight.', 'hinweis': 'Beim Fahren mit Anhängern sind spezifische Kenntnisse der StVO und des Gewichtslimits nötig, die für die Prüfung gelernt werden müssen.'}, {'Wort_DE': 'Der Entfaltungsraum von Airbags darf nicht beeinträchtigt sein', 'Wort_EN': 'The deployment area of airbags must not be impaired', 'Satz1_DE': 'Gegenstände auf dem Beifahrersitz können den Entfaltungsraum von Airbags beeinträchtigen.', 'Satz1_EN': 'Objects on the passenger seat can impair the deployment area of airbags.', 'Satz2_DE': 'Es ist wichtig, dass der Entfaltungsraum von Airbags frei bleibt, um im Falle eines Unfalls Schutz zu bieten.', 'Satz2_EN': 'It is important for the deployment area of airbags to remain clear to provide protection in case of an accident.', 'hinweis': 'Für die Fahrzeugkontrolle während der Prüfung ist es wichtig zu wissen, dass nichts den Bereich vor oder über Airbags blockieren darf.'}]\n",
      "{'result': 1704640951299, 'error': None}\n",
      "{'result': 1704640951343, 'error': None}\n",
      "{'result': 1704640951390, 'error': None}\n",
      "{'result': 1704640951424, 'error': None}\n",
      "[{'Wort_DE': 'Schutzwirkung', 'Wort_EN': 'Protective effect', 'Satz1_DE': 'Die Schutzwirkung von Airbags ist nur gewährleistet, wenn der Sicherheitsgurt angelegt ist.', 'Satz1_EN': 'The protective effect of airbags is only assured when the seat belt is fastened.', 'Satz2_DE': 'Was ist hinsichtlich der gewünschten Schutzwirkung von Airbags zu beachten?', 'Satz2_EN': 'What should be considered regarding the desired protective effect of airbags?', 'hinweis': 'Airbags sind Bestandteil des passiven Sicherheitssystems im Auto und ergänzen die Schutzwirkung des Sicherheitsgurtes.'}, {'Wort_DE': 'beschleunigen', 'Wort_EN': 'to accelerate', 'Verbformen': 'beschleunigt, beschleunigte, hat beschleunigt', 'Satz1_DE': 'Der Fahrer beschleunigte, um die Ampel noch bei Grün zu passieren.', 'Satz1_EN': 'The driver accelerated to pass the traffic lights while they were still green.', 'Satz2_DE': 'Um Unfälle zu vermeiden, darf nicht an unübersichtlichen Stellen beschleunigt werden.', 'Satz2_EN': 'To prevent accidents, one should not accelerate at places with poor visibility.', 'hinweis': 'Beim Beschleunigen ist auf die Verkehrslage und die maximal zulässige Geschwindigkeit zu achten.'}, {'Wort_DE': 'einrichten', 'Wort_EN': 'to adjust, to establish, to set up', 'Verbformen': 'richtet ein, richtete ein, hat eingerichtet', 'Satz1_DE': 'Worauf müssen Sie sich jetzt einstellen?', 'Satz1_EN': 'What do you have to adjust to now?', 'Satz2_DE': 'Fahrer müssen sich auf wechselnde Wetterbedingungen einstellen.', 'Satz2_EN': 'Drivers must adjust to changing weather conditions.', 'hinweis': 'Sich einstellen auf wechselnde Verkehrsbedingungen ist essentiell für die Verkehrssicherheit.'}, {'Wort_DE': 'gelassen', 'Wort_EN': 'calm, composed', 'Satz1_DE': 'Auch in schwierigen Verkehrssituationen bleibe ich gelassen.', 'Satz1_EN': 'Even in difficult traffic situations, I remain calm.', 'Satz2_DE': 'Ich bleibe gelassen, um Konflikte zu vermeiden.', 'Satz2_EN': 'I stay calm in order to avoid conflicts.', 'hinweis': 'Gelassenheit am Steuer kann helfen, gefährliche Situationen und Aggressionen im Straßenverkehr zu vermeiden.'}]\n",
      "{'result': 1704640998074, 'error': None}\n",
      "{'result': 1704640998101, 'error': None}\n",
      "{'result': 1704640998119, 'error': None}\n",
      "{'result': 1704640998147, 'error': None}\n",
      "[{'Wort_DE': 'anzünden', 'Wort_EN': 'to ignite, light', 'Verbformen': 'zündet an, zündete an, hat angezündet', 'Satz1_DE': 'Man darf im Wald kein Feuer anzünden.', 'Satz1_EN': 'You are not allowed to light fires in the forest.', 'Satz2_DE': 'Der Fahrer hat gerade eine Zigarette angezündet, als die Polizei ihn anhielt.', 'Satz2_EN': 'The driver was just lighting a cigarette when the police stopped him.', 'Satz3_DE': 'Das Anzünden von Zigaretten im Auto kann ablenkend wirken und ist bei Tankstellen verboten.', 'Satz3_EN': 'Lighting cigarettes in the car can be distracting and is prohibited at gas stations.', 'hinweis': 'Das Anzünden einer Zigarette kann während der Fahrt als Ablenkung angesehen werden und ist beim Betanken eines Fahrzeuges strengstens untersagt.'}, {'Wort_DE': 'quengeln', 'Wort_EN': 'to whine, moan, nag', 'Verbformen': 'quengelt, quengelte, hat gequengelt', 'Satz1_DE': 'Die Kinder quengeln im Auto, weil es ihnen langweilig ist.', 'Satz1_EN': 'The children are whining in the car because they are bored.', 'Satz2_DE': 'Sie sollten sich auf das Verkehrsfluss konzentrieren, anstatt sich von quengelnden Beifahrern ablenken zu lassen.', 'Satz2_EN': 'You should focus on the traffic flow rather than being distracted by whining passengers.', 'Satz3_DE': 'Quengelnde Fahrschüler können die Aufmerksamkeit des Fahrlehrers beeinträchtigen.', 'Satz3_EN': \"Whining driving students can impair the driving instructor's attention.\", 'hinweis': 'Quengelndes Verhalten von Kindern oder Passagieren kann die Konzentration des Fahrers beeinträchtigen und somit eine Gefahr im Straßenverkehr darstellen.'}, {'Wort_DE': 'ablenken', 'Wort_EN': 'to distract', 'Verbformen': 'lenkt ab, lenkte ab, hat abgelenkt', 'Satz1_DE': 'Lassen Sie sich beim Fahren nicht durch Ihr Smartphone ablenken.', 'Satz1_EN': 'Do not get distracted by your smartphone while driving.', 'Satz2_DE': 'Ablenkung kann zu schweren Unfällen führen.', 'Satz2_EN': 'Distraction can lead to serious accidents.', 'Satz3_DE': 'Im Verkehr sollte man stets aufmerksam bleiben und sich nicht von äußeren Einflüssen ablenken lassen.', 'Satz3_EN': 'In traffic, you should always remain attentive and not be distracted by external influences.', 'hinweis': 'Ablenkung am Steuer ist eine der häufigsten Ursachen für Verkehrsunfälle. Während der Fahrt sollte man sämtliche Ablenkungen vermeiden, um das Risiko eines Unfalls zu minimieren.'}, {'Wort_DE': 'Behalten', 'Wort_EN': 'to keep, maintain', 'Verbformen': 'behält, behielt, hat behalten', 'Satz1_DE': 'Ich behalte meine Geschwindigkeit bei, um den Sicherheitsabstand nicht zu verringern.', 'Satz1_EN': \"I'm maintaining my speed in order not to reduce the safety distance.\", 'Satz2_DE': 'Es ist wichtig, dass Sie auch in Notfallsituationen Ihre Ruhe behalten.', 'Satz2_EN': \"It's important that you maintain your composure even in emergency situations.\", 'Satz3_DE': 'Der Fahrer sollte immer die Kontrolle über das Fahrzeug behalten.', 'Satz3_EN': 'The driver should always keep control of the vehicle.', 'Satz4_DE': 'Können Sie bitte Ihre Geschwindigkeit behalten, damit wir die Verkehrsfluss nicht stören?', 'Satz4_EN': 'Can you please maintain your speed so we do not disrupt the flow of traffic?', 'hinweis': 'Gleichmäßiges Behalten der Geschwindigkeit ist nicht nur ein Zeichen für umsichtige Fahrweise, sondern auch für die Einhaltung der Verkehrsregeln und -sicherheit erforderlich.'}]\n",
      "{'result': 1704641031978, 'error': None}\n",
      "{'result': 1704641032024, 'error': None}\n",
      "{'result': 1704641032047, 'error': None}\n",
      "{'result': 1704641032072, 'error': None}\n",
      "[{'Wort_DE': 'Scheibenwischer', 'Wort_EN': 'Windshield wiper', 'Artikel': 'der', 'Plural': '-', 'Satz1_DE': 'Wenn es regnet, müssen Fahrer die Scheibenwischer einschalten.', 'Satz1_EN': \"When it's raining, drivers must turn on the windshield wipers.\", 'Satz2_DE': 'Defekte Scheibenwischer können die Sicht beim Fahren stark beeinträchtigen.', 'Satz2_EN': 'Faulty windshield wipers can severely impair visibility while driving.', 'hinweis': 'Functioning windshield wipers are crucial for visibility and are part of the vehicle equipment checked during the TÜV (Technical Inspection Association) inspection.'}, {'Wort_DE': 'Schmierschicht', 'Wort_EN': 'Lubricant layer; Greasy layer', 'Artikel': 'die', 'Plural': '-en', 'Satz1_DE': 'Bei Regen kann sich eine dünne Schmierschicht auf der Straße bilden.', 'Satz1_EN': 'In the rain, a thin lubricant layer can form on the road.', 'Satz2_DE': 'Eine Schmierschicht auf der Fahrbahn kann die Rutschgefahr erhöhen.', 'Satz2_EN': 'A greasy layer on the roadway can increase the risk of skidding.', 'hinweis': 'Beware of the increased skid risk due to lubricant layers, especially after long dry periods followed by rain, and adjust your driving behavior accordingly.'}, {'Wort_DE': 'Warntafeln', 'Wort_EN': 'Warning signs', 'Artikel': 'die', 'Plural': '-', 'Satz1_DE': 'Lange Fahrzeuge müssen hinten Warntafeln tragen.', 'Satz1_EN': 'Long vehicles must carry warning signs on the back.', 'Satz2_DE': 'Warntafeln am Straßenrand weisen auf besondere Gefahren hin.', 'Satz2_EN': 'Warning signs on the roadside indicate special hazards.', 'hinweis': 'Understanding and obeying warning signs is essential for passing the theoretical driving license exam in Germany.'}, {'Wort_DE': 'den Schutzstreifen bei Bedarf befahren', 'Wort_EN': 'to use the protective lane when necessary', 'Verbformen': 'befährt, befuhr, hat befahren', 'Satz1_DE': 'Radfahrer dürfen den Schutzstreifen bei Bedarf befahren, wenn sie dabei den Verkehrsfluss nicht stören.', 'Satz1_EN': 'Cyclists are allowed to use the protective lane when necessary, as long as they do not disturb the flow of traffic.', 'Satz2_DE': 'Bei Stau dürfen Pkw den Schutzstreifen bei Bedarf befahren, um Rettungsfahrzeugen Platz zu machen.', 'Satz2_EN': 'In case of traffic jams, cars are allowed to use the protective lane when necessary to make room for emergency vehicles.', 'Satz3_DE': 'Das Befahren des Schutzstreifens bei Bedarf darf nur mit besonderer Vorsicht erfolgen.', 'Satz3_EN': 'Using the protective lane when necessary must be done with special caution.', 'hinweis': 'The correct usage of protective lanes, including when and how they can be used, is often a topic covered in the practical driving exam.'}]\n",
      "{'result': 1704641069763, 'error': None}\n",
      "{'result': 1704641069797, 'error': None}\n",
      "{'result': 1704641069863, 'error': None}\n",
      "{'result': 1704641069898, 'error': None}\n",
      "[{'Wort_DE': 'auf eine nummerierte Umleitung', 'Wort_EN': 'to a numbered detour', 'Satz1_DE': 'Folgen Sie der Schilderung auf eine nummerierte Umleitung im Falle einer Vollsperrung.', 'Satz1_EN': 'Follow the signs to a numbered detour in case of a full closure.', 'hinweis': 'Nummerierte Umleitungen sind in Deutschland üblich, wenn Hauptverkehrsstraßen gesperrt sind; die Umleitungen sind oft mit U und einer Zahl gekennzeichnet.'}, {'Wort_DE': 'Kraftfahrstraße', 'Wort_EN': 'Expressway', 'Artikel': 'die', 'Plural': '-n', 'Satz1_DE': 'Auf der Kraftfahrstraße dürfen nur Fahrzeuge fahren, die schneller als 60 km/h fahren können.', 'Satz1_EN': 'Only vehicles that can travel faster than 60 km/h are allowed on the expressway.', 'hinweis': 'Eine Kraftfahrstraße ist ähnlich wie eine Autobahn, hat jedoch keinen Mittelstreifen und ist oft einseitig befahrbar. Das Verkehrsschild zeigt ein weißes Auto auf blauem Grund.'}, {'Wort_DE': 'angekündigt', 'Wort_EN': 'announced', 'Verbformen': 'kündigt an, kündigte an, hat angekündigt', 'Satz1_DE': 'Die neuen Verkehrsregeln wurden im Radio angekündigt.', 'Satz1_EN': 'The new traffic rules were announced on the radio.', 'Satz2_DE': 'Eine Geschwindigkeitsbeschränkung ist auf dem Schild vor der Kurve angekündigt.', 'Satz2_EN': 'A speed limit is announced on the sign before the curve.', 'hinweis': 'Verkehrsmeldungen sind oft angekündigt über Radio, insbesondere bei größeren Ereignissen oder Baustellen.'}, {'Wort_DE': 'Vorfahrt gewähren', 'Wort_EN': 'to yield', 'Satz1_DE': 'An der Kreuzung müssen Sie der von rechts kommenden Fahrzeugen Vorfahrt gewähren.', 'Satz1_EN': 'At the intersection, you must yield to vehicles coming from the right.', 'Satz2_DE': \"Das Schild 'Vorfahrt gewähren' bedeutet, dass sie anderen Verkehrsteilnehmern den Vortritt lassen müssen.\", 'Satz2_EN': \"The 'yield' sign means that you have to give way to other road users.\", 'hinweis': \"Das Schild 'Vorfahrt gewähren' zeigt ein weißes Dreieck mit rotem Rand und bedeutet, dass Fahrer an der Kreuzung oder Einmündung warten müssen, bis die Straße frei ist.\"}]\n",
      "{'result': 1704641117939, 'error': None}\n",
      "{'result': 1704641117993, 'error': None}\n",
      "{'result': 1704641118043, 'error': None}\n",
      "{'result': 1704641118092, 'error': None}\n",
      "[{'Wort_DE': 'ermitteln', 'Wort_EN': 'to investigate, to determine', 'Verbformen': 'ermittelt, ermittelte, hat ermittelt', 'Satz1_DE': 'Die Polizei ermittelt nach dem Unfall die Ursache.', 'Satz1_EN': 'The police are investigating the cause of the accident.', 'Satz2_DE': 'Sie müssen den Halter des Fahrzeugs ermitteln.', 'Satz2_EN': 'They need to determine the owner of the vehicle.', 'Satz3_DE': 'Bei einer Verkehrskontrolle kann die Polizei die Identität von Personen ermitteln.', 'Satz3_EN': 'During a traffic check, the police can determine the identity of persons.', 'hinweis': \"Im Kontext des Führerscheinexamens bedeutet 'ermitteln' oft, das Aufklären von Verkehrswidrigkeiten durch die Behörden.\"}, {'Wort_DE': 'den ein Fahrzeug in einer Sekunde zurücklegt', 'Wort_EN': 'the distance a vehicle travels in one second', 'Satz1_DE': 'Die Strecke, die ein Fahrzeug in einer Sekunde zurücklegt, hängt von seiner Geschwindigkeit ab.', 'Satz1_EN': 'The distance a vehicle travels in one second depends on its speed.', 'Satz2_DE': 'Bei 50 km/h legt ein Fahrzeug etwa 14 Meter in einer Sekunde zurück.', 'Satz2_EN': 'At 50 km/h, a vehicle covers about 14 meters in one second.', 'Satz3_DE': 'Es ist wichtig zu wissen, wie weit ein Fahrzeug in einer Sekunde zurücklegt, um den Bremsweg richtig einschätzen zu können.', 'Satz3_EN': 'It is important to know the distance a vehicle travels in one second in order to correctly estimate the braking distance.', 'hinweis': 'Dieser Ausdruck ist relevant für das Verständnis des Anhalteweges, der sich aus Reaktionsweg und Bremsweg zusammensetzt.'}, {'Wort_DE': 'rutschen', 'Wort_EN': 'to slide, slip', 'Verbformen': 'rutscht, rutschte, ist gerutscht', 'Satz1_DE': 'Bei Glatteis kann das Fahrzeug leicht rutschen.', 'Satz1_EN': 'On black ice, the vehicle can easily slip.', 'Satz2_DE': 'Wenn man zu schnell in die Kurve fährt, kann das Auto rutschen.', 'Satz2_EN': 'If you drive too fast into a curve, the car can slide.', 'Satz3_DE': 'Rutscht ein Fahrzeug, verliert es an Haftung zur Fahrbahnoberfläche.', 'Satz3_EN': 'When a vehicle slides, it loses traction with the road surface.', 'hinweis': 'Das Rutschen des Fahrzeugs kann zu Kontrollverlust führen, deshalb ist es ein wichtiger Aspekt in der Fahrsicherheit.'}, {'Wort_DE': 'Die lenkfähigkeit bleibt länger erhalten', 'Wort_EN': 'Steering ability is maintained longer', 'Satz1_DE': 'Durch korrekten Reifendruck bleibt die Lenkfähigkeit des Fahrzeugs länger erhalten.', 'Satz1_EN': \"Proper tire pressure helps maintain the vehicle's steering ability longer.\", 'Satz2_DE': 'Bei Aquaplaning ist zu beobachten, dass die Lenkfähigkeit nicht sofort verloren geht, sondern länger erhalten bleibt.', 'Satz2_EN': 'With aquaplaning, it can be observed that the steering ability is not immediately lost but is maintained longer.', 'Satz3_DE': 'Fahrerassistenzsysteme sorgen dafür, dass die Lenkfähigkeit auch in kritischen Situationen länger erhalten bleibt.', 'Satz3_EN': 'Driver assistance systems ensure that the steering ability is maintained longer even in critical situations.', 'hinweis': 'Die Lenkfähigkeit ist entscheidend für die Sicherheit beim Führen eines Fahrzeugs. Das rechtzeitige Gegensteuern und Vermeiden von Unfällen hängt oft davon ab.'}]\n",
      "{'result': 1704641179280, 'error': None}\n",
      "{'result': 1704641179327, 'error': None}\n",
      "{'result': 1704641179345, 'error': None}\n",
      "{'result': 1704641179372, 'error': None}\n",
      "[{'Wort_DE': 'Flugbetrieb', 'Wort_EN': 'Air traffic', 'Artikel': 'der', 'Plural': '-e', 'Satz1_DE': 'In der Nähe des Flughafens ist der Flugbetrieb sehr rege.', 'Satz1_EN': 'Near the airport, the air traffic is very busy.', 'Satz2_DE': 'Während des starken Unwetters wurde der Flugbetrieb eingestellt.', 'Satz2_EN': 'During the severe storm, the air traffic was suspended.', 'hinweis': 'In Deutschland müssen Autofahrer während des Fahrens das Radio leise stellen, um wichtige Durchsagen für den Flugbetrieb nicht zu überhören.'}, {'Wort_DE': 'Gegenlenken', 'Wort_EN': 'Countersteering', 'Verbformen': 'gegenlenkt, gegenlenkte, hat gegenlenkt', 'Satz1_DE': 'Beim Schleudern muss man gegenlenken, um das Fahrzeug zu stabilisieren.', 'Satz1_EN': 'When skidding, you need to countersteer to stabilize the vehicle.', 'Satz2_DE': 'Das Gegenlenken sollte schnell und präzise erfolgen, um ein Ausbrechen zu verhindern.', 'Satz2_EN': 'Countersteering should be done quickly and precisely to prevent fishtailing.', 'hinweis': 'Das richtige Gegenlenken ist eine wichtige Fähigkeit, die in der praktischen Fahrprüfung unter Umständen bewiesen werden muss.'}, {'Wort_DE': 'unvollständig', 'Wort_EN': 'incomplete', 'Komparativ': 'unvollständiger', 'Superlativ': 'am unvollständigsten', 'Satz1_DE': 'Ein unvollständig ausgefüllter Antrag kann nicht bearbeitet werden.', 'Satz1_EN': 'An application that is incompletely filled out cannot be processed.', 'Satz2_DE': 'Die Ladung ist unvollständig, einige Pakete fehlen noch.', 'Satz2_EN': 'The cargo is incomplete; some packages are still missing.', 'hinweis': 'Bei der Anmeldung zur Fahrprüfung ist darauf zu achten, alle Unterlagen vollständig einzureichen, da unvollständige Anmeldungen abgelehnt werden.'}, {'Wort_DE': 'schränken', 'Wort_EN': 'to limit, restrict', 'Verbformen': 'schränkt, schränkte, hat geschränkt', 'Satz1_DE': 'Die Geschwindigkeitsbegrenzung schränkt die erlaubte Höchstgeschwindigkeit ein.', 'Satz1_EN': 'The speed limit restricts the maximum allowed speed.', 'Satz2_DE': 'Schlechte Sichtverhältnisse schränken die Fahrsicherheit ein.', 'Satz2_EN': 'Poor visibility conditions limit driving safety.', 'Satz3_DE': 'Übermüdung kann die Reaktionszeit des Fahrers einschränken.', 'Satz3_EN': \"Fatigue can limit the driver's reaction time.\", 'hinweis': 'Verkehrsregeln dienen dazu, das Risiko von Unfällen zu schränken und die Sicherheit aller Verkehrsteilnehmer zu gewährleisten.'}]\n",
      "{'result': 1704641222438, 'error': None}\n",
      "{'result': 1704641222497, 'error': None}\n",
      "{'result': 1704641222562, 'error': None}\n",
      "{'result': 1704641222607, 'error': None}\n",
      "[{'Wort_DE': 'Parkleuchten', 'Wort_EN': 'Parking lights', 'Artikel': 'das', 'Plural': '-', 'Satz1_DE': 'Beim Parken in der Dunkelheit müssen die Parkleuchten eingeschaltet sein.', 'Satz1_EN': 'When parking in the dark, the parking lights must be switched on.', 'Satz2_DE': 'Vergessen Sie nicht, Ihre Parkleuchten anzuschalten, wenn Sie auf einer schlecht beleuchteten Straße parken.', 'Satz2_EN': 'Do not forget to turn on your parking lights when parking on a poorly lit street.', 'hinweis': 'Die Benutzung von Parkleuchten ermöglicht anderen Verkehrsteilnehmern, das geparkte Fahrzeug besser zu sehen.'}, {'Wort_DE': 'lenken', 'Wort_EN': 'to steer, navigate, guide', 'Verbformen': 'lenkt, lenkte, hat gelenkt', 'Satz1_DE': 'Er lenkt vorsichtig durch die enge Straße.', 'Satz1_EN': 'He carefully steers through the narrow street.', 'Satz2_DE': 'Du musst das Lenkrad festhalten und das Fahrzeug sicher lenken.', 'Satz2_EN': 'You have to hold the steering wheel firmly and navigate the vehicle safely.', 'Satz3_DE': 'Es ist wichtig, beim Rückwärtsfahren das Auto richtig zu lenken.', 'Satz3_EN': \"It's important to steer the car correctly when reversing.\", 'hinweis': 'Beim Lenken sollte man immer beide Hände am Lenkrad haben, außer bei Bedienung anderer Fahrzeugelemente.'}, {'Wort_DE': 'ankündigen', 'Wort_EN': 'to announce, to declare, to signal', 'Verbformen': 'kündigt an, kündigte an, hat angekündigt', 'Satz1_DE': 'Der Fahrer kündigt seinen Abbiegevorgang mit Blinksignalen an.', 'Satz1_EN': 'The driver signals his turning maneuver with turn signals.', 'Satz2_DE': 'Der Test zur deutschen Fahrlizenz wird die Verkehrsschilder ankündigen, die vor Ihnen liegen.', 'Satz2_EN': 'The German driving license test will announce the traffic signs that are ahead of you.', 'Satz3_DE': 'Es wurde angekündigt, dass die neuen Verkehrsregeln nächste Woche in Kraft treten werden.', 'Satz3_EN': 'It has been announced that the new traffic regulations will take effect next week.', 'hinweis': 'Der Fahrtrichtungsanzeiger muss rechtzeitig vor dem Abbiegen oder Spurwechsel angekündigt werden.'}, {'Wort_DE': 'schallzeichen', 'Wort_EN': 'acoustic signal, horn signal', 'Artikel': 'das', 'Plural': '-', 'Satz1_DE': 'Bei einer Gefahrensituation sollte man ein Schallzeichen geben, um andere Fahrer zu warnen.', 'Satz1_EN': 'In a hazardous situation, one should give an acoustic signal to warn other drivers.', 'Satz2_DE': 'Benutze das Schallzeichen nicht unnötig, da dies andere Verkehrsteilnehmer stören kann.', 'Satz2_EN': 'Do not use the horn signal unnecessarily, as it can disturb other road users.', 'Satz3_DE': 'In Deutschland ist es verboten, innerhalb geschlossener Ortschaften Schallzeichen zu geben, außer in Gefahr.', 'Satz3_EN': 'In Germany, it is prohibited to use the horn within built-up areas, except in danger.', 'hinweis': 'Das Schallzeichen dient als Warnsignal und sollte nicht übermäßig oder aus Ärger im Straßenverkehr verwendet werden.'}]\n",
      "{'result': 1704641277326, 'error': None}\n",
      "{'result': 1704641277411, 'error': None}\n",
      "{'result': 1704641277465, 'error': None}\n",
      "{'result': 1704641277510, 'error': None}\n",
      "[{'Wort_DE': 'Ortschaften', 'Wort_EN': 'Localities, Towns, Villages', 'Artikel': 'die', 'Plural': '-', 'Satz1_DE': 'In Ortschaften ist die Geschwindigkeit meist auf 50 km/h begrenzt.', 'Satz1_EN': 'In localities, the speed is usually limited to 50 km/h.', 'Satz2_DE': 'Achten Sie auf die Verkehrszeichen, wenn Sie sich Ortschaften nähern.', 'Satz2_EN': 'Pay attention to the traffic signs as you approach towns or villages.', 'hinweis': 'Die Geschwindigkeitsbegrenzungen in Ortschaften sind streng und für die Sicherheit aller Verkehrsteilnehmer wichtig.'}, {'Wort_DE': 'Absicht', 'Wort_EN': 'Intention', 'Artikel': 'die', 'Plural': '-en', 'Satz1_DE': 'Seine Absicht war es, frühzeitig zu bremsen, um einen Unfall zu vermeiden.', 'Satz1_EN': 'His intention was to brake early to avoid an accident.', 'Satz2_DE': 'Die Absicht der neuen Verkehrsvorschrift ist es, die Sicherheit zu erhöhen.', 'Satz2_EN': 'The intention of the new traffic rule is to increase safety.', 'hinweis': 'Die Kenntnis der Absicht hinter Verkehrsregeln kann helfen, deren Bedeutung und die Notwendigkeit ihrer Einhaltung zu verstehen.'}, {'Wort_DE': 'Fahrstreifen', 'Wort_EN': 'Lane, Traffic Lane', 'Artikel': 'der', 'Plural': '-', 'Satz1_DE': 'Bleiben Sie auf Ihrem Fahrstreifen, wenn Sie nicht überholen.', 'Satz1_EN': 'Stay in your lane, if you are not overtaking.', 'Satz2_DE': 'Es ist wichtig, den richtigen Fahrstreifen für die gewünschte Ausfahrt zu wählen.', 'Satz2_EN': 'It is important to choose the correct traffic lane for the exit you intend to take.', 'hinweis': 'Die richtige Fahrstreifenwahl gehört zu den Grundfertigkeiten, die für die Fahrprüfung beherrscht werden müssen.'}, {'Wort_DE': 'Ausfädelungsstreifen', 'Wort_EN': 'Deceleration Lane, Exit Lane', 'Artikel': 'der', 'Plural': '-n', 'Satz1_DE': 'Nutzen Sie den Ausfädelungsstreifen, um die Geschwindigkeit zu verringern, bevor Sie die Autobahn verlassen.', 'Satz1_EN': 'Use the deceleration lane to reduce speed before leaving the highway.', 'Satz2_DE': 'Der Ausfädelungsstreifen ist dafür gedacht, das Ausfahren von der Schnellstraße zu erleichtern.', 'Satz2_EN': 'The exit lane is intended to facilitate the exit from the expressway.', 'hinweis': 'Korrekte Benutzung des Ausfädelungsstreifens ist wichtig für die Verkehrssicherheit und wird in der theoretischen Fahrprüfung behandelt.'}]\n",
      "{'result': 1704641311556, 'error': None}\n",
      "{'result': 1704641311671, 'error': None}\n",
      "{'result': 1704641311697, 'error': None}\n",
      "{'result': 1704641311752, 'error': None}\n",
      "[{'Wort_DE': 'wenden', 'Wort_EN': 'to turn, to turn around', 'Verbformen': 'wendet, wandte/wendete, hat gewandt/gewendet', 'Satz1_DE': 'An der Kreuzung dürfen Sie nicht wenden.', 'Satz1_EN': 'You are not allowed to turn around at the crossroads.', 'Satz2_DE': 'Wenn Sie sich verfahren haben, sollten Sie wenden, sobald es sicher ist.', 'Satz2_EN': 'If you have taken the wrong route, you should turn around as soon as it is safe.', 'Satz3_DE': 'Das Wenden ist auf der Autobahn streng verboten.', 'Satz3_EN': 'Turning around on the motorway is strictly prohibited.', 'Satz4_DE': '', 'Satz4_EN': '', 'hinweis': 'Beim Wenden ist besondere Vorsicht geboten und die StVO zu beachten.'}, {'Wort_DE': 'möglicherweise', 'Wort_EN': 'possibly, potentially', 'Satz1_DE': 'Möglicherweise wird die Prüfung verschoben.', 'Satz1_EN': 'The test may possibly be postponed.', 'Satz2_DE': 'Möglicherweise gibt es Sperrungen auf deiner Route.', 'Satz2_EN': 'There may possibly be closures on your route.', 'Satz3_DE': 'Sie könnten möglicherweise eine Strafe erhalten, wenn Sie die Verkehrsregeln nicht beachten.', 'Satz3_EN': 'You might possibly receive a fine if you do not adhere to the traffic regulations.', 'Satz4_DE': '', 'Satz4_EN': '', 'hinweis': \"Das Wort 'möglicherweise' wird oft verwendet, um Unsicherheit oder unbestimmte Bedingungen im Bereich der Verkehrsregelung auszudrücken.\"}, {'Wort_DE': 'ordnungsgemäß', 'Wort_EN': 'properly, duly, in accordance with regulations', 'Satz1_DE': 'Bitte stellen Sie sicher, dass Ihre Fahrzeugbeleuchtung ordnungsgemäß funktioniert.', 'Satz1_EN': 'Please ensure that your vehicle lighting is working properly.', 'Satz2_DE': 'Die Ladung muss ordnungsgemäß gesichert sein.', 'Satz2_EN': 'The load must be secured properly.', 'Satz3_DE': 'Alle notwendigen Dokumente müssen ordnungsgemäß bei der Prüfung vorgelegt werden.', 'Satz3_EN': 'All necessary documents must be presented duly at the exam.', 'Satz4_DE': '', 'Satz4_EN': '', 'hinweis': 'Ordnungsgemäß bezieht sich oft auf das Befolgen von spezifischen Vorschriften für die Verkehrssicherheit und das Zulassungswesen.'}, {'Wort_DE': 'abstellen', 'Wort_EN': 'to park, to turn off, to de-activate', 'Verbformen': 'stellt ab, stellte ab, hat abgestellt', 'Satz1_DE': 'Sie dürfen Ihr Fahrzeug hier nicht abstellen.', 'Satz1_EN': 'You are not allowed to park your vehicle here.', 'Satz2_DE': 'Vergessen Sie nicht, das Licht abzustellen, wenn Sie das Auto verlassen.', 'Satz2_EN': 'Do not forget to turn off the light when you leave the car.', 'Satz3_DE': 'Das Fahrrad sollte im Fahrradständer abgestellt werden.', 'Satz3_EN': 'The bicycle should be parked in the bike rack.', 'Satz4_DE': '', 'Satz4_EN': '', 'hinweis': 'Abstellen bezieht sich auf das ordnungsgemäße Parken eines Fahrzeugs oder das Ausschalten von Geräten. Es ist wichtig, die Parkvorschriften zu kennen.'}]\n",
      "{'result': 1704641353303, 'error': None}\n",
      "{'result': 1704641353346, 'error': None}\n",
      "{'result': 1704641353402, 'error': None}\n",
      "{'result': 1704641353422, 'error': None}\n",
      "[{'Wort_DE': 'dienen', 'Wort_EN': 'to serve, to function, to be used', 'Verbformen': 'dient, diente, hat gedient', 'Satz1_DE': 'Das Schild dient der Sicherheit der Verkehrsteilnehmer.', 'Satz1_EN': 'The sign serves the safety of traffic participants.', 'Satz2_DE': 'Dieser Parkplatz dient ausschließlich Kunden.', 'Satz2_EN': 'This parking space is exclusively for customers.', 'hinweis': 'Im Kontext der Fahrschule: Verkehrsschilder und Markierungen dienen der Ordnung und der Sicherheit im Straßenverkehr.'}, {'Wort_DE': 'mehrspuriges Fahrzeug', 'Wort_EN': 'multi-lane vehicle', 'Artikel': 'das', 'Plural': '-e', 'Satz1_DE': 'Mehrspurige Fahrzeuge müssen die rechte Spur benutzen, wenn sie langsamer als die übrigen Verkehrsteilnehmer sind.', 'Satz1_EN': 'Multi-lane vehicles must use the right lane if they travel slower than the other traffic participants.', 'hinweis': 'Beim Fahren eines mehrspurigen Fahrzeugs, wie eines Lkw, muss man sich an bestimmte Regeln auf Autobahnen und mehrspurigen Straßen halten.'}, {'Wort_DE': 'beeinträchtigen', 'Wort_EN': 'to impair, to affect negatively', 'Verbformen': 'beeinträchtigt, beeinträchtigte, hat beeinträchtigt', 'Satz1_DE': 'Starker Regen kann die Sicht beim Fahren beeinträchtigen.', 'Satz1_EN': 'Heavy rain can impair visibility while driving.', 'Satz2_DE': 'Alkohol kann die Fahrtüchtigkeit erheblich beeinträchtigen.', 'Satz2_EN': 'Alcohol can significantly affect driving ability.', 'hinweis': 'In der Fahrschule lernt man, wie verschiedene Faktoren wie Wetter, Alkohol oder Drogen die Fahrfähigkeit beeinträchtigen können.'}, {'Wort_DE': 'wesentlich', 'Wort_EN': 'essential, significant', 'Artikel': '-', 'Plural': '-', 'Satz1_DE': 'Es ist wesentlich, die Verkehrsregeln zu kennen und zu befolgen.', 'Satz1_EN': 'It is essential to know and follow the traffic rules.', 'Satz2_DE': 'Die richtige Reifendruck ist wesentlich für die Sicherheit beim Fahren.', 'Satz2_EN': 'The correct tire pressure is essential for safety while driving.', 'hinweis': 'Das Verständnis und die Beherrschung der wesentlichen Verkehrsvorschriften sind grundlegend für das Bestehen der theoretischen Führerscheinprüfung.'}]\n",
      "{'result': 1704641386476, 'error': None}\n",
      "{'result': 1704641386495, 'error': None}\n",
      "{'result': 1704641386549, 'error': None}\n",
      "{'result': 1704641386571, 'error': None}\n",
      "[{'Wort_DE': 'Mängel', 'Wort_EN': 'Defects; Flaws', 'Artikel': 'die', 'Plural': '-', 'Satz1_DE': 'Bei der Hauptuntersuchung des Autos wurden mehrere Mängel festgestellt.', 'Satz1_EN': \"Several defects were identified during the car's main inspection.\", 'Satz2_DE': 'Mängel an der Beleuchtung können bei der Fahrprüfung zu Punktabzug führen.', 'Satz2_EN': 'Defects in lighting can lead to points being deducted during the driving test.', 'hinweis': 'Kennen Sie die Mängel Ihres Fahrzeugs gut, da Mängelbeseitigung für die Verkehrssicherheit essentiell ist.'}, {'Wort_DE': 'auftreten', 'Wort_EN': 'to occur; to appear', 'Verbformen': 'tritt auf, trat auf, ist aufgetreten', 'Satz1_DE': 'Sollte während der Fahrt ein technisches Problem auftreten, halten Sie sofort an und sichern Sie die Stelle.', 'Satz1_EN': 'Should a technical problem occur while driving, stop immediately and secure the spot.', 'Satz2_DE': 'Wenn Symptome einer Ermüdung beim Fahren auftreten, ist es Zeit, eine Pause zu machen.', 'Satz2_EN': \"If symptoms of fatigue occur while driving, it's time to take a break.\", 'hinweis': 'Beim Auftreten von Mängeln oder Störungen sollten die entsprechenden Verhaltensweisen auch in der Theorieprüfung bekannt sein.'}, {'Wort_DE': 'Gespann', 'Wort_EN': 'Team; Tandem; Rig', 'Artikel': 'das', 'Plural': 'Gespanne', 'Satz1_DE': 'Ein Gespann aus Fahrzeug und Anhänger erfordert eine besondere Fahrerlaubnis.', 'Satz1_EN': 'A rig of vehicle and trailer requires a special driving license.', 'Satz2_DE': 'Beim Fahren mit einem Gespann gelten andere Verkehrsregeln als für Solo-Fahrzeuge.', 'Satz2_EN': 'Different traffic rules apply when driving with a rig compared to solo vehicles.', 'hinweis': 'Das Führen von Gespannen unterliegt eigenen Fragestellungen in der Führerscheinprüfung, speziell hinsichtlich Fahrdynamik und rechtlichen Bestimmungen.'}, {'Wort_DE': 'gespannt', 'Wort_EN': 'tense; excited; strained', 'Verbformen': 'spannt, spannte, hat gespannt', 'Satz1_DE': 'Vor der Prüfung war ich sehr gespannt und ein wenig nervös.', 'Satz1_EN': 'I was very excited and a little nervous before the test.', 'Satz2_DE': 'Die Fahrlehrer sind gespannt darauf, wie die Schüler ihre Fähigkeiten unter Beweis stellen.', 'Satz2_EN': 'The driving instructors are curious to see how the students will prove their skills.', 'hinweis': \"Das Adjektiv 'gespannt' beschreibt nicht nur die Vorfreude, sondern kann auch Stress oder Anspannung während der Prüfung widerspiegeln.\"}]\n",
      "{'result': 1704641414751, 'error': None}\n",
      "{'result': 1704641414802, 'error': None}\n",
      "{'result': 1704641414824, 'error': None}\n",
      "{'result': 1704641414847, 'error': None}\n",
      "[{'Wort_DE': 'Beseitigung', 'Wort_EN': 'Removal; disposal; elimination', 'Artikel': 'die', 'Plural': '-en', 'Satz1_DE': 'Nach einem Unfall ist die schnelle Beseitigung der Fahrzeuge wichtig, um den Verkehr wieder fließen zu lassen.', 'Satz1_EN': 'After an accident, the quick removal of vehicles is important to get the traffic flowing again.', 'Satz2_DE': 'Die Beseitigung von Hindernissen auf der Straße hat Priorität.', 'Satz2_EN': 'The disposal of obstacles on the road is a priority.', 'hinweis': 'Während der Fahrausbildung lernt man, wie man nach einem Unfall für die schnelle Beseitigung des Wagens sorgt, um die Straße zu räumen.'}, {'Wort_DE': 'bahnschranke', 'Wort_EN': 'railway barrier; level crossing gate', 'Artikel': 'die', 'Plural': '-n', 'Satz1_DE': 'Wenn die Bahnschranke sich senkt, müssen alle Fahrer anhalten.', 'Satz1_EN': 'When the railway barrier is lowering, all drivers must stop.', 'Satz2_DE': 'Es ist gefährlich und illegal, bei einer geschlossenen Bahnschranke die Gleise zu überqueren.', 'Satz2_EN': 'It is dangerous and illegal to cross the tracks at a closed level crossing gate.', 'hinweis': 'Im Rahmen der Fahrschulausbildung wird speziell das korrekte Verhalten an Bahnschranken und die Beachtung der zugehörigen Verkehrsschilder geschult.'}, {'Wort_DE': 'Schienenfahrzeug', 'Wort_EN': 'Rail vehicle; tram', 'Artikel': 'das', 'Plural': '-e', 'Satz1_DE': 'Schienenfahrzeuge haben immer Vorrang vor dem Straßenverkehr.', 'Satz1_EN': 'Rail vehicles always have priority over road traffic.', 'Satz2_DE': 'Wenn du ein Schienenfahrzeug auf den Gleisen siehst, musst du Abstand halten und vorsichtig sein.', 'Satz2_EN': 'When you see a rail vehicle on the tracks, you must keep distance and be cautious.', 'hinweis': 'Für die Fahrprüfung ist es wichtig zu wissen, dass Schienenfahrzeuge wie Straßenbahnen besondere Beachtung im Straßenverkehrsrecht genießen.'}, {'Wort_DE': 'gelbe Armbinde', 'Wort_EN': 'yellow armband', 'Artikel': 'die', 'Plural': '-n', 'Satz1_DE': 'Schulweghelfer tragen oft eine gelbe Armbinde, um ihre Autorität und Präsenz zu signalisieren.', 'Satz1_EN': 'Crossing guards often wear a yellow armband to signal their authority and presence.', 'Satz2_DE': 'Ein Fahrzeugführer mit einer gelben Armbinde hat im Rahmen einer Verkehrssicherungspflicht besondere Aufgaben.', 'Satz2_EN': 'A driver with a yellow armband has special duties within the scope of traffic safety responsibilities.', 'hinweis': 'In der Prüfungsvorbereitung ist es nützlich, die Bedeutung verschiedener Armbinden und Uniformen für den Straßenverkehr zu kennen, um auf offizielle Signale richtig reagieren zu können.'}]\n",
      "{'result': 1704641458729, 'error': None}\n",
      "{'result': 1704641458768, 'error': None}\n",
      "{'result': 1704641458794, 'error': None}\n",
      "{'result': 1704641458819, 'error': None}\n",
      "[{'Wort_DE': 'Straßenrand', 'Wort_EN': 'Roadside', 'Artikel': 'der', 'Plural': '-ränder', 'Satz1_DE': 'Parken Sie bitte nicht direkt am Straßenrand auf Landstraßen.', 'Satz1_EN': 'Please do not park directly at the roadside on country roads.', 'Satz2_DE': 'Es ist gefährlich, das Auto am Straßenrand stehen zu lassen, ohne die Warnblinkanlage einzuschalten.', 'Satz2_EN': 'It is dangerous to leave the car at the roadside without turning on the hazard lights.', 'hinweis': 'Beim Halten oder Parken am Straßenrand ist darauf zu achten, dass man nicht gegen Verkehrsregeln verstößt und den Verkehrsfluss nicht behindert.'}, {'Wort_DE': 'orangefarbene Warntafeln', 'Wort_EN': 'Orange warning signs', 'Artikel': 'die', 'Plural': '-', 'Satz1_DE': 'Die orangefarbenen Warntafeln sind besonders wichtig bei Gefahrguttransporten zu beachten.', 'Satz1_EN': 'The orange warning signs are particularly important to observe for hazardous goods transports.', 'Satz2_DE': 'Wenn ein Fahrzeug orangefarbene Warntafeln trägt, müssen Abstände großzügig gehalten werden.', 'Satz2_EN': 'If a vehicle carries orange warning signs, distances must be kept generous.', 'hinweis': 'Orangefarbene Warntafeln weisen auf ein Fahrzeug hin, das gefährliche Güter transportiert, und erfordern besondere Aufmerksamkeit und Vorsichtigkeit.'}, {'Wort_DE': 'Rückstrahler', 'Wort_EN': 'Reflector', 'Artikel': 'der', 'Plural': '-', 'Satz1_DE': 'Fahrräder müssen mit roten Rückstrahlern ausgestattet sein, um nachts sichtbar zu sein.', 'Satz1_EN': 'Bicycles must be equipped with red reflectors to be visible at night.', 'Satz2_DE': 'Die Rückstrahler am Auto verbessern die Sichtbarkeit und Sicherheit bei schlechten Lichtverhältnissen.', 'Satz2_EN': 'The reflectors on the car improve visibility and safety in poor lighting conditions.', 'hinweis': 'Rückstrahler sind für alle Verkehrsteilnehmer wichtig, da sie zur besseren Sichtbarkeit beitragen und somit die Verkehrssicherheit erhöhen.'}, {'Wort_DE': 'Andreaskreuz', 'Wort_EN': \"Saint Andrew's Cross\", 'Artikel': 'das', 'Plural': '-e', 'Satz1_DE': 'Das Andreaskreuz warnt vor einem unbeschrankten Bahnübergang.', 'Satz1_EN': \"The Saint Andrew's Cross warns of an unguarded level crossing.\", 'Satz2_DE': 'Wenn ein Andreaskreuz blinkt, nähert sich ein Zug und der Bahnübergang darf nicht überquert werden.', 'Satz2_EN': \"If a Saint Andrew's Cross is flashing, a train is approaching and the level crossing must not be crossed.\", 'hinweis': 'Ein Andreaskreuz ist besonders wichtig für die Sicherheit im Straßenverkehr in der Nähe von Eisenbahnschienen. Es gilt stets aufmerksam zu sein und ggf. den herannahenden Zug vorrangig passieren zu lassen.'}]\n",
      "{'result': 1704641495641, 'error': None}\n",
      "{'result': 1704641495678, 'error': None}\n",
      "{'result': 1704641495704, 'error': None}\n",
      "{'result': 1704641495733, 'error': None}\n",
      "[{'Wort_DE': 'erreichen', 'Wort_EN': 'to reach, achieve, contact', 'Verbformen': 'erreicht, erreichte, hat erreicht', 'Satz1_DE': 'Bei einem Notfall müssen Sie sofort die Polizei erreichen.', 'Satz1_EN': 'In case of emergency, you must immediately contact the police.', 'Satz2_DE': 'Er hat im Test die volle Punktzahl erreicht.', 'Satz2_EN': 'He achieved full points on the test.', 'Satz3_DE': 'Ich kann den Kunden unter dieser Nummer nicht erreichen.', 'Satz3_EN': \"I can't reach the customer at this number.\", 'Satz4_DE': 'Das Ziel ist, bis zum Ende des Monats alle Fahrstunden zu erreichen.', 'Satz4_EN': 'The goal is to complete all driving lessons by the end of the month.', 'hinweis': 'Während der Fahrschulausbildung ist es notwendig, bestimmte Ausbildungsziele zu erreichen, um sich auf die Prüfung vorzubereiten.'}, {'Wort_DE': 'ausgeschlossen', 'Wort_EN': 'excluded, impossible', 'Satz1_DE': 'Wenn Sie zu viel Alkohol getrunken haben, ist das Fahren strikt ausgeschlossen.', 'Satz1_EN': 'If you have drunk too much alcohol, driving is strictly prohibited.', 'Satz2_DE': 'Handynutzung beim Fahren ist gesetzlich ausgeschlossen.', 'Satz2_EN': 'The use of mobile phones while driving is legally prohibited.', 'hinweis': 'Bei der Vorbereitung auf die Führerscheinprüfung sollten sich Fahrschüler mit den Umständen vertraut machen, unter denen das Fahren ausgeschlossen ist, wie z.B. Alkoholkonsum oder Übermüdung.'}, {'Wort_DE': 'vorausschauend fahren', 'Wort_EN': 'to drive with foresight, to anticipate', 'Satz1_DE': 'Vorausschauend fahren hilft, Unfälle zu vermeiden.', 'Satz1_EN': 'Driving with foresight helps to prevent accidents.', 'Satz2_DE': 'Als Fahrer ist es Ihre Pflicht, immer vorausschauend zu fahren.', 'Satz2_EN': 'As a driver, it is your duty to always drive with foresight.', 'hinweis': 'Vorausschauendes Fahren ist einer der Schlüsselpunkte in der theoretischen Führerscheinprüfung, da es zeigt, dass ein Fahrer auf mögliche Gefahren im Straßenverkehr angemessen reagieren kann.'}, {'Wort_DE': 'Blendempfindlichkeit', 'Wort_EN': 'sensitivity to glare', 'Satz1_DE': 'Nachts Auto zu fahren kann schwierig sein, besonders wenn man eine hohe Blendempfindlichkeit hat.', 'Satz1_EN': 'Driving at night can be challenging, especially if one has high sensitivity to glare.', 'Satz2_DE': 'Wenn Sie eine Blendempfindlichkeit haben, sollten Sie Ihre Augen regelmäßig überprüfen lassen.', 'Satz2_EN': 'If you have a sensitivity to glare, you should have your eyes checked regularly.', 'hinweis': 'In der praktischen Führerscheinprüfung könnten Fragen bezüglich der Blendempfindlichkeit und der korrekten Einstellung der Spiegel, um Blendung zu vermeiden, gestellt werden.'}]\n",
      "{'result': 1704641552792, 'error': None}\n",
      "{'result': 1704641552834, 'error': None}\n",
      "{'result': 1704641552855, 'error': None}\n",
      "{'result': 1704641552879, 'error': None}\n",
      "[{'Wort_DE': 'Blendempfindlichkeit', 'Wort_EN': 'Sensitivity to glare', 'Artikel': 'die', 'Plural': '-en', 'Satz1_DE': 'Die Blendempfindlichkeit nimmt bei vielen Menschen mit dem Alter ab.', 'Satz1_EN': \"Many people's sensitivity to glare decreases with age.\", 'Satz2_DE': 'Gute Sonnenbrillen können helfen, die Blendempfindlichkeit zu reduzieren.', 'Satz2_EN': 'Good sunglasses can help reduce sensitivity to glare.', 'hinweis': 'Eine geringere Blendempfindlichkeit kann die Fahrsicherheit beeinträchtigen, besonders nachts und bei entgegenkommendem Verkehr.'}, {'Wort_DE': 'umkehren', 'Wort_EN': 'to turn around, reverse', 'Verbformen': 'kehrt um, kehrte um, ist umgekehrt', 'Satz1_DE': 'Der LKW konnte nicht weiterfahren und musste auf der Fahrbahn umkehren.', 'Satz1_EN': \"The truck couldn't continue and had to turn around on the road.\", 'Satz2_DE': 'Es ist verboten, an gefährlichen Stellen auf der Fahrbahn umzukehren.', 'Satz2_EN': 'It is forbidden to reverse on the roadway at dangerous spots.', 'hinweis': 'Das Umkehren auf Autobahnen und Schnellstraßen ist verboten und gefährlich.'}, {'Wort_DE': 'behindern', 'Wort_EN': 'to hinder, obstruct', 'Verbformen': 'behindert, behinderte, hat behindert', 'Satz1_DE': 'Das parkende Auto behinderte den Verkehrsfluss.', 'Satz1_EN': 'The parked car obstructed the flow of traffic.', 'Satz2_DE': 'Sie sollten andere Verkehrsteilnehmer nicht mehr als nach den Umständen unvermeidbar behindern.', 'Satz2_EN': 'You should not obstruct other road users more than is unavoidably necessary under the circumstances.', 'hinweis': 'Verstöße gegen die Verkehrsregeln, die zu einer Behinderung führen, können mit Bußgeldern geahndet werden.'}, {'Wort_DE': 'belästigen', 'Wort_EN': 'to harass, annoy', 'Verbformen': 'belästigt, belästigte, hat belästigt', 'Satz1_DE': 'Durch laute Musik im Auto kann man andere Verkehrsteilnehmer belästigen.', 'Satz1_EN': 'One can annoy other road users with loud music in the car.', 'Satz2_DE': 'Es ist unzulässig, andere mehr, als nach den Umständen unvermeidbar, zu belästigen.', 'Satz2_EN': 'It is not permissible to harass others more than unavoidably necessary under the circumstances.', 'hinweis': 'Lärmemissionen und unnötiges Hin- und Herfahren mit dem Fahrzeug, die Andere belästigen können, sind im öffentlichen Straßenverkehr verboten.'}, {'Wort_DE': 'Fehlverhalten', 'Wort_EN': 'misbehavior, misconduct', 'Artikel': 'das', 'Plural': '-', 'Satz1_DE': 'Mit Fehlverhalten anderer Verkehrsteilnehmer muss stets gerechnet werden.', 'Satz1_EN': 'One must always expect misbehavior from other road users.', 'Satz2_DE': 'Eine vorausschauende Fahrweise beinhaltet, mit dem Fehlverhalten anderer zu rechnen.', 'Satz2_EN': 'Anticipatory driving includes expecting the misconduct of others.', 'hinweis': 'Defensive Fahrtaktiken und das Rechnen mit unvorhersehbarem Fehlverhalten anderer können Unfälle vermeiden helfen.'}]\n",
      "{'result': 1704641619560, 'error': None}\n",
      "{'result': 1704641619614, 'error': None}\n",
      "{'result': 1704641619679, 'error': None}\n",
      "{'result': 1704641619748, 'error': None}\n",
      "{'result': 1704641619790, 'error': None}\n",
      "[{'Wort_DE': 'Vorfahrtrecht', 'Wort_EN': 'Right of way', 'Artikel': 'das', 'Plural': '-e', 'Satz1_DE': 'An dieser Kreuzung hat der von rechts kommende Verkehr Vorfahrtrecht.', 'Satz1_EN': 'At this intersection, traffic coming from the right has the right of way.', 'Satz2_DE': 'Wenn das Vorfahrtrecht durch Verkehrszeichen geregelt ist, müssen diese beachtet werden.', 'Satz2_EN': 'If the right of way is regulated by traffic signs, these must be observed.', 'hinweis': 'Gutes Verständnis des Vorfahrtrechts ist für die praktische Fahrprüfung und das sichere Führen eines Kfz im Straßenverkehr essenziell.'}, {'Wort_DE': 'Die Teilnahme am Straßenverkehr erfordert ständige Vorsicht und gegenseitige Rücksicht', 'Wort_EN': 'Participation in road traffic requires constant caution and mutual consideration', 'Artikel': '-', 'Plural': '-', 'Satz1_DE': 'Die Teilnahme am Straßenverkehr erfordert ständige Vorsicht und gegenseitige Rücksicht, insbesondere in schwierigen Verkehrssituationen.', 'Satz1_EN': 'Participation in road traffic requires constant caution and mutual consideration, especially in difficult traffic situations.', 'hinweis': 'Dieses Prinzip ist der Grundstein für die Verkehrssicherheit und wird in jeder Fahrprüfung, sowohl theoretisch als auch praktisch, überprüft.'}, {'Wort_DE': 'Straßenverlauf', 'Wort_EN': 'Course of the road', 'Artikel': 'der', 'Plural': '-', 'Satz1_DE': 'Der Straßenverlauf kann durch Kurven, Abzweigungen oder Steigungen bestimmt sein.', 'Satz1_EN': 'The course of the road can be determined by curves, forks, or gradients.', 'Satz2_DE': 'Fahrer müssen den Straßenverlauf aufmerksam verfolgen, um angemessen reagieren zu können.', 'Satz2_EN': 'Drivers must attentively follow the course of the road to be able to react appropriately.', 'hinweis': 'Die Kenntnis des Straßenverlaufs ist wichtig, um die Fahrweise den Gegebenheiten anzupassen und die Sicherheit zu gewährleisten.'}, {'Wort_DE': 'Zu dichtes Auffahren', 'Wort_EN': 'Tailgating; Driving too close', 'Artikel': 'das', 'Plural': '-', 'Satz1_DE': 'Zu dichtes Auffahren ist gefährlich und kann zu Auffahrunfällen führen.', 'Satz1_EN': 'Tailgating is dangerous and can lead to rear-end collisions.', 'Satz2_DE': 'Ein ausreichender Sicherheitsabstand verhindert zu dichtes Auffahren.', 'Satz2_EN': 'A sufficient safety distance prevents driving too close.', 'hinweis': 'In der Fahrprüfung und im Allgemeinen im Straßenverkehr muss ein angemessener Abstand zum vorausfahrenden Fahrzeug gehalten werden; dieser ist auch in der StVO festgelegt.'}]\n",
      "{'result': 1704641659536, 'error': None}\n",
      "{'result': 1704641659580, 'error': None}\n",
      "{'result': 1704641659605, 'error': None}\n",
      "{'result': 1704641659630, 'error': None}\n",
      "[{'Wort_DE': 'Auffahrunfall', 'Wort_EN': 'Rear-end collision', 'Artikel': 'der', 'Plural': '-e', 'Satz1_DE': 'Um Auffahrunfälle zu vermeiden, halten Sie bitte den Sicherheitsabstand ein.', 'Satz1_EN': 'To prevent rear-end collisions, please maintain a safe following distance.', 'Satz2_DE': 'Bei einem Auffahrunfall ist oft eine zu geringe Distanz zum Vordermann die Ursache.', 'Satz2_EN': 'A rear-end collision is often caused by maintaining too little distance from the vehicle ahead.', 'hinweis': 'In der Fahrschule lernen Sie, dass Sie bei einem Auffahrunfall in der Regel als auffahrender Fahrer haftbar gemacht werden, es sei denn, Sie können beweisen, dass Sie genug Abstand gehalten haben oder der Vordermann ohne Grund plötzlich gebremst hat.'}, {'Wort_DE': 'Anzeichen', 'Wort_EN': 'Sign, indicator', 'Artikel': 'das', 'Plural': '-', 'Satz1_DE': 'Schlechte Witterungsbedingungen sind ein Anzeichen dafür, dass man die Fahrweise anpassen muss.', 'Satz1_EN': 'Bad weather conditions are a sign that one must adjust their driving style.', 'Satz2_DE': 'Wenn das Bremslicht eines Fahrzeugs aufleuchtet, ist dies ein Anzeichen dafür, dass es langsamer wird oder stoppt.', 'Satz2_EN': \"If a vehicle's brake light comes on, it's an indicator that it's slowing down or stopping.\", 'Satz3_DE': 'Anzeichen von Ermüdung während der Fahrt sollten nicht ignoriert werden; eine Pause ist dann notwendig.', 'Satz3_EN': 'Signs of fatigue while driving should not be ignored; a break is then necessary.', 'hinweis': 'Während der Vorbereitung auf die theoretische Fahrprüfung ist es wichtig, Anzeichen und Warnsignale auf der Straße und am Fahrzeug zu erkennen und zu verstehen, da sie grundlegende Bestandteile der Prüfung sind.'}]\n",
      "{'result': 1704641710662, 'error': None}\n",
      "{'result': 1704641710745, 'error': None}\n"
     ]
    }
   ],
   "source": [
    "# We are splitting list on 4 elements chunks\n",
    "# and then we are creating a list of lists\n",
    "cards_to_create_chunks = [cards_to_create[x:x+4] for x in range(0, len(cards_to_create), 4)]\n",
    "\n",
    "for chunk in cards_to_create_chunks[1:]:\n",
    "    task = task_template + \"\\n\".join(chunk)\n",
    "\n",
    "    result = openai.ChatCompletion.create(\n",
    "    model=\"gpt-4-1106-preview\",\n",
    "    messages=[\n",
    "            {\"role\": \"user\", \"content\": task}\n",
    "        ]\n",
    "    )\n",
    "    content = result.to_dict_recursive()['choices'][0][\"message\"][\"content\"]\n",
    "\n",
    "    # print(content)\n",
    "    cleaned_result = clean_content(content)\n",
    "    # print(cleaned_result)\n",
    "    new_words = json.loads(cleaned_result)\n",
    "    print(new_words)\n",
    "\n",
    "    # Remove None fields\n",
    "    for word in new_words:\n",
    "        for key in list(word.keys()):\n",
    "            if word[key] is None:\n",
    "                del word[key]\n",
    "        invoke('addNote', \n",
    "        note={\n",
    "            'deckName': 'Driving License', \n",
    "            'modelName': 'Basic (and reversed card)-75aea', \n",
    "            'fields': word, \n",
    "            'options': {'allowDuplicate': True}, \n",
    "            'tags': ['German', 'B1']})\n"
   ]
  },
  {
   "cell_type": "code",
   "execution_count": 5,
   "metadata": {},
   "outputs": [],
   "source": [
    "result = openai.ChatCompletion.create(\n",
    "  model=\"gpt-4-1106-preview\",\n",
    "  messages=[\n",
    "        {\"role\": \"user\", \"content\": task}\n",
    "    ]\n",
    ")\n",
    "content = result.to_dict_recursive()['choices'][0][\"message\"][\"content\"]"
   ]
  },
  {
   "cell_type": "code",
   "execution_count": 9,
   "metadata": {},
   "outputs": [
    {
     "name": "stdout",
     "output_type": "stream",
     "text": [
      "[{'Wort_DE': 'Wartung', 'Wort_EN': 'Maintenance', 'Artikel': 'die', 'Plural': '-en', 'Satz1_DE': 'Regelmäßige Wartung des Fahrzeugs ist für die Verkehrssicherheit essenziell.', 'Satz1_EN': 'Regular maintenance of the vehicle is essential for road safety.', 'Satz2_DE': 'Während der Wartung werden verschiedene Flüssigkeitsstände und die Bremsen geprüft.', 'Satz2_EN': 'During maintenance, various fluid levels and the brakes are checked.', 'hinweis': 'Eine ordnungsgemäße Wartung des Autos ist notwendig, um sicher am Straßenverkehr teilzunehmen und ist Teil der Prüfungsfragen.'}, {'Wort_DE': 'Radbefestigung', 'Wort_EN': 'Wheel fixation, wheel mounting', 'Artikel': 'die', 'Plural': 'Radbefestigungen', 'Satz1_DE': 'Die Radbefestigung der Vorderräder muss regelmäßig überprüft werden, um Unfälle zu vermeiden.', 'Satz1_EN': 'The wheel fixation of the front wheels must be regularly checked to prevent accidents.', 'Satz2_DE': 'Eine lockere Radbefestigung kann zu schweren Lenkproblemen führen.', 'Satz2_EN': 'A loose wheel mounting can lead to serious steering problems.', 'hinweis': 'Die Radbefestigung ist ein wichtiger Sicherheitsaspekt. Ein Kontrollpunkt bei der Hauptuntersuchung (TÜV).'}, {'Wort_DE': 'Lenkradbefestigung', 'Wort_EN': 'Steering wheel mounting', 'Artikel': 'die', 'Plural': 'Lenkradbefestigungen', 'Satz1_DE': 'Eine sichere Lenkradbefestigung ist entscheidend für die Kontrolle über das Fahrzeug.', 'Satz1_EN': 'A secure steering wheel mounting is crucial for maintaining control of the vehicle.', 'Satz2_DE': 'Bei Anzeichen von Spiel oder Geräuschen an der Lenkradbefestigung sollten Sie sofort eine Werkstatt aufsuchen.', 'Satz2_EN': 'If there are signs of play or noise in the steering wheel mounting, you should immediately visit a workshop.', 'hinweis': 'Probleme mit der Lenkradbefestigung können während der praktischen Führerscheinprüfung zur Disqualifikation führen.'}, {'Wort_DE': 'feststellen', 'Wort_EN': 'to determine; to ascertain; to detect', 'Verbformen': 'stellt fest, stellte fest, hat festgestellt', 'Satz1_DE': 'Die Polizei konnte feststellen, dass der Unfall durch überhöhte Geschwindigkeit verursacht wurde.', 'Satz1_EN': 'The police were able to ascertain that the accident was caused by excessive speed.', 'Satz2_DE': 'Wenn Sie ein Problem mit dem Fahrzeug feststellen, melden Sie es umgehend in der Fahrschule.', 'Satz2_EN': 'If you detect a problem with the vehicle, report it immediately at the driving school.', 'Satz3_DE': 'Bei der Prüfung wird festgestellt, ob Sie die Verkehrsregeln ausreichend kennen.', 'Satz3_EN': 'The exam will determine whether you know the traffic rules sufficiently.', 'Satz4_DE': 'Man sollte den Bremsweg nicht auf vereister Fahrbahn feststellen müssen.', 'Satz4_EN': 'One should not have to ascertain the braking distance on an icy road.', 'hinweis': 'Feststellen ist ein häufig benutztes Verb in technischem Kontext sowie bei der Beschreibung von Situationen im Straßenverkehr.'}]\n"
     ]
    }
   ],
   "source": [
    "# print(content)\n",
    "cleaned_result = clean_content(content)\n",
    "# print(cleaned_result)\n",
    "new_words = json.loads(cleaned_result)\n",
    "print(new_words)"
   ]
  },
  {
   "cell_type": "code",
   "execution_count": 11,
   "metadata": {},
   "outputs": [
    {
     "name": "stdout",
     "output_type": "stream",
     "text": [
      "{'result': 1704640185994, 'error': None}\n",
      "{'result': 1704640186022, 'error': None}\n",
      "{'result': 1704640186043, 'error': None}\n",
      "{'result': 1704640186067, 'error': None}\n"
     ]
    }
   ],
   "source": [
    "# Remove None fields\n",
    "for word in new_words:\n",
    "    for key in list(word.keys()):\n",
    "        if word[key] is None:\n",
    "            del word[key]\n",
    "    invoke('addNote', \n",
    "       note={\n",
    "           'deckName': 'Driving License', \n",
    "           'modelName': 'Basic (and reversed card)-75aea', \n",
    "           'fields': word, \n",
    "           'options': {'allowDuplicate': True}, \n",
    "           'tags': ['German', 'B1']})\n"
   ]
  },
  {
   "cell_type": "code",
   "execution_count": null,
   "metadata": {},
   "outputs": [],
   "source": []
  }
 ],
 "metadata": {
  "kernelspec": {
   "display_name": "Python 3",
   "language": "python",
   "name": "python3"
  },
  "language_info": {
   "codemirror_mode": {
    "name": "ipython",
    "version": 3
   },
   "file_extension": ".py",
   "mimetype": "text/x-python",
   "name": "python",
   "nbconvert_exporter": "python",
   "pygments_lexer": "ipython3",
   "version": "3.10.10"
  },
  "orig_nbformat": 4
 },
 "nbformat": 4,
 "nbformat_minor": 2
}
