{
 "cells": [
  {
   "cell_type": "code",
   "execution_count": 1,
   "metadata": {},
   "outputs": [
    {
     "name": "stdout",
     "output_type": "stream",
     "text": [
      "Started\n"
     ]
    }
   ],
   "source": [
    "import requests\n",
    "import json\n",
    "import openai\n",
    "\n",
    "openai.api_key = open(\".tokens/openai\", \"r\").read()\n",
    "print(\"Started\")"
   ]
  },
  {
   "cell_type": "code",
   "execution_count": 2,
   "metadata": {},
   "outputs": [
    {
     "name": "stdout",
     "output_type": "stream",
     "text": [
      "{'result': ['A2_Wortliste_Goethe', 'B1_Wortliste_DTZ_Goethe', 'Deutsch B1', 'Deutsch B1+', 'DW Nicos Weg B1', 'English', 'Standard'], 'error': None}\n"
     ]
    }
   ],
   "source": [
    "# Uses anki-connect to connect to anki\n",
    "response = requests.post('http://localhost:8765', data='{\"action\": \"deckNames\", \"version\": 6}', headers={'Content-type': 'application/json'})\n",
    "print(response.json())"
   ]
  },
  {
   "cell_type": "code",
   "execution_count": 9,
   "metadata": {},
   "outputs": [],
   "source": [
    "def invoke(method, **params):\n",
    "    request_data = json.dumps({\n",
    "        'action': method,\n",
    "        'params': params,\n",
    "        'version': 6\n",
    "    })\n",
    "\n",
    "    response = requests.post('http://localhost:8765', data=request_data)\n",
    "    response_data = json.loads(response.text)\n",
    "    print(response_data)\n",
    "\n",
    "    if response_data.get('error'):\n",
    "        raise Exception(f\"Error: {response_data['error']}\")\n",
    "    else:\n",
    "        return response_data['result']"
   ]
  },
  {
   "cell_type": "code",
   "execution_count": null,
   "metadata": {},
   "outputs": [],
   "source": [
    "# TODO probably I could use verhalten as an example below"
   ]
  },
  {
   "cell_type": "code",
   "execution_count": null,
   "metadata": {},
   "outputs": [],
   "source": [
    "prompt_template = \"\"\"\n",
    "You create cards for Spaced Repetition to learn german as a foreign language. There is an existing structure for cards, for example:\n",
    "\n",
    "```json\n",
    "[\n",
    "    {\n",
    "        \"Wort_DE\": \"melden\",\n",
    "        \"Wort_EN\": \"to report, register, put one's hand up, volunteer\",\n",
    "        \"Verbformen\": \"meldet, meldete, hat gemeldet\",\n",
    "        \"Satz1_DE\": \"Ich habe schon zweimal angerufen. - Aber es meldet sich niemand.\",\n",
    "        \"Satz1_EN\": \"I have already called twice. - But nobody answers.\",\n",
    "        \"Satz2_DE\": \"Den Unfall müssen Sie der Versicherung melden.\",\n",
    "        \"Satz2_EN\":\"You must report the accident to the insurance company.\",\n",
    "        \"Satz3_DE\":\"Ich melde mich auf Ihre Anzeige. - Sie wollen ein Sofa verkaufen?\",\n",
    "        \"Satz3_EN\": \"I'm reporting to your ad. - You want to sell a sofa?\",\n",
    "        \"Satz4_DE\":\"Warum hast du dich so lange nicht gemeldet? Warst du krank?\",\n",
    "        \"Satz4_EN\": \"Why have not you been in contact for so long? Were you sick?\"\n",
    "    },\n",
    "    {\n",
    "        \"Wort_DE\": \"Pflicht\",\n",
    "        \"Wort_EN\": \"Duty; Obligation; Mandatory\",\n",
    "        \"Artikel\": \"die\",\n",
    "        \"Plural\": \"-en\",\n",
    "        \"Satz1_DE\": \"Eltern haben die Pflicht, ihre Kinder vor Schaden zu bewahren.\",\n",
    "        \"Satz1_EN\": \"Parents have an obligation to protect their children from harm.\",\n",
    "        \"Satz2_DE\": \"Er hatte seine vertraglichen Pflichten erfüllt.\",\n",
    "        \"Satz2_EN\": \"He had met his contractual obligations.\"\n",
    "    }\n",
    "]\n",
    "```\n",
    "\n",
    "Use the same structure for the new words:\n",
    "zahlreich\n",
    "Religion\n",
    "heutig-\n",
    "morgig-\n",
    "\"\"\""
   ]
  },
  {
   "cell_type": "code",
   "execution_count": 25,
   "metadata": {},
   "outputs": [],
   "source": [
    "new_words = \"\"\"[\n",
    "    {\n",
    "        \"Wort_DE\": \"zusagen\",\n",
    "        \"Wort_EN\": \"to accept, confirm, promise, agree\",\n",
    "        \"Verbformen\": \"sagt zu, sagte zu, hat zugesagt\",\n",
    "        \"Satz1_DE\": \"Sie hat zugesagt, bei der Konferenz zu sprechen.\",\n",
    "        \"Satz1_EN\": \"She agreed to speak at the conference.\",\n",
    "        \"Satz2_DE\": \"Kannst du mir zusagen, dass du pünktlich kommst?\",\n",
    "        \"Satz2_EN\": \"Can you promise me that you will arrive on time?\",\n",
    "        \"Satz3_DE\": \"Ich habe ihm zugesagt, dass ich ihm bei der Arbeit helfe.\",\n",
    "        \"Satz3_EN\": \"I confirmed that I will help him with his work.\",\n",
    "        \"Satz4_DE\": \"Sie sagten zu, die Anforderungen zu erfüllen.\",\n",
    "        \"Satz4_EN\": \"They agreed to meet the requirements.\"\n",
    "    },\n",
    "    {\n",
    "        \"Wort_DE\": \"vertreten\",\n",
    "        \"Wort_EN\": \"to represent, substitute, stand in for\",\n",
    "        \"Verbformen\": \"vertritt, vertrat, hat vertreten\",\n",
    "        \"Satz1_DE\": \"Er vertritt unsere Firma bei der Tagung.\",\n",
    "        \"Satz1_EN\": \"He represents our company at the conference.\",\n",
    "        \"Satz2_DE\": \"Frau Müller vertritt Herrn Schmidt während seines Urlaubs.\",\n",
    "        \"Satz2_EN\": \"Mrs. Müller is substituting for Mr. Schmidt during his vacation.\",\n",
    "        \"Satz3_DE\": \"Mein Anwalt wird mich vor Gericht vertreten.\",\n",
    "        \"Satz3_EN\": \"My lawyer will represent me in court.\",\n",
    "        \"Satz4_DE\": \"Ich kann diese Meinung nicht vertreten.\",\n",
    "        \"Satz4_EN\": \"I cannot stand up for this opinion.\"\n",
    "    },\n",
    "    {\n",
    "        \"Wort_DE\": \"erkundigen\",\n",
    "        \"Wort_EN\": \"to inquire, ask, find out\",\n",
    "        \"Verbformen\": \"erkundigt, erkundigte, hat erkundigt\",\n",
    "        \"Satz1_DE\": \"Ich werde mich nach den Preisen erkundigen.\",\n",
    "        \"Satz1_EN\": \"I will inquire about the prices.\",\n",
    "        \"Satz2_DE\": \"Erkundige dich bei der Information nach dem Weg.\",\n",
    "        \"Satz2_EN\": \"Ask for directions at the information desk.\",\n",
    "        \"Satz3_DE\": \"Sie hat sich telefonisch nach dem Zustand ihres Bruders erkundigt.\",\n",
    "        \"Satz3_EN\": \"She inquired about her brother's condition over the phone.\",\n",
    "        \"Satz4_DE\": \"Wir haben uns bei den Nachbarn nach der neuen Familie erkundigt.\",\n",
    "        \"Satz4_EN\": \"We asked the neighbors about the new family.\"\n",
    "    }\n",
    "]\n",
    "\"\"\"\n",
    "new_words = json.loads(new_words)"
   ]
  },
  {
   "cell_type": "code",
   "execution_count": 26,
   "metadata": {},
   "outputs": [
    {
     "name": "stdout",
     "output_type": "stream",
     "text": [
      "{'result': 1683494403389, 'error': None}\n",
      "{'result': 1683494403422, 'error': None}\n",
      "{'result': 1683494403448, 'error': None}\n"
     ]
    }
   ],
   "source": [
    "# Remove None fields\n",
    "for word in new_words:\n",
    "    for key in list(word.keys()):\n",
    "        if word[key] is None:\n",
    "            del word[key]\n",
    "    invoke('addNote', \n",
    "       note={\n",
    "           'deckName': 'Deutsch B1', \n",
    "           'modelName': 'Basic (and reversed card)-75aea', \n",
    "           'fields': word, \n",
    "           'options': {'allowDuplicate': True}, \n",
    "           'tags': ['German', 'B1']})\n"
   ]
  },
  {
   "cell_type": "code",
   "execution_count": null,
   "metadata": {},
   "outputs": [],
   "source": []
  }
 ],
 "metadata": {
  "kernelspec": {
   "display_name": "Python 3",
   "language": "python",
   "name": "python3"
  },
  "language_info": {
   "codemirror_mode": {
    "name": "ipython",
    "version": 3
   },
   "file_extension": ".py",
   "mimetype": "text/x-python",
   "name": "python",
   "nbconvert_exporter": "python",
   "pygments_lexer": "ipython3",
   "version": "3.10.10"
  },
  "orig_nbformat": 4
 },
 "nbformat": 4,
 "nbformat_minor": 2
}
