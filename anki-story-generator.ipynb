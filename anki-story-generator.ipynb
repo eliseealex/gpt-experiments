{
 "cells": [
  {
   "attachments": {},
   "cell_type": "markdown",
   "metadata": {},
   "source": []
  },
  {
   "cell_type": "code",
   "execution_count": 2,
   "metadata": {},
   "outputs": [
    {
     "name": "stdout",
     "output_type": "stream",
     "text": [
      "Started\n"
     ]
    }
   ],
   "source": [
    "import requests\n",
    "import json\n",
    "import openai\n",
    "  \n",
    "openai.api_key = open(\".tokens/openai\", \"r\").read()\n",
    "print(\"Started\")"
   ]
  },
  {
   "cell_type": "code",
   "execution_count": 3,
   "metadata": {},
   "outputs": [
    {
     "name": "stdout",
     "output_type": "stream",
     "text": [
      "{'result': ['A2_Wortliste_Goethe', 'B1_Wortliste_DTZ_Goethe', 'Deutsch B1', 'Deutsch B1+', 'DW Nicos Weg B1', 'Standard'], 'error': None}\n"
     ]
    }
   ],
   "source": [
    "# Uses anki-connect to connect to anki\n",
    "response = requests.post('http://localhost:8765', data='{\"action\": \"deckNames\", \"version\": 6}', headers={'Content-type': 'application/json'})\n",
    "print(response.json())"
   ]
  },
  {
   "cell_type": "code",
   "execution_count": 4,
   "metadata": {},
   "outputs": [],
   "source": [
    "def invoke(method, **params):\n",
    "    request_data = json.dumps({\n",
    "        'action': method,\n",
    "        'params': params,\n",
    "        'version': 6\n",
    "    })\n",
    "\n",
    "    response = requests.post('http://localhost:8765', data=request_data)\n",
    "    response_data = json.loads(response.text)\n",
    "\n",
    "    if response_data.get('error'):\n",
    "        raise Exception(f\"Error: {response_data['error']}\")\n",
    "    else:\n",
    "        return response_data['result']"
   ]
  },
  {
   "cell_type": "code",
   "execution_count": 10,
   "metadata": {},
   "outputs": [],
   "source": [
    "reviewed_card_ids = invoke('findCards', query=f'rated:1')\n",
    "cards = invoke('cardsInfo', cards=reviewed_card_ids)"
   ]
  },
  {
   "cell_type": "code",
   "execution_count": 11,
   "metadata": {},
   "outputs": [],
   "source": [
    "# Unsupported yet\n",
    "# invoke('getReviewsOfCards', cards=['1497484862085'])"
   ]
  },
  {
   "cell_type": "code",
   "execution_count": 12,
   "metadata": {},
   "outputs": [],
   "source": [
    "comma_separated_repeated_words = ', '.join([card['fields']['Wort_DE']['value'] for card in cards])\n",
    "task = \"Create a short story in German for level B1 that helps you read the following words: \" + comma_separated_repeated_words"
   ]
  },
  {
   "cell_type": "code",
   "execution_count": 13,
   "metadata": {},
   "outputs": [
    {
     "data": {
      "text/plain": [
       "'Create a short story in German for level B1 that helps you read the following words: aussteigen, Bad, Bahnsteig, beschreiben, Doppelzimmer, dorther, einverstanden sein, Ende, erkältet sein, Fahrplan, Fahrrad, Führung, Frage, freundlich, gefährlich, Grippe, Gespräch, Haar, hinein, hoffen, Kaffee, Jugendherberge, Krimi, Kunde, Land, Lüge, laut, leben, leihen, Mensch, Mensch, Moment, Motor, merken, Müll, Müll, Messe, Museum, Museum, müssen, Mütze, Mütze, nach, mitbringen, mitmachen, mitnehmen, Nachbar, Nachbar, Nachbarin, Nachbarin, Nachricht, Nähe, Nähe, Natur, Natur, natürlich, nebenan, mögen, mögen, neblig, neblig, nehmen, nehmen, offen, offen, oft, nett, nett, Ohr, neu, online, nicht, nicht, nichts, Ordnung, niemand, Ort, Notiz, Paar, Paar, notwendig, packen, Nudel, Nummer, Papier, Papiere, Parfüm, Parfüm, Park, nützlich, Party, Party, Pass, oben, oben, Obst, Obst, passen, Passwort, Projekt, Projekt, Pause, Prospekt, Prospekt, prüfen, prüfen, Prüfung, Prüfung, Pullover, Pullover, Pizza, pünktlich, pünktlich, Plakat, Plakat, putzen, putzen, Plan, Platz, Platz, plötzlich, Qualität, Qualität, Quiz, Quiz, Pommes frites, Radio, Radio, raten, raten, Portion, Post, Post, Poster, Poster, Rathaus, Rathaus, Postkarte, Postleitzahl, rauchen, rauchen, Praktikum, Praktikum, Raum, Raum, praktisch, rechnen, rechnen, Praxis, Praxis, Rechnung, Rechnung, recht haben, recht haben, Preis, Preis, preiswert, preiswert, privat, privat, rechts, rechts, reden, reden, Regen, Regen, pro, pro, probieren, regnen, regnen, reich, reich, Problem, Problem, Reifen, Reifen, Produkt, Produkt, Reihe, Reihe, Programm, Programm, Reinigung, Reinigung, Reis, Reis, Reise, Reise, Reisebüro, Reisebüro, Reiseführer, Reiseführer, reisen, reisen, zuverlässig, Es ist lange Zeit her, Fazit, knapp, Eigentum, Vorort, Terasse, inklusive, abnehmen, abonnieren, berücksichtigen, König*in, Handwerker, Rasen, lecker, Durchschnittsalter'"
      ]
     },
     "execution_count": 13,
     "metadata": {},
     "output_type": "execute_result"
    }
   ],
   "source": [
    "task"
   ]
  },
  {
   "cell_type": "code",
   "execution_count": 14,
   "metadata": {},
   "outputs": [],
   "source": [
    "result = openai.ChatCompletion.create(\n",
    "  model=\"gpt-3.5-turbo\",\n",
    "  messages=[\n",
    "        {\"role\": \"system\", \"content\": \"You are a German Tutor.\"},\n",
    "        {\"role\": \"user\", \"content\": task}\n",
    "    ]\n",
    ")\n",
    "content = result.to_dict_recursive()['choices'][0][\"message\"][\"content\"]"
   ]
  },
  {
   "cell_type": "code",
   "execution_count": 15,
   "metadata": {},
   "outputs": [],
   "source": [
    "test_result = openai.ChatCompletion.create(\n",
    "  model=\"gpt-3.5-turbo\",\n",
    "  messages=[\n",
    "        {\"role\": \"system\", \"content\": \"You are a German Tutor, generate a test for B1 language level for the following test.\"},\n",
    "        {\"role\": \"user\", \"content\": content}\n",
    "    ]\n",
    ")\n",
    "test_content = test_result.to_dict_recursive()['choices'][0][\"message\"][\"content\"]"
   ]
  },
  {
   "cell_type": "code",
   "execution_count": 16,
   "metadata": {},
   "outputs": [],
   "source": [
    "# save to file with the current datetime\n",
    "import datetime\n",
    "with open(f\"german-text-{datetime.datetime.now().strftime('%Y-%m-%d-%H-%M-%S')}.md\", \"w\") as f:\n",
    "    f.write(\"## Task:\\n\\n\")\n",
    "    f.write(task)\n",
    "    f.write(\"\\n\\n## Story:\\n\\n\")\n",
    "    f.write(content)\n",
    "    f.write(\"\\n\\n## Test\\n\")\n",
    "    f.write(test_content)\n"
   ]
  }
 ],
 "metadata": {
  "kernelspec": {
   "display_name": "Python 3",
   "language": "python",
   "name": "python3"
  },
  "language_info": {
   "codemirror_mode": {
    "name": "ipython",
    "version": 3
   },
   "file_extension": ".py",
   "mimetype": "text/x-python",
   "name": "python",
   "nbconvert_exporter": "python",
   "pygments_lexer": "ipython3",
   "version": "3.10.10"
  },
  "orig_nbformat": 4
 },
 "nbformat": 4,
 "nbformat_minor": 2
}
