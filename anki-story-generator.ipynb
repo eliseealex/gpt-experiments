{
 "cells": [
  {
   "attachments": {},
   "cell_type": "markdown",
   "metadata": {},
   "source": []
  },
  {
   "cell_type": "code",
   "execution_count": 2,
   "metadata": {},
   "outputs": [
    {
     "name": "stdout",
     "output_type": "stream",
     "text": [
      "Started\n"
     ]
    }
   ],
   "source": [
    "import requests\n",
    "import json\n",
    "import openai\n",
    "  \n",
    "openai.api_key = open(\".tokens/openai\", \"r\").read()\n",
    "print(\"Started\")"
   ]
  },
  {
   "cell_type": "code",
   "execution_count": 3,
   "metadata": {},
   "outputs": [
    {
     "name": "stdout",
     "output_type": "stream",
     "text": [
      "{'result': ['A2_Wortliste_Goethe', 'B1_Wortliste_DTZ_Goethe', 'Deutsch B1', 'Deutsch B1+', 'DW Nicos Weg B1', 'Standard'], 'error': None}\n"
     ]
    }
   ],
   "source": [
    "# Uses anki-connect to connect to anki\n",
    "response = requests.post('http://localhost:8765', data='{\"action\": \"deckNames\", \"version\": 6}', headers={'Content-type': 'application/json'})\n",
    "print(response.json())"
   ]
  },
  {
   "cell_type": "code",
   "execution_count": 4,
   "metadata": {},
   "outputs": [],
   "source": [
    "def invoke(method, **params):\n",
    "    request_data = json.dumps({\n",
    "        'action': method,\n",
    "        'params': params,\n",
    "        'version': 6\n",
    "    })\n",
    "\n",
    "    response = requests.post('http://localhost:8765', data=request_data)\n",
    "    response_data = json.loads(response.text)\n",
    "\n",
    "    if response_data.get('error'):\n",
    "        raise Exception(f\"Error: {response_data['error']}\")\n",
    "    else:\n",
    "        return response_data['result']"
   ]
  },
  {
   "cell_type": "code",
   "execution_count": 5,
   "metadata": {},
   "outputs": [],
   "source": [
    "reviewed_card_ids = invoke('findCards', query=f'rated:1')\n",
    "cards = invoke('cardsInfo', cards=reviewed_card_ids)"
   ]
  },
  {
   "cell_type": "code",
   "execution_count": 8,
   "metadata": {},
   "outputs": [
    {
     "ename": "Exception",
     "evalue": "Error: unsupported action",
     "output_type": "error",
     "traceback": [
      "\u001b[0;31m---------------------------------------------------------------------------\u001b[0m",
      "\u001b[0;31mException\u001b[0m                                 Traceback (most recent call last)",
      "Cell \u001b[0;32mIn[8], line 1\u001b[0m\n\u001b[0;32m----> 1\u001b[0m invoke(\u001b[39m'\u001b[39;49m\u001b[39mgetReviewsOfCards\u001b[39;49m\u001b[39m'\u001b[39;49m, cards\u001b[39m=\u001b[39;49m[\u001b[39m'\u001b[39;49m\u001b[39m1497484862085\u001b[39;49m\u001b[39m'\u001b[39;49m])\n",
      "Cell \u001b[0;32mIn[4], line 12\u001b[0m, in \u001b[0;36minvoke\u001b[0;34m(method, **params)\u001b[0m\n\u001b[1;32m      9\u001b[0m response_data \u001b[39m=\u001b[39m json\u001b[39m.\u001b[39mloads(response\u001b[39m.\u001b[39mtext)\n\u001b[1;32m     11\u001b[0m \u001b[39mif\u001b[39;00m response_data\u001b[39m.\u001b[39mget(\u001b[39m'\u001b[39m\u001b[39merror\u001b[39m\u001b[39m'\u001b[39m):\n\u001b[0;32m---> 12\u001b[0m     \u001b[39mraise\u001b[39;00m \u001b[39mException\u001b[39;00m(\u001b[39mf\u001b[39m\u001b[39m\"\u001b[39m\u001b[39mError: \u001b[39m\u001b[39m{\u001b[39;00mresponse_data[\u001b[39m'\u001b[39m\u001b[39merror\u001b[39m\u001b[39m'\u001b[39m]\u001b[39m}\u001b[39;00m\u001b[39m\"\u001b[39m)\n\u001b[1;32m     13\u001b[0m \u001b[39melse\u001b[39;00m:\n\u001b[1;32m     14\u001b[0m     \u001b[39mreturn\u001b[39;00m response_data[\u001b[39m'\u001b[39m\u001b[39mresult\u001b[39m\u001b[39m'\u001b[39m]\n",
      "\u001b[0;31mException\u001b[0m: Error: unsupported action"
     ]
    }
   ],
   "source": [
    "# Unsupported yet\n",
    "invoke('getReviewsOfCards', cards=['1497484862085'])"
   ]
  },
  {
   "cell_type": "code",
   "execution_count": 53,
   "metadata": {},
   "outputs": [],
   "source": [
    "comma_separated_repeated_words = ', '.join([card['fields']['Wort_DE']['value'] for card in cards])\n",
    "task = \"Create a short story in German for level B1 that helps you read the following words: \" + comma_separated_repeated_words"
   ]
  },
  {
   "cell_type": "code",
   "execution_count": 80,
   "metadata": {},
   "outputs": [
    {
     "data": {
      "text/plain": [
       "'Create a short story in German for level B1 that helps you read the following words: aussteigen, Bad, Bahnsteig, beschreiben, Doppelzimmer, dorther, einverstanden sein, Ende, erkältet sein, Fahrplan, Fahrrad, Führung, Frage, freundlich, gefährlich, Grippe, Gespräch, Haar, hinein, hoffen, Kaffee, Jugendherberge, Krimi, Kunde, Land, Lüge, laut, leben, leihen, Mensch, Mensch, Moment, Motor, merken, Müll, Müll, Messe, Museum, Museum, müssen, Mütze, Mütze, nach, mitbringen, mitmachen, mitnehmen, Nachbar, Nachbar, Nachbarin, Nachbarin, Nachricht, Nähe, Nähe, Natur, Natur, natürlich, nebenan, mögen, mögen, neblig, neblig, nehmen, nehmen, offen, offen, oft, nett, nett, Ohr, neu, online, nicht, nicht, nichts, Ordnung, niemand, Ort, Notiz, Paar, Paar, notwendig, packen, Nudel, Nummer, Papier, Papiere, Parfüm, Parfüm, Park, nützlich, Party, Party, Pass, oben, oben, Obst, Obst, passen, Passwort, Projekt, Projekt, Pause, Prospekt, Prospekt, prüfen, prüfen, Prüfung, Prüfung, Pullover, Pullover, Pizza, pünktlich, pünktlich, Plakat, Plakat, putzen, putzen, Plan, Platz, Platz, plötzlich, Qualität, Qualität, Quiz, Quiz, Pommes frites, Radio, Radio, raten, raten, Portion, Post, Post, Poster, Poster, Rathaus, Rathaus, Postkarte, Postleitzahl, rauchen, rauchen, Praktikum, Praktikum, Raum, Raum, praktisch, rechnen, rechnen, Praxis, Praxis, Rechnung, Rechnung, recht haben, recht haben, Preis, Preis, preiswert, preiswert, privat, privat, rechts, rechts, reden, reden, Regen, Regen, pro, pro, probieren, regnen, regnen, reich, reich, Problem, Problem, Reifen, Reifen, Produkt, Produkt, Reihe, Reihe, Programm, Programm, Reinigung, Reinigung, Reis, Reis, Reise, Reise, Reisebüro, Reisebüro, Reiseführer, Reiseführer, reisen, reisen, zuverlässig, Es ist lange Zeit her, Fazit, knapp, Eigentum, Vorort, Terasse, inklusive, abnehmen, abonnieren, berücksichtigen, König*in, Handwerker, Rasen, lecker, Durchschnittsalter'"
      ]
     },
     "execution_count": 80,
     "metadata": {},
     "output_type": "execute_result"
    }
   ],
   "source": [
    "task"
   ]
  },
  {
   "cell_type": "code",
   "execution_count": 55,
   "metadata": {},
   "outputs": [
    {
     "data": {
      "text/plain": [
       "<OpenAIObject chat.completion id=chatcmpl-73n8pllNufTJMuU5OljdXHkGJQ1ox at 0x1180bc5e0> JSON: {\n",
       "  \"choices\": [\n",
       "    {\n",
       "      \"finish_reason\": \"stop\",\n",
       "      \"index\": 0,\n",
       "      \"message\": {\n",
       "        \"content\": \"Es ist lange Zeit her, dass ich eine Reise gemacht habe. Doch vor kurzem hatte ich die Gelegenheit, an einer F\\u00fchrung in einem Museum teilzunehmen. Es war ein Krimi-Museum und ich bin ein gro\\u00dfer Fan von Krimis. Ich musste fr\\u00fch aufstehen und packen, bevor ich zur Jugendherberge ging. Der Morgen war neblig und ich musste aufpassen, als ich mit meinem Fahrrad zum Bahnhof fuhr. Zum Gl\\u00fcck war ich p\\u00fcnktlich auf dem Bahnsteig und konnte meinen Platz im Zug ergattern.\\n\\nIch hatte ein Doppelzimmer in der Jugendherberge gebucht und mein Nachbar war sehr nett. Bevor ich ausstieg, hatte ich noch ein kurzes Gespr\\u00e4ch mit ihm. Er sagte, dass er die Natur in dieser Gegend liebt und oft in der N\\u00e4he herumspaziert. Ich wollte ein paar Orte in dieser Gegend besuchen und fragte ihn nach einem Fahrplan. Dann musste ich aussteigen und ihm mein Zimmer zeigen, da er interessiert war. Wir waren einverstanden dar\\u00fcber.\\n\\nIch wollte das Museum besuchen und hatte mir vorgenommen, eine Notiz zu machen und ein paar Fotos zu machen. Ich nahm meine Papiere und fuhr mit der Bahn zum Museum. Als ich ankam bemerkte ich, dass das Museum inklusive einer F\\u00fchrung war. Der F\\u00fchrer beschrieb die verschiedenen Krimis der Vergangenheit und machte es sehr interessant. Ich bemerkte sogar eine Person mit einer M\\u00fctze, die sehr laut atmete und hustete. Der F\\u00fchrer sagte, dass es gef\\u00e4hrlich sei, w\\u00e4hrend der Grippe hierher zu kommen. Aber dieser Mensch war nicht in Ordnung und nahm keine R\\u00fccksicht.\\n\\nNachdem die F\\u00fchrung zu Ende war, kaufte ich eine Postkarte und schrieb eine Nachricht an meinen Nachbarn. Ich schrieb ihm, dass ich hoffe, dass er bald meine N\\u00e4he besucht und dass ich seine Gegend genossen habe. Dann machte ich eine Pause und trank einen Kaffee. Ich hatte auch Lust auf etwas leckeres zu essen und bestellte eine Portion Pommes frites.\\n\\nIch hatte noch ein paar Stunden Zeit, also beschloss ich, das Rathaus und den Park zu besuchen. Als ich im Park war, h\\u00f6rte ich ein Radio von einem Handwerker, der die Reinigung des Parks \\u00fcbernahm. Er hatte eine neue Methode, den M\\u00fcll aufzur\\u00e4umen und ich war beeindruckt. Er erkl\\u00e4rte mir seine Methode und ich merkte mir seinen Namen und seine Nummer.\\n\\nAls ich zum Bahnhof zur\\u00fcckkehrte, hatte ich einen Prospekt vom Reiseb\\u00fcro in der N\\u00e4he gefunden. Ich \\u00fcberlegte, ob ich eine Reise in dieses Land buchen sollte und dachte \\u00fcber die Qualit\\u00e4t des Hotels und den Preis nach. Ich ber\\u00fccksichtigte auch die Durchschnittsalter der Touristen. Ich hatte das Gef\\u00fchl, dass es n\\u00fctzlich sein k\\u00f6nnte, ein paar Vorschl\\u00e4ge vom Reiseb\\u00fcro zu bekommen.\\n\\nIch kaufte auch ein Poster von einem Motor und packte es in meine Tasche. Dann stieg ich in den Zug und fuhr zur\\u00fcck zur Jugendherberge. Als ich dort ankam, bemerkte ich, dass mein Gep\\u00e4ck offen war. Ich hoffte, dass nichts fehlte und pr\\u00fcfte alles. Gott sei Dank war alles in Ordnung.\\n\\nIch traf meinen Nachbarn sp\\u00e4ter in der Lobby und wir redeten \\u00fcber unsere Tage. Ich fragte ihn nach seinem Passwort zum WLAN und er gab es mir. Es war sehr nett von ihm und ich dankte ihm daf\\u00fcr. Ich hatte eine tolle Zeit und war sehr froh, die Reise gemacht zu haben. Am Ende war ich m\\u00fcde und zufrieden und ging auf meiner Terasse schlafen.\",\n",
       "        \"role\": \"assistant\"\n",
       "      }\n",
       "    }\n",
       "  ],\n",
       "  \"created\": 1681138239,\n",
       "  \"id\": \"chatcmpl-73n8pllNufTJMuU5OljdXHkGJQ1ox\",\n",
       "  \"model\": \"gpt-3.5-turbo-0301\",\n",
       "  \"object\": \"chat.completion\",\n",
       "  \"usage\": {\n",
       "    \"completion_tokens\": 854,\n",
       "    \"prompt_tokens\": 695,\n",
       "    \"total_tokens\": 1549\n",
       "  }\n",
       "}"
      ]
     },
     "execution_count": 55,
     "metadata": {},
     "output_type": "execute_result"
    }
   ],
   "source": [
    "result = openai.ChatCompletion.create(\n",
    "  model=\"gpt-3.5-turbo\",\n",
    "  messages=[\n",
    "        {\"role\": \"system\", \"content\": \"You are a German Tutor.\"},\n",
    "        {\"role\": \"user\", \"content\": task}\n",
    "    ]\n",
    ")\n",
    "content = result.to_dict_recursive()['choices'][0][\"message\"][\"content\"]"
   ]
  },
  {
   "cell_type": "code",
   "execution_count": 124,
   "metadata": {},
   "outputs": [],
   "source": [
    "test_result = openai.ChatCompletion.create(\n",
    "  model=\"gpt-3.5-turbo\",\n",
    "  messages=[\n",
    "        {\"role\": \"system\", \"content\": \"You are a German Tutor, generate a test for B1 language level for the following test.\"},\n",
    "        {\"role\": \"user\", \"content\": content}\n",
    "    ]\n",
    ")\n",
    "test_content = test_result.to_dict_recursive()['choices'][0][\"message\"][\"content\"]"
   ]
  },
  {
   "cell_type": "code",
   "execution_count": 125,
   "metadata": {},
   "outputs": [],
   "source": [
    "# save to file with the current datetime\n",
    "import datetime\n",
    "with open(f\"german-text-{datetime.datetime.now().strftime('%Y-%m-%d-%H-%M-%S')}.md\", \"w\") as f:\n",
    "    f.write(\"## Task:\\n\\n\")\n",
    "    f.write(task)\n",
    "    f.write(\"\\n\\n## Story:\\n\\n\")\n",
    "    f.write(content)\n",
    "    f.write(\"\\n\\n## Test\\n\")\n",
    "    f.write(test_content)\n"
   ]
  },
  {
   "cell_type": "code",
   "execution_count": null,
   "metadata": {},
   "outputs": [],
   "source": []
  }
 ],
 "metadata": {
  "kernelspec": {
   "display_name": "Python 3",
   "language": "python",
   "name": "python3"
  },
  "language_info": {
   "codemirror_mode": {
    "name": "ipython",
    "version": 3
   },
   "file_extension": ".py",
   "mimetype": "text/x-python",
   "name": "python",
   "nbconvert_exporter": "python",
   "pygments_lexer": "ipython3",
   "version": "3.10.10"
  },
  "orig_nbformat": 4
 },
 "nbformat": 4,
 "nbformat_minor": 2
}
