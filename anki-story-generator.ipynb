{
 "cells": [
  {
   "attachments": {},
   "cell_type": "markdown",
   "metadata": {},
   "source": []
  },
  {
   "cell_type": "code",
   "execution_count": 1,
   "metadata": {},
   "outputs": [
    {
     "name": "stdout",
     "output_type": "stream",
     "text": [
      "Started\n"
     ]
    }
   ],
   "source": [
    "import requests\n",
    "import json\n",
    "import openai\n",
    "\n",
    "openai.api_key = open(\".tokens/openai\", \"r\").read()\n",
    "print(\"Started\")"
   ]
  },
  {
   "cell_type": "code",
   "execution_count": 3,
   "metadata": {},
   "outputs": [
    {
     "name": "stdout",
     "output_type": "stream",
     "text": [
      "{'result': ['A2_Wortliste_Goethe', 'B1_Wortliste_DTZ_Goethe', 'Deutsch B1', 'Deutsch B1+', 'DW Nicos Weg B1', 'Standard'], 'error': None}\n"
     ]
    }
   ],
   "source": [
    "# Uses anki-connect to connect to anki\n",
    "response = requests.post('http://localhost:8765', data='{\"action\": \"deckNames\", \"version\": 6}', headers={'Content-type': 'application/json'})\n",
    "print(response.json())"
   ]
  },
  {
   "cell_type": "code",
   "execution_count": 4,
   "metadata": {},
   "outputs": [],
   "source": [
    "def invoke(method, **params):\n",
    "    request_data = json.dumps({\n",
    "        'action': method,\n",
    "        'params': params,\n",
    "        'version': 6\n",
    "    })\n",
    "\n",
    "    response = requests.post('http://localhost:8765', data=request_data)\n",
    "    response_data = json.loads(response.text)\n",
    "\n",
    "    if response_data.get('error'):\n",
    "        raise Exception(f\"Error: {response_data['error']}\")\n",
    "    else:\n",
    "        return response_data['result']"
   ]
  },
  {
   "cell_type": "code",
   "execution_count": 5,
   "metadata": {},
   "outputs": [
    {
     "name": "stdout",
     "output_type": "stream",
     "text": [
      "42\n"
     ]
    }
   ],
   "source": [
    "# https://foosoft.net/projects/anki-connect/index.html -> documentation for anki-connect\n",
    "# https://docs.ankiweb.net/searching.html -> documentation for anki search queries\n",
    "\n",
    "# prop:ivl<=20 means that they should have less than 20 days of interval\n",
    "# rated:1:2 -> cards answered hard today\n",
    "query = f'rated:1:2'\n",
    "# rated:1 -> cards rated today\n",
    "# rated:7 -> cards rated in the last 7 days\n",
    "# introduced:1 -> cards introduced today\n",
    "# query = f'introduced:1'\n",
    "# query = f'rated:1:2 introduced:1'\n",
    "\n",
    "reviewed_card_ids = invoke('findCards', query=query)\n",
    "cards = invoke('cardsInfo', cards=reviewed_card_ids)\n",
    "print(len(cards))"
   ]
  },
  {
   "cell_type": "code",
   "execution_count": 6,
   "metadata": {},
   "outputs": [
    {
     "name": "stdout",
     "output_type": "stream",
     "text": [
      "Create a short story in German for level B1 that helps you remember the following words: trainieren, Schloss, schlecht, Torte, Topf, Stock, fair, Poster, Ohr, Tee, anschaffen, Stück, Prospekt, stattfinden, Stipendium, nirgends, Tour, Tipp, Leiter, Stelle, Nachricht, schaffen, Ausland, Person, Text, plötzlich, ausfüllen, Preis, Tafel, Aufenthalt, Freie, streng, im Freien, Service, Laptop, Theater, Training, häufig, zussamen\n"
     ]
    }
   ],
   "source": [
    "comma_separated_repeated_words = ', '.join({card['fields']['Wort_DE']['value'] for card in cards})\n",
    "task = \"Create a short story in German for level B1 that helps you remember the following words: \" + comma_separated_repeated_words\n",
    "print(task)"
   ]
  },
  {
   "cell_type": "code",
   "execution_count": 7,
   "metadata": {},
   "outputs": [],
   "source": [
    "result = openai.ChatCompletion.create(\n",
    "  model=\"gpt-3.5-turbo\",\n",
    "  messages=[\n",
    "        {\"role\": \"system\", \"content\": \"You are a German Tutor.\"},\n",
    "        {\"role\": \"user\", \"content\": task}\n",
    "    ]\n",
    ")\n",
    "content = result.to_dict_recursive()['choices'][0][\"message\"][\"content\"]"
   ]
  },
  {
   "cell_type": "code",
   "execution_count": 10,
   "metadata": {},
   "outputs": [],
   "source": [
    "test_result = openai.ChatCompletion.create(\n",
    "  model=\"gpt-3.5-turbo\",\n",
    "  messages=[\n",
    "        # Original message in english: You are a German Tutor, generate a test for B1 language level for the following text. Please include reading comprehension, grammar and essay parts in the test.\n",
    "        {\"role\": \"system\", \"content\": \"Sie sind Deutschlehrer und erstellen einen Test für das Sprachniveau B1 für den folgenden Text. Bitte nehmen Sie Leseverständnis, Grammatik und Aufsatzteile (ein Brief) in den Test auf.\"},\n",
    "        {\"role\": \"user\", \"content\": content}\n",
    "    ]\n",
    ")\n",
    "test_content = test_result.to_dict_recursive()['choices'][0][\"message\"][\"content\"]"
   ]
  },
  {
   "cell_type": "code",
   "execution_count": 9,
   "metadata": {},
   "outputs": [],
   "source": [
    "# save to file with the current datetime\n",
    "import datetime\n",
    "with open(f\"german-text-{datetime.datetime.now().strftime('%Y-%m-%d-%H-%M-%S')}.md\", \"w\") as f:\n",
    "    f.write(\"## Task:\\n\\n\")\n",
    "    f.write(task)\n",
    "    f.write(\"\\n\\n## Story:\\n\\n\")\n",
    "    f.write(content)\n",
    "    f.write(\"\\n\\n## Test\\n\")\n",
    "    f.write(test_content)\n"
   ]
  },
  {
   "cell_type": "code",
   "execution_count": null,
   "metadata": {},
   "outputs": [],
   "source": []
  }
 ],
 "metadata": {
  "kernelspec": {
   "display_name": "Python 3",
   "language": "python",
   "name": "python3"
  },
  "language_info": {
   "codemirror_mode": {
    "name": "ipython",
    "version": 3
   },
   "file_extension": ".py",
   "mimetype": "text/x-python",
   "name": "python",
   "nbconvert_exporter": "python",
   "pygments_lexer": "ipython3",
   "version": "3.10.10"
  },
  "orig_nbformat": 4
 },
 "nbformat": 4,
 "nbformat_minor": 2
}
