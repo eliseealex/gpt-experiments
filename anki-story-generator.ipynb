{
 "cells": [
  {
   "attachments": {},
   "cell_type": "markdown",
   "metadata": {},
   "source": []
  },
  {
   "cell_type": "code",
   "execution_count": 2,
   "metadata": {},
   "outputs": [
    {
     "name": "stdout",
     "output_type": "stream",
     "text": [
      "Started\n"
     ]
    }
   ],
   "source": [
    "import requests\n",
    "import json\n",
    "import openai\n",
    "  \n",
    "openai.api_key = open(\".tokens/openai\", \"r\").read()\n",
    "print(\"Started\")"
   ]
  },
  {
   "cell_type": "code",
   "execution_count": 3,
   "metadata": {},
   "outputs": [
    {
     "name": "stdout",
     "output_type": "stream",
     "text": [
      "{'result': ['A2_Wortliste_Goethe', 'B1_Wortliste_DTZ_Goethe', 'Deutsch B1', 'Deutsch B1+', 'DW Nicos Weg B1', 'Standard'], 'error': None}\n"
     ]
    }
   ],
   "source": [
    "# Uses anki-connect to connect to anki\n",
    "response = requests.post('http://localhost:8765', data='{\"action\": \"deckNames\", \"version\": 6}', headers={'Content-type': 'application/json'})\n",
    "print(response.json())"
   ]
  },
  {
   "cell_type": "code",
   "execution_count": 4,
   "metadata": {},
   "outputs": [],
   "source": [
    "def invoke(method, **params):\n",
    "    request_data = json.dumps({\n",
    "        'action': method,\n",
    "        'params': params,\n",
    "        'version': 6\n",
    "    })\n",
    "\n",
    "    response = requests.post('http://localhost:8765', data=request_data)\n",
    "    response_data = json.loads(response.text)\n",
    "\n",
    "    if response_data.get('error'):\n",
    "        raise Exception(f\"Error: {response_data['error']}\")\n",
    "    else:\n",
    "        return response_data['result']"
   ]
  },
  {
   "cell_type": "code",
   "execution_count": 48,
   "metadata": {},
   "outputs": [
    {
     "name": "stdout",
     "output_type": "stream",
     "text": [
      "51\n"
     ]
    }
   ],
   "source": [
    "# prop:ivl<=20 means that they should have less than 20 days of interval\n",
    "# rated:1:2 -> cards answered hard today\n",
    "# rated:1 -> cards rated today\n",
    "# rated:7 -> cards rated in the last 7 days\n",
    "# introduced:1 -> cards introduced today\n",
    "reviewed_card_ids = invoke('findCards', query=f'rated:1:2')\n",
    "cards = invoke('cardsInfo', cards=reviewed_card_ids)\n",
    "print(len(cards))"
   ]
  },
  {
   "cell_type": "code",
   "execution_count": 49,
   "metadata": {},
   "outputs": [],
   "source": [
    "# Unsupported yet\n",
    "# invoke('getReviewsOfCards', cards=['1497484862085'])"
   ]
  },
  {
   "cell_type": "code",
   "execution_count": 51,
   "metadata": {},
   "outputs": [
    {
     "name": "stdout",
     "output_type": "stream",
     "text": [
      "Create a short story in German for level B1 that helps you read the following words: Qualität, Reise, nehmen, Messe, Bahnsteig, Quiz, Poster, zuverlässig, Fahrplan, oft, mitnehmen, reden, Parfüm, abonnieren, notwendig, neblig, aussteigen, Terasse, passen, Papier, nichts, Platz, Problem, Paar, dorther, Kunde, Reis, Park, Preis, Prospekt, hinein, Vorort, knapp, plötzlich, Nachbar, Produkt, nützlich, Radio, preiswert, Reifen, Praktikum, Nummer, Ort, abnehmen, Museum, nett\n"
     ]
    }
   ],
   "source": [
    "comma_separated_repeated_words = ', '.join({card['fields']['Wort_DE']['value'] for card in cards})\n",
    "task = \"Create a short story in German for level B1 that helps you read the following words: \" + comma_separated_repeated_words\n",
    "print(task)"
   ]
  },
  {
   "cell_type": "code",
   "execution_count": 43,
   "metadata": {},
   "outputs": [],
   "source": [
    "result = openai.ChatCompletion.create(\n",
    "  model=\"gpt-3.5-turbo\",\n",
    "  messages=[\n",
    "        {\"role\": \"system\", \"content\": \"You are a German Tutor.\"},\n",
    "        {\"role\": \"user\", \"content\": task}\n",
    "    ]\n",
    ")\n",
    "content = result.to_dict_recursive()['choices'][0][\"message\"][\"content\"]"
   ]
  },
  {
   "cell_type": "code",
   "execution_count": 46,
   "metadata": {},
   "outputs": [],
   "source": [
    "test_result = openai.ChatCompletion.create(\n",
    "  model=\"gpt-3.5-turbo\",\n",
    "  messages=[\n",
    "        {\"role\": \"system\", \"content\": \"You are a German Tutor, generate a test for B1 language level for the following test.\"},\n",
    "        {\"role\": \"user\", \"content\": content}\n",
    "    ]\n",
    ")\n",
    "test_content = test_result.to_dict_recursive()['choices'][0][\"message\"][\"content\"]"
   ]
  },
  {
   "cell_type": "code",
   "execution_count": 47,
   "metadata": {},
   "outputs": [],
   "source": [
    "# save to file with the current datetime\n",
    "import datetime\n",
    "with open(f\"german-text-{datetime.datetime.now().strftime('%Y-%m-%d-%H-%M-%S')}.md\", \"w\") as f:\n",
    "    f.write(\"## Task:\\n\\n\")\n",
    "    f.write(task)\n",
    "    f.write(\"\\n\\n## Story:\\n\\n\")\n",
    "    f.write(content)\n",
    "    f.write(\"\\n\\n## Test\\n\")\n",
    "    f.write(test_content)\n"
   ]
  },
  {
   "cell_type": "code",
   "execution_count": null,
   "metadata": {},
   "outputs": [],
   "source": []
  }
 ],
 "metadata": {
  "kernelspec": {
   "display_name": "Python 3",
   "language": "python",
   "name": "python3"
  },
  "language_info": {
   "codemirror_mode": {
    "name": "ipython",
    "version": 3
   },
   "file_extension": ".py",
   "mimetype": "text/x-python",
   "name": "python",
   "nbconvert_exporter": "python",
   "pygments_lexer": "ipython3",
   "version": "3.10.10"
  },
  "orig_nbformat": 4
 },
 "nbformat": 4,
 "nbformat_minor": 2
}
