{
 "cells": [
  {
   "cell_type": "code",
   "execution_count": 2,
   "metadata": {},
   "outputs": [
    {
     "name": "stdout",
     "output_type": "stream",
     "text": [
      "Started\n"
     ]
    }
   ],
   "source": [
    "import requests\n",
    "import json\n",
    "import openai\n",
    "\n",
    "openai.api_key = open(\".tokens/openai\", \"r\").read()\n",
    "print(\"Started\")"
   ]
  },
  {
   "cell_type": "code",
   "execution_count": 3,
   "metadata": {},
   "outputs": [
    {
     "name": "stdout",
     "output_type": "stream",
     "text": [
      "{'result': ['Driving License', 'Driving License Other Side', 'English', 'German', 'German::A2_Wortliste_Goethe', 'German::B1_Wortliste_DTZ_Goethe', 'German::Deutsch B1', 'German::Deutsch B1+', 'German::DW Nicos Weg B1', 'Medizin', 'Standard'], 'error': None}\n"
     ]
    }
   ],
   "source": [
    "# Uses anki-connect to connect to anki\n",
    "response = requests.post('http://localhost:8765', data='{\"action\": \"deckNames\", \"version\": 6}', headers={'Content-type': 'application/json'})\n",
    "print(response.json())"
   ]
  },
  {
   "cell_type": "code",
   "execution_count": 4,
   "metadata": {},
   "outputs": [],
   "source": [
    "def invoke(method, **params):\n",
    "    request_data = json.dumps({\n",
    "        'action': method,\n",
    "        'params': params,\n",
    "        'version': 6\n",
    "    })\n",
    "\n",
    "    response = requests.post('http://localhost:8765', data=request_data)\n",
    "    response_data = json.loads(response.text)\n",
    "    print(response_data)\n",
    "\n",
    "    if response_data.get('error'):\n",
    "        raise Exception(f\"Error: {response_data['error']}\")\n",
    "    else:\n",
    "        return response_data['result']\n",
    "\n",
    "def clean_content(markdown: str):\n",
    "    # this method extracts the code from the markdown and returns only the code from the markdown string\n",
    "\n",
    "    result = \"\"\n",
    "    in_code = False\n",
    "    for line in markdown.split(\"\\n\"):\n",
    "        if line.startswith(\"```\"):\n",
    "            in_code = not in_code\n",
    "        elif in_code:\n",
    "            result += line + \"\\n\"\n",
    "    return result"
   ]
  },
  {
   "cell_type": "code",
   "execution_count": 5,
   "metadata": {},
   "outputs": [],
   "source": [
    "task_template = \"\"\"\n",
    "You create cards for Spaced Repetition to for a learner of german as a foreign language (level B1), these cards will be used in the context of preparation for the doctor appointment, please use this context, whenever it could help.\n",
    "\n",
    "There is an existing structure for cards, for example:\n",
    "\n",
    "```json\n",
    "[    \n",
    "    {\n",
    "        \"Wort_DE\": \"Termin\",\n",
    "        \"Wort_EN\": \"appointment\",\n",
    "        \"Bedeutung\": \"eine verabredete Zeit für eine bestimmte Tätigkeit oder ein Ereignis\",\n",
    "        \"Artikel\": \"der\",\n",
    "        \"Plural\": \"-e\",\n",
    "        \"Satz1_DE\": \"Ich würde gern bei Ihnen einen Termin vereinbaren.\",\n",
    "        \"Satz1_EN\": \"I would like to make an appointment with you.\",\n",
    "        \"Satz2_DE\": \"Haben Sie für nächste Woche noch einen freien Termin?\",\n",
    "        \"Satz2_EN\": \"Do you have a free appointment next week?\",\n",
    "        \"Hinweis\": \"Es ist oft nötig, im Voraus einen Termin beim Arzt zu vereinbaren, besonders wenn es sich nicht um einen Notfall handelt.\"\n",
    "    },\n",
    "    {\n",
    "        \"Wort_DE\": \"um ... gehen\",\n",
    "        \"Wort_EN\": \"be about, concern\",\n",
    "        \"Bedeutung\": \"sich mit einer bestimmten Sache befassen oder auf sie beziehen\",\n",
    "        \"Satz1_DE\": \"Worum geht's?\",\n",
    "        \"Satz1_EN\": \"What's it about?\",\n",
    "        \"Satz2_DE\": \"Worum geht es in diesem Film?\",\n",
    "        \"Satz2_EN\": \"What is this movie about?\",\n",
    "        \"Hinweis\": \"Diese Frage wird oft genutzt, um den Grund für etwas zu erfahren, zum Beispiel bei einem Arztbesuch das Anliegen des Patienten.\"\n",
    "    }\n",
    "]\n",
    "```\n",
    "\n",
    "Please use B1 Language level in the Bedeutung section.\n",
    "\n",
    "Please add any information relevant for the doctor appointment and relevant information in the \"hinweis\" field, whatever is connected with a given word, and could help in preparation for the exam.\n",
    "\n",
    "Please convert words to the infinitive form (verbs to infinitive, nouns to the singular and whatever else is applicable). But please, don't change the sentences and phrases that consist of multiple words.\n",
    "\n",
    "Use the same JSON structure for the new words and phrases:\n",
    "\"\"\""
   ]
  },
  {
   "cell_type": "code",
   "execution_count": 17,
   "metadata": {},
   "outputs": [],
   "source": [
    "cards_to_create_string = \"\"\"\n",
    "\n",
    "\"\"\"\n",
    "\n",
    "# Split by lines and remove empty lines\n",
    "cards_to_create = [line for line in cards_to_create_string.split(\"\\n\") if line != \"\"]"
   ]
  },
  {
   "cell_type": "code",
   "execution_count": 19,
   "metadata": {},
   "outputs": [
    {
     "name": "stdout",
     "output_type": "stream",
     "text": [
      "[{'Wort_DE': 'andauernder Schmerz', 'Wort_EN': 'persistent pain', 'Bedeutung': 'Schmerz, der ununterbrochen über eine längere Zeit hinweg besteht', 'Artikel': 'der', 'Plural': '-en', 'Satz1_DE': 'Ich habe einen andauernden Schmerz in meinem Rücken.', 'Satz1_EN': 'I have a persistent pain in my back.', 'Satz2_DE': 'Der Arzt fragt, ob der Schmerz andauernd ist oder kommt und geht.', 'Satz2_EN': 'The doctor asks if the pain is persistent or comes and goes.', 'Hinweis': 'Bei der Beschreibung von Symptomen ist es wichtig, die Dauer und Konstanz des Schmerzes zu erwähnen.'}, {'Wort_DE': 'stechender Schmerz', 'Wort_EN': 'stabbing pain', 'Bedeutung': 'scharfer, intensiver Schmerz, der plötzlich und intensiv empfunden wird', 'Artikel': 'der', 'Plural': '-en', 'Satz1_DE': 'Ich verspüre einen stechenden Schmerz im Brustbereich.', 'Satz1_EN': 'I feel a stabbing pain in the chest area.', 'Satz2_DE': 'Bei bestimmten Bewegungen tritt ein stechender Schmerz in meinem Knie auf.', 'Satz2_EN': 'A stabbing pain occurs in my knee with certain movements.', 'Hinweis': 'Die Art des Schmerzes zu beschreiben kann dem Arzt helfen, die Ursache besser zu verstehen.'}, {'Wort_DE': 'heftiger Schmerz', 'Wort_EN': 'severe pain', 'Bedeutung': 'sehr starker und intensiver Schmerz', 'Artikel': 'der', 'Plural': '-en', 'Satz1_DE': 'Plötzlich spürte ich einen heftigen Schmerz im Unterleib.', 'Satz1_EN': 'Suddenly, I felt a severe pain in the lower abdomen.', 'Satz2_DE': 'Kannst du mir ein Medikament gegen heftige Schmerzen geben?', 'Satz2_EN': 'Can you give me a medication for severe pain?', 'Hinweis': 'Heftige Schmerzen sollten schnellstmöglich einem Arzt gemeldet werden.'}, {'Wort_DE': 'intensiver Schmerz', 'Wort_EN': 'intense pain', 'Bedeutung': 'extrem starker Schmerz, der schwer zu ertragen ist', 'Artikel': 'der', 'Plural': '-en', 'Satz1_DE': 'Nach der Operation leide ich unter intensivem Schmerz.', 'Satz1_EN': 'After the surgery, I am suffering from intense pain.', 'Satz2_DE': 'Sie beschreibt ihren Kopfschmerz als intensiv und pulsierend.', 'Satz2_EN': 'She describes her headache as intense and throbbing.', 'Hinweis': 'Die Intensität des Schmerzes ist ein wichtiges Detail, das dem Arzt bei der Diagnose hilft.'}]\n",
      "{'result': 1705524007787, 'error': None}\n",
      "{'result': 1705524007848, 'error': None}\n",
      "{'result': 1705524007859, 'error': None}\n",
      "{'result': 1705524007883, 'error': None}\n",
      "[{'Wort_DE': 'starker Schmerz', 'Wort_EN': 'severe pain', 'Bedeutung': 'ein sehr unangenehmes körperliches Gefühl, das stark und oft schwer zu ertragen ist', 'Artikel': 'der', 'Plural': '-en', 'Satz1_DE': 'Ich habe einen starken Schmerz im Rücken.', 'Satz1_EN': 'I have severe pain in my back.', 'Satz2_DE': 'Wegen des starken Schmerzes konnte ich nicht schlafen.', 'Satz2_EN': \"Because of the severe pain, I couldn't sleep.\", 'Hinweis': 'Angaben über die Stärke des Schmerzes sind wichtig, damit der Arzt die Ursache richtig diagnostizieren kann.'}, {'Wort_DE': 'brennender Schmerz', 'Wort_EN': 'burning pain', 'Bedeutung': 'ein Gefühl von Schmerz, das wie Feuer oder Hitze auf einer Haut- oder Körperstelle scheint', 'Artikel': 'der', 'Plural': '-en', 'Satz1_DE': 'Ich verspüre einen brennenden Schmerz, wenn ich uriniere.', 'Satz1_EN': 'I feel a burning pain when I urinate.', 'Satz2_DE': 'Hast du irgendwelche Cremes aufgetragen, die einen brennenden Schmerz verursachen könnten?', 'Satz2_EN': 'Have you applied any creams that might cause a burning pain?', 'Hinweis': 'Beschreibung der Schmerzart kann für Diagnosen wichtig sein, wie zum Beispiel eine Blasenentzündung.'}, {'Wort_DE': 'vorbeugen', 'Wort_EN': 'to prevent, to bend forward, to forestall', 'Bedeutung': 'Maßnahmen ergreifen, um etwas Schädliches zu verhindern oder um sich nach vorn zu beugen', 'Verbformen': 'beugt vor, beugte vor, hat vorgebeugt', 'Satz1_DE': 'Durch regelmäßige Bewegung kann man vielen Krankheiten vorbeugen.', 'Satz1_EN': 'Regular exercise can prevent many diseases.', 'Satz2_DE': 'Man sollte immer versuchen, Unfällen vorzubeugen.', 'Satz2_EN': 'One should always try to prevent accidents.', 'Satz3_DE': 'Der Arzt sagte, dass man durch eine gesunde Ernährung vielen Beschwerden vorbeugen kann.', 'Satz3_EN': 'The doctor said that many complaints can be prevented with a healthy diet.', 'Hinweis': 'Vorbeugung ist ein wichtiger Teil der Gesundheitsfürsorge, und Ärzte geben oft Ratschläge zur Vorbeugung von Krankheiten.'}, {'Wort_DE': 'Allgemeinarzt', 'Wort_EN': 'general practitioner (GP), family doctor', 'Bedeutung': 'ein Arzt, der sich auf keine bestimmte medizinische Fachrichtung spezialisiert hat und Grundversorgung anbietet', 'Artikel': 'der', 'Plural': '-ärzte', 'Satz1_DE': 'Bei allgemeinen Gesundheitsproblemen sollte man zuerst den Allgemeinarzt aufsuchen.', 'Satz1_EN': 'For general health issues, one should first consult the general practitioner.', 'Satz2_DE': 'Mein Allgemeinarzt hat mich an einen Spezialisten überwiesen.', 'Satz2_EN': 'My general practitioner referred me to a specialist.', 'Hinweis': 'Der Allgemeinarzt ist oft die erste Anlaufstelle bei Gesundheitsproblemen und kann Patienten an Fachärzte überweisen.'}]\n",
      "{'result': 1705524041968, 'error': None}\n",
      "{'result': 1705524042005, 'error': None}\n",
      "{'result': 1705524042031, 'error': None}\n",
      "{'result': 1705524042055, 'error': None}\n",
      "[{'Wort_DE': 'zuständig', 'Wort_EN': 'responsible, in charge', 'Bedeutung': 'die Verantwortung für einen bestimmten Bereich oder eine Aufgabe haben', 'Verbformen': 'ist zuständig, war zuständig, ist zuständig gewesen', 'Satz1_DE': 'Der Hausarzt ist für die Erstuntersuchung zuständig.', 'Satz1_EN': 'The general practitioner is responsible for the initial examination.', 'Satz2_DE': 'Für technische Fragen ist unser IT-Abteilung zuständig.', 'Satz2_EN': 'Our IT department is responsible for technical questions.', 'Hinweis': 'Wenn man zum Arzt geht, ist oftmals der Hausarzt der erste Ansprechpartner. Er entscheidet, ob eine Überweisung zu einem Facharzt notwendig ist.'}, {'Wort_DE': 'Facharzt', 'Wort_EN': 'specialist doctor', 'Bedeutung': 'ein Arzt mit einer zusätzlichen spezialisierten Ausbildung in einem bestimmten Bereich der Medizin', 'Artikel': 'der', 'Plural': 'Fachärzte', 'Satz1_DE': 'Mein Hausarzt hat mir eine Überweisung zum Facharzt gegeben.', 'Satz1_EN': 'My general practitioner gave me a referral to the specialist.', 'Satz2_DE': 'Ich habe morgen einen Termin bei einem Facharzt für Dermatologie.', 'Satz2_EN': 'I have an appointment with a specialist in dermatology tomorrow.', 'Hinweis': 'Fachärzte benötigen eine Überweisung vom Hausarzt. Es ist wichtig, den Termin bei einem Facharzt vorzubereiten und Fragen zu Beschwerden klar zu formulieren.'}, {'Wort_DE': 'beschäftigen', 'Wort_EN': 'to occupy, engage, concern, employ', 'Bedeutung': 'sich mit jemandem oder etwas gedanklich auseinandersetzen oder seine Aufmerksamkeit auf etwas richten', 'Verbformen': 'beschäftigt, beschäftigte, hat beschäftigt', 'Satz1_DE': \"Der Arzt fragt: 'Was beschäftigt Sie?'\", 'Satz1_EN': \"The doctor asks, 'What's on your mind?'\", 'Satz2_DE': 'Die neuen Projekte beschäftigen unser Team voll und ganz.', 'Satz2_EN': 'The new projects fully occupy our team.', 'Hinweis': 'Bei einem Arzttermin ist es nützlich, vorab zu überlegen, welche Symptome oder Sorgen man besprechen möchte.'}, {'Wort_DE': 'Überweisung', 'Wort_EN': 'referral, bank transfer', 'Bedeutung': 'ein Dokument oder eine elektronische Mitteilung, die einen Patienten an einen Spezialisten sendet, oder eine elektronische Zahlung macht', 'Artikel': 'die', 'Plural': 'Überweisungen', 'Satz1_DE': 'Für den Besuch beim Facharzt benötige ich eine Überweisung von meinem Hausarzt.', 'Satz1_EN': 'I need a referral from my general practitioner to see a specialist.', 'Satz2_DE': 'Ich habe die Überweisung verloren. Kann ich eine neue bekommen?', 'Satz2_EN': 'I lost the referral. Can I get a new one?', 'Hinweis': 'Eine Überweisung ist oft notwendig, um einen Termin bei einem Facharzt zu bekommen. Man sollte diese nicht verlieren, da sie für den Facharzt wichtig ist.'}]\n",
      "{'result': 1705524107413, 'error': None}\n",
      "{'result': 1705524107466, 'error': None}\n",
      "{'result': 1705524107479, 'error': None}\n",
      "{'result': 1705524107515, 'error': None}\n",
      "[{'Wort_DE': 'Termin', 'Wort_EN': 'appointment', 'Bedeutung': 'eine verabredete Zeit für eine bestimmte Tätigkeit oder ein Ereignis', 'Artikel': 'der', 'Plural': '-e', 'Satz1_DE': 'Ich würde gern bei Ihnen einen Termin vereinbaren.', 'Satz1_EN': 'I would like to make an appointment with you.', 'Satz2_DE': 'Haben Sie für nächste Woche noch einen freien Termin?', 'Satz2_EN': 'Do you have a free appointment next week?', 'Hinweis': 'Es ist oft nötig, im Voraus einen Termin beim Arzt zu vereinbaren, besonders wenn es sich nicht um einen Notfall handelt.'}, {'Wort_DE': 'um ... gehen', 'Wort_EN': 'be about, concern', 'Bedeutung': 'sich mit einer bestimmten Sache befassen oder auf sie beziehen', 'Satz1_DE': \"Worum geht's?\", 'Satz1_EN': \"What's it about?\", 'Satz2_DE': 'Worum geht es in diesem Film?', 'Satz2_EN': 'What is this movie about?', 'Hinweis': 'Diese Frage wird oft genutzt, um den Grund für etwas zu erfahren, zum Beispiel bei einem Arztbesuch das Anliegen des Patienten.'}, {'Wort_DE': 'Schmerz', 'Wort_EN': 'pain', 'Bedeutung': 'ein unangenehmes Gefühl, das durch eine Verletzung oder Krankheit verursacht wird', 'Artikel': 'der', 'Plural': '-en', 'Satz1_DE': 'Seit ein paar Wochen habe ich relativ starke Schmerzen im Herzbereich und würde mich gerne untersuchen lassen.', 'Satz1_EN': 'I have been experiencing quite strong pains in the chest area for a few weeks and would like to get it checked.', 'Satz2_DE': 'Ich habe starke Schmerzen im Rücken.', 'Satz2_EN': 'I have severe back pain.', 'Hinweis': 'Bei der Beschreibung von Schmerzen ist es wichtig, die Intensität und Lokalisation genau zu benennen, damit der Arzt eine angemessene Diagnose stellen kann.'}, {'Wort_DE': 'Untersuchung', 'Wort_EN': 'examination, investigation', 'Bedeutung': 'das genaue Betrachten oder Überprüfen, um Informationen über den Zustand von etwas zu erhalten', 'Artikel': 'die', 'Plural': '-en', 'Satz1_DE': 'Seit ein paar Wochen habe ich relativ starke Schmerzen im Herzbereich und würde mich gerne untersuchen lassen.', 'Satz1_EN': 'I have been experiencing quite strong pains in the chest area for a few weeks and would like to get it checked.', 'Satz2_DE': 'Die Untersuchung durch den Arzt dauerte nur wenige Minuten.', 'Satz2_EN': \"The doctor's examination only lasted a few minutes.\", 'Hinweis': 'Eine ärztliche Untersuchung ist oft der erste Schritt zur Diagnosefindung und Behandlung. Bei gesundheitlichen Beschwerden sollte man nicht zögern, eine Untersuchung anzufordern.'}, {'Wort_DE': 'Überweisung', 'Wort_EN': 'referral', 'Bedeutung': 'eine Empfehlung, die von einem Arzt ausgestellt wird, damit der Patient zu einem Spezialisten gehen kann', 'Artikel': 'die', 'Plural': '-en', 'Satz1_DE': 'Seit ein paar Wochen habe ich relativ starke Schmerzen im Herzbereich und habe auch eine Überweisung.', 'Satz1_EN': 'I have been experiencing quite strong pains in the chest area for a few weeks and I also have a referral.', 'Satz2_DE': 'Mit dieser Überweisung können Sie direkt zum Facharzt gehen.', 'Satz2_EN': 'With this referral, you can go directly to a specialist.', 'Hinweis': 'Eine Überweisung wird benötigt, um bei bestimmten Fachärzten einen Termin zu bekommen. Der Hausarzt stellt sie aus, wenn er denkt, dass eine spezialisierte Untersuchung notwendig ist.'}, {'Wort_DE': 'Arztpraxis', 'Wort_EN': \"doctor's office\", 'Bedeutung': 'ein Ort, an dem Ärzte ihre Patienten sehen und behandeln', 'Artikel': 'die', 'Plural': '-praxen', 'Satz1_DE': 'Ich muss morgen in die Arztpraxis, um meinen Husten zu kontrollieren.', 'Satz1_EN': \"I have to go to the doctor's office tomorrow to check on my cough.\", 'Satz2_DE': 'In der Arztpraxis war es sehr voll, und ich musste lange warten.', 'Satz2_EN': \"The doctor's office was very busy, and I had to wait a long time.\", 'Hinweis': 'Es ist üblich, vor einem Praxisbesuch anzurufen oder online einen Termin zu vereinbaren, um Wartezeiten zu vermeiden.'}]\n",
      "{'result': 1705524146637, 'error': None}\n",
      "{'result': 1705524146657, 'error': None}\n",
      "{'result': 1705524146681, 'error': None}\n",
      "{'result': 1705524146704, 'error': None}\n",
      "{'result': 1705524146729, 'error': None}\n",
      "{'result': 1705524146755, 'error': None}\n"
     ]
    }
   ],
   "source": [
    "# We are splitting list on 4 elements chunks\n",
    "# and then we are creating a list of lists\n",
    "cards_to_create_chunks = [cards_to_create[x:x+4] for x in range(0, len(cards_to_create), 4)]\n",
    "\n",
    "for chunk in cards_to_create_chunks:\n",
    "    task = task_template + \"\\n\".join(chunk)\n",
    "\n",
    "    result = openai.ChatCompletion.create(\n",
    "    model=\"gpt-4-1106-preview\",\n",
    "    messages=[\n",
    "            {\"role\": \"user\", \"content\": task}\n",
    "        ]\n",
    "    )\n",
    "    content = result.to_dict_recursive()['choices'][0][\"message\"][\"content\"]\n",
    "\n",
    "    # print(content)\n",
    "    cleaned_result = clean_content(content)\n",
    "    # print(cleaned_result)\n",
    "    new_words = json.loads(cleaned_result)\n",
    "    print(new_words)\n",
    "\n",
    "    # Remove None fields\n",
    "    for word in new_words:\n",
    "        for key in list(word.keys()):\n",
    "            if word[key] is None:\n",
    "                del word[key]\n",
    "        invoke('addNote', \n",
    "        note={\n",
    "            'deckName': 'Medizin', \n",
    "            'modelName': 'Deutsch, Englisch, Bedeutung', \n",
    "            'fields': word, \n",
    "            'options': {'allowDuplicate': True}, \n",
    "            'tags': ['German', 'B1', 'Medizin']})\n"
   ]
  },
  {
   "cell_type": "code",
   "execution_count": 21,
   "metadata": {},
   "outputs": [
    {
     "name": "stdout",
     "output_type": "stream",
     "text": [
      "[\n",
      "    {\n",
      "        \"Wort_DE\": \"Termin\",\n",
      "        \"Wort_EN\": \"appointment\",\n",
      "        \"Bedeutung\": \"eine verabredete Zeit für eine bestimmte Tätigkeit oder ein Ereignis\",\n",
      "        \"Artikel\": \"der\",\n",
      "        \"Plural\": \"-e\",\n",
      "        \"Satz1_DE\": \"Ich würde gern bei Ihnen einen Termin vereinbaren.\",\n",
      "        \"Satz1_EN\": \"I would like to make an appointment with you.\",\n",
      "        \"Satz2_DE\": \"Haben Sie für nächste Woche noch einen freien Termin?\",\n",
      "        \"Satz2_EN\": \"Do you have a free appointment next week?\",\n",
      "        \"Hinweis\": \"Es ist oft nötig, im Voraus einen Termin beim Arzt zu vereinbaren, besonders wenn es sich nicht um einen Notfall handelt.\"\n",
      "    },\n",
      "    {\n",
      "        \"Wort_DE\": \"um ... gehen\",\n",
      "        \"Wort_EN\": \"be about, concern\",\n",
      "        \"Bedeutung\": \"sich mit einer bestimmten Sache befassen oder auf sie beziehen\",\n",
      "        \"Satz1_DE\": \"Worum geht's?\",\n",
      "        \"Satz1_EN\": \"What's it about?\",\n",
      "        \"Satz2_DE\": \"Worum geht es in diesem Film?\",\n",
      "        \"Satz2_EN\": \"What is this movie about?\",\n",
      "        \"Hinweis\": \"Diese Frage wird oft genutzt, um den Grund für etwas zu erfahren, zum Beispiel bei einem Arztbesuch das Anliegen des Patienten.\"\n",
      "    },\n",
      "    {\n",
      "        \"Wort_DE\": \"Schmerz\",\n",
      "        \"Wort_EN\": \"pain\",\n",
      "        \"Bedeutung\": \"ein unangenehmes Gefühl, das durch eine Verletzung oder Krankheit verursacht wird\",\n",
      "        \"Artikel\": \"der\",\n",
      "        \"Plural\": \"-en\",\n",
      "        \"Satz1_DE\": \"Seit ein paar Wochen habe ich relativ starke Schmerzen im Herzbereich und würde mich gerne untersuchen lassen.\",\n",
      "        \"Satz1_EN\": \"I have been experiencing quite strong pains in the chest area for a few weeks and would like to get it checked.\",\n",
      "        \"Satz2_DE\": \"Ich habe starke Schmerzen im Rücken.\",\n",
      "        \"Satz2_EN\": \"I have severe back pain.\",\n",
      "        \"Hinweis\": \"Bei der Beschreibung von Schmerzen ist es wichtig, die Intensität und Lokalisation genau zu benennen, damit der Arzt eine angemessene Diagnose stellen kann.\"\n",
      "    },\n",
      "    {\n",
      "        \"Wort_DE\": \"Untersuchung\",\n",
      "        \"Wort_EN\": \"examination, investigation\",\n",
      "        \"Bedeutung\": \"das genaue Betrachten oder Überprüfen, um Informationen über den Zustand von etwas zu erhalten\",\n",
      "        \"Artikel\": \"die\",\n",
      "        \"Plural\": \"-en\",\n",
      "        \"Satz1_DE\": \"Seit ein paar Wochen habe ich relativ starke Schmerzen im Herzbereich und würde mich gerne untersuchen lassen.\",\n",
      "        \"Satz1_EN\": \"I have been experiencing quite strong pains in the chest area for a few weeks and would like to get it checked.\",\n",
      "        \"Satz2_DE\": \"Die Untersuchung durch den Arzt dauerte nur wenige Minuten.\",\n",
      "        \"Satz2_EN\": \"The doctor's examination only lasted a few minutes.\",\n",
      "        \"Hinweis\": \"Eine ärztliche Untersuchung ist oft der erste Schritt zur Diagnosefindung und Behandlung. Bei gesundheitlichen Beschwerden sollte man nicht zögern, eine Untersuchung anzufordern.\"\n",
      "    },\n",
      "    {\n",
      "        \"Wort_DE\": \"Überweisung\",\n",
      "        \"Wort_EN\": \"referral\",\n",
      "        \"Bedeutung\": \"eine Empfehlung, die von einem Arzt ausgestellt wird, damit der Patient zu einem Spezialisten gehen kann\",\n",
      "        \"Artikel\": \"die\",\n",
      "        \"Plural\": \"-en\",\n",
      "        \"Satz1_DE\": \"Seit ein paar Wochen habe ich relativ starke Schmerzen im Herzbereich und habe auch eine Überweisung.\",\n",
      "        \"Satz1_EN\": \"I have been experiencing quite strong pains in the chest area for a few weeks and I also have a referral.\",\n",
      "        \"Satz2_DE\": \"Mit dieser Überweisung können Sie direkt zum Facharzt gehen.\",\n",
      "        \"Satz2_EN\": \"With this referral, you can go directly to a specialist.\",\n",
      "        \"Hinweis\": \"Eine Überweisung wird benötigt, um bei bestimmten Fachärzten einen Termin zu bekommen. Der Hausarzt stellt sie aus, wenn er denkt, dass eine spezialisierte Untersuchung notwendig ist.\"\n",
      "    },\n",
      "    {\n",
      "        \"Wort_DE\": \"Arztpraxis\",\n",
      "        \"Wort_EN\": \"doctor's office\",\n",
      "        \"Bedeutung\": \"ein Ort, an dem Ärzte ihre Patienten sehen und behandeln\",\n",
      "        \"Artikel\": \"die\",\n",
      "        \"Plural\": \"-praxen\",\n",
      "        \"Satz1_DE\": \"Ich muss morgen in die Arztpraxis, um meinen Husten zu kontrollieren.\",\n",
      "        \"Satz1_EN\": \"I have to go to the doctor's office tomorrow to check on my cough.\",\n",
      "        \"Satz2_DE\": \"In der Arztpraxis war es sehr voll, und ich musste lange warten.\",\n",
      "        \"Satz2_EN\": \"The doctor's office was very busy, and I had to wait a long time.\",\n",
      "        \"Hinweis\": \"Es ist üblich, vor einem Praxisbesuch anzurufen oder online einen Termin zu vereinbaren, um Wartezeiten zu vermeiden.\"\n",
      "    }\n",
      "]\n",
      "\n"
     ]
    }
   ],
   "source": [
    "print(cleaned_result)"
   ]
  },
  {
   "cell_type": "code",
   "execution_count": 5,
   "metadata": {},
   "outputs": [],
   "source": [
    "result = openai.ChatCompletion.create(\n",
    "  model=\"gpt-4-1106-preview\",\n",
    "  messages=[\n",
    "        {\"role\": \"user\", \"content\": task}\n",
    "    ]\n",
    ")\n",
    "content = result.to_dict_recursive()['choices'][0][\"message\"][\"content\"]"
   ]
  },
  {
   "cell_type": "code",
   "execution_count": 9,
   "metadata": {},
   "outputs": [
    {
     "name": "stdout",
     "output_type": "stream",
     "text": [
      "[{'Wort_DE': 'Wartung', 'Wort_EN': 'Maintenance', 'Artikel': 'die', 'Plural': '-en', 'Satz1_DE': 'Regelmäßige Wartung des Fahrzeugs ist für die Verkehrssicherheit essenziell.', 'Satz1_EN': 'Regular maintenance of the vehicle is essential for road safety.', 'Satz2_DE': 'Während der Wartung werden verschiedene Flüssigkeitsstände und die Bremsen geprüft.', 'Satz2_EN': 'During maintenance, various fluid levels and the brakes are checked.', 'hinweis': 'Eine ordnungsgemäße Wartung des Autos ist notwendig, um sicher am Straßenverkehr teilzunehmen und ist Teil der Prüfungsfragen.'}, {'Wort_DE': 'Radbefestigung', 'Wort_EN': 'Wheel fixation, wheel mounting', 'Artikel': 'die', 'Plural': 'Radbefestigungen', 'Satz1_DE': 'Die Radbefestigung der Vorderräder muss regelmäßig überprüft werden, um Unfälle zu vermeiden.', 'Satz1_EN': 'The wheel fixation of the front wheels must be regularly checked to prevent accidents.', 'Satz2_DE': 'Eine lockere Radbefestigung kann zu schweren Lenkproblemen führen.', 'Satz2_EN': 'A loose wheel mounting can lead to serious steering problems.', 'hinweis': 'Die Radbefestigung ist ein wichtiger Sicherheitsaspekt. Ein Kontrollpunkt bei der Hauptuntersuchung (TÜV).'}, {'Wort_DE': 'Lenkradbefestigung', 'Wort_EN': 'Steering wheel mounting', 'Artikel': 'die', 'Plural': 'Lenkradbefestigungen', 'Satz1_DE': 'Eine sichere Lenkradbefestigung ist entscheidend für die Kontrolle über das Fahrzeug.', 'Satz1_EN': 'A secure steering wheel mounting is crucial for maintaining control of the vehicle.', 'Satz2_DE': 'Bei Anzeichen von Spiel oder Geräuschen an der Lenkradbefestigung sollten Sie sofort eine Werkstatt aufsuchen.', 'Satz2_EN': 'If there are signs of play or noise in the steering wheel mounting, you should immediately visit a workshop.', 'hinweis': 'Probleme mit der Lenkradbefestigung können während der praktischen Führerscheinprüfung zur Disqualifikation führen.'}, {'Wort_DE': 'feststellen', 'Wort_EN': 'to determine; to ascertain; to detect', 'Verbformen': 'stellt fest, stellte fest, hat festgestellt', 'Satz1_DE': 'Die Polizei konnte feststellen, dass der Unfall durch überhöhte Geschwindigkeit verursacht wurde.', 'Satz1_EN': 'The police were able to ascertain that the accident was caused by excessive speed.', 'Satz2_DE': 'Wenn Sie ein Problem mit dem Fahrzeug feststellen, melden Sie es umgehend in der Fahrschule.', 'Satz2_EN': 'If you detect a problem with the vehicle, report it immediately at the driving school.', 'Satz3_DE': 'Bei der Prüfung wird festgestellt, ob Sie die Verkehrsregeln ausreichend kennen.', 'Satz3_EN': 'The exam will determine whether you know the traffic rules sufficiently.', 'Satz4_DE': 'Man sollte den Bremsweg nicht auf vereister Fahrbahn feststellen müssen.', 'Satz4_EN': 'One should not have to ascertain the braking distance on an icy road.', 'hinweis': 'Feststellen ist ein häufig benutztes Verb in technischem Kontext sowie bei der Beschreibung von Situationen im Straßenverkehr.'}]\n"
     ]
    }
   ],
   "source": [
    "# print(content)\n",
    "cleaned_result = clean_content(content)\n",
    "# print(cleaned_result)\n",
    "new_words = json.loads(cleaned_result)\n",
    "print(new_words)"
   ]
  },
  {
   "cell_type": "code",
   "execution_count": 11,
   "metadata": {},
   "outputs": [
    {
     "name": "stdout",
     "output_type": "stream",
     "text": [
      "{'result': 1704640185994, 'error': None}\n",
      "{'result': 1704640186022, 'error': None}\n",
      "{'result': 1704640186043, 'error': None}\n",
      "{'result': 1704640186067, 'error': None}\n"
     ]
    }
   ],
   "source": [
    "# Remove None fields\n",
    "for word in new_words:\n",
    "    for key in list(word.keys()):\n",
    "        if word[key] is None:\n",
    "            del word[key]\n",
    "    invoke('addNote', \n",
    "       note={\n",
    "           'deckName': 'Medizin', \n",
    "           'modelName': 'Deutsch, Englisch, Bedeutung', \n",
    "           'fields': word, \n",
    "           'options': {'allowDuplicate': True}, \n",
    "           'tags': ['German', 'B1']})\n"
   ]
  },
  {
   "cell_type": "code",
   "execution_count": null,
   "metadata": {},
   "outputs": [],
   "source": []
  }
 ],
 "metadata": {
  "kernelspec": {
   "display_name": "Python 3",
   "language": "python",
   "name": "python3"
  },
  "language_info": {
   "codemirror_mode": {
    "name": "ipython",
    "version": 3
   },
   "file_extension": ".py",
   "mimetype": "text/x-python",
   "name": "python",
   "nbconvert_exporter": "python",
   "pygments_lexer": "ipython3",
   "version": "3.10.10"
  },
  "orig_nbformat": 4
 },
 "nbformat": 4,
 "nbformat_minor": 2
}
