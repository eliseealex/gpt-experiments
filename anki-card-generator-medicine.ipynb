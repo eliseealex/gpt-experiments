{
 "cells": [
  {
   "cell_type": "code",
   "execution_count": 22,
   "metadata": {},
   "outputs": [
    {
     "name": "stdout",
     "output_type": "stream",
     "text": [
      "Started\n"
     ]
    }
   ],
   "source": [
    "import requests\n",
    "import json\n",
    "import openai\n",
    "\n",
    "openai.api_key = open(\".tokens/openai\", \"r\").read()\n",
    "print(\"Started\")"
   ]
  },
  {
   "cell_type": "code",
   "execution_count": 23,
   "metadata": {},
   "outputs": [
    {
     "name": "stdout",
     "output_type": "stream",
     "text": [
      "{'result': ['Driving License', 'Driving License Other Side', 'English', 'German', 'German::A2_Wortliste_Goethe', 'German::B1_Wortliste_DTZ_Goethe', 'German::Deutsch B1', 'German::Deutsch B1+', 'German::DW Nicos Weg B1', 'Medizin', 'Standard'], 'error': None}\n"
     ]
    }
   ],
   "source": [
    "# Uses anki-connect to connect to anki\n",
    "response = requests.post('http://localhost:8765', data='{\"action\": \"deckNames\", \"version\": 6}', headers={'Content-type': 'application/json'})\n",
    "print(response.json())"
   ]
  },
  {
   "cell_type": "code",
   "execution_count": 24,
   "metadata": {},
   "outputs": [],
   "source": [
    "def invoke(method, **params):\n",
    "    request_data = json.dumps({\n",
    "        'action': method,\n",
    "        'params': params,\n",
    "        'version': 6\n",
    "    })\n",
    "\n",
    "    response = requests.post('http://localhost:8765', data=request_data)\n",
    "    response_data = json.loads(response.text)\n",
    "    print(response_data)\n",
    "\n",
    "    if response_data.get('error'):\n",
    "        raise Exception(f\"Error: {response_data['error']}\")\n",
    "    else:\n",
    "        return response_data['result']\n",
    "\n",
    "def clean_content(markdown: str):\n",
    "    # this method extracts the code from the markdown and returns only the code from the markdown string\n",
    "\n",
    "    result = \"\"\n",
    "    in_code = False\n",
    "    for line in markdown.split(\"\\n\"):\n",
    "        if line.startswith(\"```\"):\n",
    "            in_code = not in_code\n",
    "        elif in_code:\n",
    "            result += line + \"\\n\"\n",
    "    return result"
   ]
  },
  {
   "cell_type": "code",
   "execution_count": 25,
   "metadata": {},
   "outputs": [],
   "source": [
    "# TODO fix the definition here to exclude the copyright issue\n",
    "task_template = \"\"\"\n",
    "You create cards for Spaced Repetition to for a learner of german as a foreign language (level B1), these cards will be used in the context of preparation for the doctor appointment, please use this context, whenever it could help.\n",
    "\n",
    "There is an existing structure for cards, for example:\n",
    "\n",
    "```json\n",
    "[\n",
    "    {\n",
    "        \"Wort_DE\": \"melden\",\n",
    "        \"Wort_EN\": \"to report, register, put one's hand up, volunteer\",\n",
    "        \"Bedeutung\": \"etwas bekanntmachen oder ankündigen, indem man es der Öffentlichkeit mitteilt\",\n",
    "        \"Verbformen\": \"meldet, meldete, hat gemeldet\",\n",
    "        \"Satz1_DE\": \"Ich habe schon zweimal angerufen. - Aber es meldet sich niemand.\",\n",
    "        \"Satz1_EN\": \"I have already called twice. - But nobody answers.\",\n",
    "        \"Satz2_DE\": \"Den Unfall müssen Sie der Versicherung melden.\",\n",
    "        \"Satz2_EN\":\"You must report the accident to the insurance company.\",\n",
    "        \"Satz3_DE\":\"Ich melde mich auf Ihre Anzeige. - Sie wollen ein Sofa verkaufen?\",\n",
    "        \"Satz3_EN\": \"I'm reporting to your ad. - You want to sell a sofa?\",\n",
    "        \"Satz4_DE\":\"Warum hast du dich so lange nicht gemeldet? Warst du krank?\",\n",
    "        \"Satz4_EN\": \"Why have not you been in contact for so long? Were you sick?\"\n",
    "    },\n",
    "    {\n",
    "        \"Wort_DE\": \"Pflicht\",\n",
    "        \"Wort_EN\": \"Duty; Obligation; Mandatory\",\n",
    "        \"Bedeutung\": \"das Handeln, dem man sich auf Grund bestimmter Normen/Vorschriften nicht entziehen kann\",\n",
    "        \"Artikel\": \"die\",\n",
    "        \"Plural\": \"-en\",\n",
    "        \"Satz1_DE\": \"Eltern haben die Pflicht, ihre Kinder vor Schaden zu bewahren.\",\n",
    "        \"Satz1_EN\": \"Parents have an obligation to protect their children from harm.\",\n",
    "        \"Satz2_DE\": \"Er hatte seine vertraglichen Pflichten erfüllt.\",\n",
    "        \"Satz2_EN\": \"He had met his contractual obligations.\"\n",
    "    }\n",
    "]\n",
    "```\n",
    "\n",
    "Please use B1 Language level in the Bedeutung section.\n",
    "\n",
    "Please add any information relevant for the doctor appointment and relevant information in the \"hinweis\" field, whatever is connected with a given word, and could help in preparation for the exam.\n",
    "\n",
    "Please convert words to the infinitive form (verbs to infinitive, nouns to the singular and whatever else is applicable). But please, don't change the sentences and phrases that consist of multiple words.\n",
    "\n",
    "Use the same JSON structure for the new words and phrases:\n",
    "\"\"\""
   ]
  },
  {
   "cell_type": "code",
   "execution_count": 26,
   "metadata": {},
   "outputs": [],
   "source": [
    "cards_to_create_string = \"\"\"\n",
    "- außstoßen\n",
    "- Kloß im Hals\n",
    "- leide ich seit zwei Monaten unter Sodbrennen\n",
    "- Verdauungsproblemen\n",
    "- zeitweise\n",
    "- Zwölffingerdarmgeschwür\n",
    "\"\"\"\n",
    "\n",
    "# Split by lines and remove empty lines\n",
    "cards_to_create = [line for line in cards_to_create_string.split(\"\\n\") if line != \"\"]"
   ]
  },
  {
   "cell_type": "code",
   "execution_count": 27,
   "metadata": {},
   "outputs": [
    {
     "name": "stdout",
     "output_type": "stream",
     "text": [
      "[{'Wort_DE': 'ausstoßen', 'Wort_EN': 'to emit, excrete, expel', 'Bedeutung': 'Gas oder Luft aus dem Körper entlassen', 'Verbformen': 'stößt aus, stieß aus, hat ausgestoßen', 'Satz1_DE': 'Nach dem Essen muss ich oft aufstoßen.', 'Satz1_EN': 'I often have to belch after eating.', 'Satz2_DE': 'Der Patient stößt zu viel Kohlendioxid aus.', 'Satz2_EN': 'The patient is expelling too much carbon dioxide.', 'Satz3_DE': 'Es ist normal, dass man nach dem Trinken von kohlensäurehaltigen Getränken aufstoßen muss.', 'Satz3_EN': \"It's normal to have to belch after drinking carbonated beverages.\", 'Satz4_DE': 'Bei einer Bronchitis kann es vorkommen, dass man Schleim ausstößt.', 'Satz4_EN': 'With bronchitis, it can happen that one expels mucus.', 'Hinweis': 'Besonders nach dem Essen kann das Ausstoßen von Luft ein Zeichen von Verdauungsproblemen sein, die man beim Arzt ansprechen sollte.'}, {'Wort_DE': 'Kloß im Hals', 'Wort_EN': 'lump in the throat', 'Bedeutung': 'das Gefühl, als hätte man eine feste Masse im Hals', 'Artikel': 'der', 'Plural': '-', 'Satz1_DE': 'Ich kann nicht gut schlucken und fühle immer so einen Kloß im Hals.', 'Satz1_EN': \"I can't swallow well and always feel such a lump in my throat.\", 'Satz2_DE': 'Wenn ich nervös bin, bekomme ich einen Kloß im Hals.', 'Satz2_EN': \"When I'm nervous, I get a lump in my throat.\", 'Hinweis': 'Ein Kloß im Hals kann psychische Ursachen haben, aber auch ein Symptom für Erkrankungen sein. Es ist wichtig, das dem Arzt zu erklären.'}, {'Wort_DE': 'leiden', 'Wort_EN': 'to suffer', 'Bedeutung': 'starke Unannehmlichkeiten oder Schmerz über einen längeren Zeitraum erfahren', 'Verbformen': 'leidet, litt, hat gelitten', 'Satz1_DE': 'Ich leide seit zwei Monaten unter Sodbrennen.', 'Satz1_EN': 'I have been suffering from heartburn for two months.', 'Satz2_DE': 'Viele Menschen leiden unter Allergien.', 'Satz2_EN': 'Many people suffer from allergies.', 'Satz3_DE': 'Meine Großmutter leidet an Arthritis.', 'Satz3_EN': 'My grandmother suffers from arthritis.', 'Hinweis': 'Wenn man längere Zeit unter etwas leidet, wie z.B. Sodbrennen, sollte man nicht zögern, einen Arzt aufzusuchen.'}, {'Wort_DE': 'Verdauungsproblem', 'Wort_EN': 'digestive problem', 'Bedeutung': 'Schwierigkeiten bei der Verarbeitung und Aufnahme von Nahrung im Magen-Darm-Trakt', 'Artikel': 'das', 'Plural': '-e', 'Satz1_DE': 'Bitte helfen Sie mir, ich habe starke Verdauungsprobleme.', 'Satz1_EN': 'Please help me, I have severe digestive problems.', 'Satz2_DE': 'Blähungen können ein Zeichen von Verdauungsproblemen sein.', 'Satz2_EN': 'Flatulence can be a sign of digestive problems.', 'Hinweis': 'Verdauungsprobleme können auf Allergien, Intoleranzen oder ernstere Erkrankungen hinweisen. Man sollte Details zu den Symptomen und ihrer Häufigkeit für den Arzt notieren.'}]\n",
      "{'result': 1705756126162, 'error': None}\n",
      "{'result': 1705756126181, 'error': None}\n",
      "{'result': 1705756126206, 'error': None}\n",
      "{'result': 1705756126231, 'error': None}\n",
      "[{'Wort_DE': 'zeitweise', 'Wort_EN': 'temporarily, periodically', 'Bedeutung': 'für eine gewisse Zeit, nicht ständig', 'Satz1_DE': 'Ich habe zeitweise starke Schmerzen im Bauchbereich.', 'Satz1_EN': 'I have strong pain in the abdominal area temporarily.', 'Satz2_DE': 'Zeitweise fühle ich mich sehr müde und muss mich hinlegen.', 'Satz2_EN': 'Periodically I feel very tired and need to lie down.', 'Satz3_DE': 'Der Arzt hat mir Medikamente verschrieben, die ich zeitweise einnehmen soll.', 'Satz3_EN': 'The doctor has prescribed medicines that I should take periodically.', 'hinweis': \"Wenn Sie über intermittierende Symptome beim Arzt sprechen, verwenden Sie 'zeitweise', um die Unregelmäßigkeit Ihrer Beschwerden zu beschreiben.\"}, {'Wort_DE': 'Zwölffingerdarmgeschwür', 'Wort_EN': 'duodenal ulcer', 'Artikel': 'das', 'Plural': '-e', 'Bedeutung': 'ein Geschwür im Anfangsteil des Dünndarms', 'Satz1_DE': 'Ich wurde diagnostiziert mit einem Zwölffingerdarmgeschwür.', 'Satz1_EN': 'I have been diagnosed with a duodenal ulcer.', 'Satz2_DE': 'Bei einem Zwölffingerdarmgeschwür können Symptome wie Sodbrennen auftreten.', 'Satz2_EN': 'Symptoms such as heartburn can occur with a duodenal ulcer.', 'Satz3_DE': 'Die Behandlung eines Zwölffingerdarmgeschwürs beinhaltet oft die Einnahme spezieller Medikamente und eine Ernährungsumstellung.', 'Satz3_EN': 'Treatment of a duodenal ulcer often involves taking special medications and a change in diet.', 'hinweis': \"Mention 'Zwölffingerdarmgeschwür' wenn Sie über Bauchschmerzen sprechen, die nach dem Essen verschlimmern oder wenn Sie eine Vorgeschichte von Magen-Darm-Problemen haben.\"}]\n",
      "{'result': 1705756156592, 'error': None}\n",
      "{'result': 1705756156612, 'error': None}\n"
     ]
    }
   ],
   "source": [
    "# We are splitting list on 4 elements chunks\n",
    "# and then we are creating a list of lists\n",
    "cards_to_create_chunks = [cards_to_create[x:x+4] for x in range(0, len(cards_to_create), 4)]\n",
    "\n",
    "for chunk in cards_to_create_chunks:\n",
    "    task = task_template + \"\\n\".join(chunk)\n",
    "\n",
    "    result = openai.ChatCompletion.create(\n",
    "    model=\"gpt-4-1106-preview\",\n",
    "    messages=[\n",
    "            {\"role\": \"user\", \"content\": task}\n",
    "        ]\n",
    "    )\n",
    "    content = result.to_dict_recursive()['choices'][0][\"message\"][\"content\"]\n",
    "\n",
    "    # print(content)\n",
    "    cleaned_result = clean_content(content)\n",
    "    # print(cleaned_result)\n",
    "    new_words = json.loads(cleaned_result)\n",
    "    print(new_words)\n",
    "\n",
    "    # Remove None fields\n",
    "    for word in new_words:\n",
    "        for key in list(word.keys()):\n",
    "            if word[key] is None:\n",
    "                del word[key]\n",
    "        invoke('addNote', \n",
    "        note={\n",
    "            'deckName': 'Medizin', \n",
    "            'modelName': 'Deutsch, Englisch, Bedeutung', \n",
    "            'fields': word, \n",
    "            'options': {'allowDuplicate': True}, \n",
    "            'tags': ['German', 'B1', 'Medizin']})\n"
   ]
  },
  {
   "cell_type": "code",
   "execution_count": 21,
   "metadata": {},
   "outputs": [
    {
     "name": "stdout",
     "output_type": "stream",
     "text": [
      "[\n",
      "    {\n",
      "        \"Wort_DE\": \"Termin\",\n",
      "        \"Wort_EN\": \"appointment\",\n",
      "        \"Bedeutung\": \"eine verabredete Zeit für eine bestimmte Tätigkeit oder ein Ereignis\",\n",
      "        \"Artikel\": \"der\",\n",
      "        \"Plural\": \"-e\",\n",
      "        \"Satz1_DE\": \"Ich würde gern bei Ihnen einen Termin vereinbaren.\",\n",
      "        \"Satz1_EN\": \"I would like to make an appointment with you.\",\n",
      "        \"Satz2_DE\": \"Haben Sie für nächste Woche noch einen freien Termin?\",\n",
      "        \"Satz2_EN\": \"Do you have a free appointment next week?\",\n",
      "        \"Hinweis\": \"Es ist oft nötig, im Voraus einen Termin beim Arzt zu vereinbaren, besonders wenn es sich nicht um einen Notfall handelt.\"\n",
      "    },\n",
      "    {\n",
      "        \"Wort_DE\": \"um ... gehen\",\n",
      "        \"Wort_EN\": \"be about, concern\",\n",
      "        \"Bedeutung\": \"sich mit einer bestimmten Sache befassen oder auf sie beziehen\",\n",
      "        \"Satz1_DE\": \"Worum geht's?\",\n",
      "        \"Satz1_EN\": \"What's it about?\",\n",
      "        \"Satz2_DE\": \"Worum geht es in diesem Film?\",\n",
      "        \"Satz2_EN\": \"What is this movie about?\",\n",
      "        \"Hinweis\": \"Diese Frage wird oft genutzt, um den Grund für etwas zu erfahren, zum Beispiel bei einem Arztbesuch das Anliegen des Patienten.\"\n",
      "    },\n",
      "    {\n",
      "        \"Wort_DE\": \"Schmerz\",\n",
      "        \"Wort_EN\": \"pain\",\n",
      "        \"Bedeutung\": \"ein unangenehmes Gefühl, das durch eine Verletzung oder Krankheit verursacht wird\",\n",
      "        \"Artikel\": \"der\",\n",
      "        \"Plural\": \"-en\",\n",
      "        \"Satz1_DE\": \"Seit ein paar Wochen habe ich relativ starke Schmerzen im Herzbereich und würde mich gerne untersuchen lassen.\",\n",
      "        \"Satz1_EN\": \"I have been experiencing quite strong pains in the chest area for a few weeks and would like to get it checked.\",\n",
      "        \"Satz2_DE\": \"Ich habe starke Schmerzen im Rücken.\",\n",
      "        \"Satz2_EN\": \"I have severe back pain.\",\n",
      "        \"Hinweis\": \"Bei der Beschreibung von Schmerzen ist es wichtig, die Intensität und Lokalisation genau zu benennen, damit der Arzt eine angemessene Diagnose stellen kann.\"\n",
      "    },\n",
      "    {\n",
      "        \"Wort_DE\": \"Untersuchung\",\n",
      "        \"Wort_EN\": \"examination, investigation\",\n",
      "        \"Bedeutung\": \"das genaue Betrachten oder Überprüfen, um Informationen über den Zustand von etwas zu erhalten\",\n",
      "        \"Artikel\": \"die\",\n",
      "        \"Plural\": \"-en\",\n",
      "        \"Satz1_DE\": \"Seit ein paar Wochen habe ich relativ starke Schmerzen im Herzbereich und würde mich gerne untersuchen lassen.\",\n",
      "        \"Satz1_EN\": \"I have been experiencing quite strong pains in the chest area for a few weeks and would like to get it checked.\",\n",
      "        \"Satz2_DE\": \"Die Untersuchung durch den Arzt dauerte nur wenige Minuten.\",\n",
      "        \"Satz2_EN\": \"The doctor's examination only lasted a few minutes.\",\n",
      "        \"Hinweis\": \"Eine ärztliche Untersuchung ist oft der erste Schritt zur Diagnosefindung und Behandlung. Bei gesundheitlichen Beschwerden sollte man nicht zögern, eine Untersuchung anzufordern.\"\n",
      "    },\n",
      "    {\n",
      "        \"Wort_DE\": \"Überweisung\",\n",
      "        \"Wort_EN\": \"referral\",\n",
      "        \"Bedeutung\": \"eine Empfehlung, die von einem Arzt ausgestellt wird, damit der Patient zu einem Spezialisten gehen kann\",\n",
      "        \"Artikel\": \"die\",\n",
      "        \"Plural\": \"-en\",\n",
      "        \"Satz1_DE\": \"Seit ein paar Wochen habe ich relativ starke Schmerzen im Herzbereich und habe auch eine Überweisung.\",\n",
      "        \"Satz1_EN\": \"I have been experiencing quite strong pains in the chest area for a few weeks and I also have a referral.\",\n",
      "        \"Satz2_DE\": \"Mit dieser Überweisung können Sie direkt zum Facharzt gehen.\",\n",
      "        \"Satz2_EN\": \"With this referral, you can go directly to a specialist.\",\n",
      "        \"Hinweis\": \"Eine Überweisung wird benötigt, um bei bestimmten Fachärzten einen Termin zu bekommen. Der Hausarzt stellt sie aus, wenn er denkt, dass eine spezialisierte Untersuchung notwendig ist.\"\n",
      "    },\n",
      "    {\n",
      "        \"Wort_DE\": \"Arztpraxis\",\n",
      "        \"Wort_EN\": \"doctor's office\",\n",
      "        \"Bedeutung\": \"ein Ort, an dem Ärzte ihre Patienten sehen und behandeln\",\n",
      "        \"Artikel\": \"die\",\n",
      "        \"Plural\": \"-praxen\",\n",
      "        \"Satz1_DE\": \"Ich muss morgen in die Arztpraxis, um meinen Husten zu kontrollieren.\",\n",
      "        \"Satz1_EN\": \"I have to go to the doctor's office tomorrow to check on my cough.\",\n",
      "        \"Satz2_DE\": \"In der Arztpraxis war es sehr voll, und ich musste lange warten.\",\n",
      "        \"Satz2_EN\": \"The doctor's office was very busy, and I had to wait a long time.\",\n",
      "        \"Hinweis\": \"Es ist üblich, vor einem Praxisbesuch anzurufen oder online einen Termin zu vereinbaren, um Wartezeiten zu vermeiden.\"\n",
      "    }\n",
      "]\n",
      "\n"
     ]
    }
   ],
   "source": [
    "print(cleaned_result)"
   ]
  },
  {
   "cell_type": "code",
   "execution_count": 5,
   "metadata": {},
   "outputs": [],
   "source": [
    "result = openai.ChatCompletion.create(\n",
    "  model=\"gpt-4-1106-preview\",\n",
    "  messages=[\n",
    "        {\"role\": \"user\", \"content\": task}\n",
    "    ]\n",
    ")\n",
    "content = result.to_dict_recursive()['choices'][0][\"message\"][\"content\"]"
   ]
  },
  {
   "cell_type": "code",
   "execution_count": 9,
   "metadata": {},
   "outputs": [
    {
     "name": "stdout",
     "output_type": "stream",
     "text": [
      "[{'Wort_DE': 'Wartung', 'Wort_EN': 'Maintenance', 'Artikel': 'die', 'Plural': '-en', 'Satz1_DE': 'Regelmäßige Wartung des Fahrzeugs ist für die Verkehrssicherheit essenziell.', 'Satz1_EN': 'Regular maintenance of the vehicle is essential for road safety.', 'Satz2_DE': 'Während der Wartung werden verschiedene Flüssigkeitsstände und die Bremsen geprüft.', 'Satz2_EN': 'During maintenance, various fluid levels and the brakes are checked.', 'hinweis': 'Eine ordnungsgemäße Wartung des Autos ist notwendig, um sicher am Straßenverkehr teilzunehmen und ist Teil der Prüfungsfragen.'}, {'Wort_DE': 'Radbefestigung', 'Wort_EN': 'Wheel fixation, wheel mounting', 'Artikel': 'die', 'Plural': 'Radbefestigungen', 'Satz1_DE': 'Die Radbefestigung der Vorderräder muss regelmäßig überprüft werden, um Unfälle zu vermeiden.', 'Satz1_EN': 'The wheel fixation of the front wheels must be regularly checked to prevent accidents.', 'Satz2_DE': 'Eine lockere Radbefestigung kann zu schweren Lenkproblemen führen.', 'Satz2_EN': 'A loose wheel mounting can lead to serious steering problems.', 'hinweis': 'Die Radbefestigung ist ein wichtiger Sicherheitsaspekt. Ein Kontrollpunkt bei der Hauptuntersuchung (TÜV).'}, {'Wort_DE': 'Lenkradbefestigung', 'Wort_EN': 'Steering wheel mounting', 'Artikel': 'die', 'Plural': 'Lenkradbefestigungen', 'Satz1_DE': 'Eine sichere Lenkradbefestigung ist entscheidend für die Kontrolle über das Fahrzeug.', 'Satz1_EN': 'A secure steering wheel mounting is crucial for maintaining control of the vehicle.', 'Satz2_DE': 'Bei Anzeichen von Spiel oder Geräuschen an der Lenkradbefestigung sollten Sie sofort eine Werkstatt aufsuchen.', 'Satz2_EN': 'If there are signs of play or noise in the steering wheel mounting, you should immediately visit a workshop.', 'hinweis': 'Probleme mit der Lenkradbefestigung können während der praktischen Führerscheinprüfung zur Disqualifikation führen.'}, {'Wort_DE': 'feststellen', 'Wort_EN': 'to determine; to ascertain; to detect', 'Verbformen': 'stellt fest, stellte fest, hat festgestellt', 'Satz1_DE': 'Die Polizei konnte feststellen, dass der Unfall durch überhöhte Geschwindigkeit verursacht wurde.', 'Satz1_EN': 'The police were able to ascertain that the accident was caused by excessive speed.', 'Satz2_DE': 'Wenn Sie ein Problem mit dem Fahrzeug feststellen, melden Sie es umgehend in der Fahrschule.', 'Satz2_EN': 'If you detect a problem with the vehicle, report it immediately at the driving school.', 'Satz3_DE': 'Bei der Prüfung wird festgestellt, ob Sie die Verkehrsregeln ausreichend kennen.', 'Satz3_EN': 'The exam will determine whether you know the traffic rules sufficiently.', 'Satz4_DE': 'Man sollte den Bremsweg nicht auf vereister Fahrbahn feststellen müssen.', 'Satz4_EN': 'One should not have to ascertain the braking distance on an icy road.', 'hinweis': 'Feststellen ist ein häufig benutztes Verb in technischem Kontext sowie bei der Beschreibung von Situationen im Straßenverkehr.'}]\n"
     ]
    }
   ],
   "source": [
    "# print(content)\n",
    "cleaned_result = clean_content(content)\n",
    "# print(cleaned_result)\n",
    "new_words = json.loads(cleaned_result)\n",
    "print(new_words)"
   ]
  },
  {
   "cell_type": "code",
   "execution_count": 11,
   "metadata": {},
   "outputs": [
    {
     "name": "stdout",
     "output_type": "stream",
     "text": [
      "{'result': 1704640185994, 'error': None}\n",
      "{'result': 1704640186022, 'error': None}\n",
      "{'result': 1704640186043, 'error': None}\n",
      "{'result': 1704640186067, 'error': None}\n"
     ]
    }
   ],
   "source": [
    "# Remove None fields\n",
    "for word in new_words:\n",
    "    for key in list(word.keys()):\n",
    "        if word[key] is None:\n",
    "            del word[key]\n",
    "    invoke('addNote', \n",
    "       note={\n",
    "           'deckName': 'Medizin', \n",
    "           'modelName': 'Deutsch, Englisch, Bedeutung', \n",
    "           'fields': word, \n",
    "           'options': {'allowDuplicate': True}, \n",
    "           'tags': ['German', 'B1']})\n"
   ]
  },
  {
   "cell_type": "code",
   "execution_count": null,
   "metadata": {},
   "outputs": [],
   "source": []
  }
 ],
 "metadata": {
  "kernelspec": {
   "display_name": "Python 3",
   "language": "python",
   "name": "python3"
  },
  "language_info": {
   "codemirror_mode": {
    "name": "ipython",
    "version": 3
   },
   "file_extension": ".py",
   "mimetype": "text/x-python",
   "name": "python",
   "nbconvert_exporter": "python",
   "pygments_lexer": "ipython3",
   "version": "3.10.10"
  },
  "orig_nbformat": 4
 },
 "nbformat": 4,
 "nbformat_minor": 2
}
