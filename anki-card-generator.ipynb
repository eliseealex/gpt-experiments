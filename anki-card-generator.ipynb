{
 "cells": [
  {
   "cell_type": "code",
   "execution_count": 1,
   "metadata": {},
   "outputs": [
    {
     "name": "stdout",
     "output_type": "stream",
     "text": [
      "Started\n"
     ]
    }
   ],
   "source": [
    "import requests\n",
    "import json\n",
    "import openai\n",
    "\n",
    "openai.api_key = open(\".tokens/openai\", \"r\").read()\n",
    "print(\"Started\")"
   ]
  },
  {
   "cell_type": "code",
   "execution_count": 3,
   "metadata": {},
   "outputs": [
    {
     "name": "stdout",
     "output_type": "stream",
     "text": [
      "{'result': ['Driving License', 'English', 'German', 'German::A2_Wortliste_Goethe', 'German::B1_Wortliste_DTZ_Goethe', 'German::Deutsch B1', 'German::Deutsch B1+', 'German::DW Nicos Weg B1', 'Standard'], 'error': None}\n"
     ]
    }
   ],
   "source": [
    "# Uses anki-connect to connect to anki\n",
    "response = requests.post('http://localhost:8765', data='{\"action\": \"deckNames\", \"version\": 6}', headers={'Content-type': 'application/json'})\n",
    "print(response.json())"
   ]
  },
  {
   "cell_type": "code",
   "execution_count": 4,
   "metadata": {},
   "outputs": [],
   "source": [
    "def invoke(method, **params):\n",
    "    request_data = json.dumps({\n",
    "        'action': method,\n",
    "        'params': params,\n",
    "        'version': 6\n",
    "    })\n",
    "\n",
    "    response = requests.post('http://localhost:8765', data=request_data)\n",
    "    response_data = json.loads(response.text)\n",
    "    print(response_data)\n",
    "\n",
    "    if response_data.get('error'):\n",
    "        raise Exception(f\"Error: {response_data['error']}\")\n",
    "    else:\n",
    "        return response_data['result']"
   ]
  },
  {
   "cell_type": "code",
   "execution_count": 19,
   "metadata": {},
   "outputs": [],
   "source": [
    "task = \"\"\"\n",
    "You create cards for Spaced Repetition to learn german as a foreign language. There is an existing structure for cards, for example:\n",
    "\n",
    "```json\n",
    "[\n",
    "    {\n",
    "        \"Wort_DE\": \"melden\",\n",
    "        \"Wort_EN\": \"to report, register, put one's hand up, volunteer\",\n",
    "        \"Verbformen\": \"meldet, meldete, hat gemeldet\",\n",
    "        \"Satz1_DE\": \"Ich habe schon zweimal angerufen. - Aber es meldet sich niemand.\",\n",
    "        \"Satz1_EN\": \"I have already called twice. - But nobody answers.\",\n",
    "        \"Satz2_DE\": \"Den Unfall müssen Sie der Versicherung melden.\",\n",
    "        \"Satz2_EN\":\"You must report the accident to the insurance company.\",\n",
    "        \"Satz3_DE\":\"Ich melde mich auf Ihre Anzeige. - Sie wollen ein Sofa verkaufen?\",\n",
    "        \"Satz3_EN\": \"I'm reporting to your ad. - You want to sell a sofa?\",\n",
    "        \"Satz4_DE\":\"Warum hast du dich so lange nicht gemeldet? Warst du krank?\",\n",
    "        \"Satz4_EN\": \"Why have not you been in contact for so long? Were you sick?\"\n",
    "    },\n",
    "    {\n",
    "        \"Wort_DE\": \"Pflicht\",\n",
    "        \"Wort_EN\": \"Duty; Obligation; Mandatory\",\n",
    "        \"Artikel\": \"die\",\n",
    "        \"Plural\": \"-en\",\n",
    "        \"Satz1_DE\": \"Eltern haben die Pflicht, ihre Kinder vor Schaden zu bewahren.\",\n",
    "        \"Satz1_EN\": \"Parents have an obligation to protect their children from harm.\",\n",
    "        \"Satz2_DE\": \"Er hatte seine vertraglichen Pflichten erfüllt.\",\n",
    "        \"Satz2_EN\": \"He had met his contractual obligations.\"\n",
    "    }\n",
    "]\n",
    "```\n",
    "\n",
    "Please don't output anything else apart from the JSON. The JSON should be valid. The JSON should be an array of objects.\n",
    "\n",
    "Use the same structure for the new words:\n",
    "nicken\n",
    "\"\"\""
   ]
  },
  {
   "cell_type": "code",
   "execution_count": 20,
   "metadata": {},
   "outputs": [],
   "source": [
    "result = openai.ChatCompletion.create(\n",
    "  model=\"gpt-4-1106-preview\",\n",
    "  messages=[\n",
    "        {\"role\": \"user\", \"content\": task}\n",
    "    ]\n",
    ")\n",
    "content = result.to_dict_recursive()['choices'][0][\"message\"][\"content\"]"
   ]
  },
  {
   "cell_type": "code",
   "execution_count": 21,
   "metadata": {},
   "outputs": [],
   "source": [
    "def clean_content(markdown: str):\n",
    "    # this method extracts the code from the markdown and returns only the code from the markdown string\n",
    "\n",
    "    result = \"\"\n",
    "    in_code = False\n",
    "    for line in markdown.split(\"\\n\"):\n",
    "        if line.startswith(\"```\"):\n",
    "            in_code = not in_code\n",
    "        elif in_code:\n",
    "            result += line + \"\\n\"\n",
    "    return result"
   ]
  },
  {
   "cell_type": "code",
   "execution_count": 22,
   "metadata": {},
   "outputs": [
    {
     "name": "stdout",
     "output_type": "stream",
     "text": [
      "[{'Wort_DE': 'nicken', 'Wort_EN': 'to nod', 'Verbformen': 'nickt, nickte, hat genickt', 'Satz1_DE': 'Sie nickte zum Gruß.', 'Satz1_EN': 'She nodded in greeting.', 'Satz2_DE': 'Um Zustimmung zu zeigen, nickte er einfach.', 'Satz2_EN': 'To show agreement, he simply nodded.', 'Satz3_DE': 'Jedes Mal, wenn ich eine Frage stellte, nickte er.', 'Satz3_EN': 'Every time I asked a question, he nodded.', 'Satz4_DE': 'Er nickte mir zu, um mir zu signalisieren, dass ich beginnen sollte.', 'Satz4_EN': 'He nodded to me to signal that I should start.'}]\n"
     ]
    }
   ],
   "source": [
    "# print(content)\n",
    "cleaned_result = clean_content(content)\n",
    "# print(cleaned_result)\n",
    "new_words = json.loads(cleaned_result)\n",
    "print(new_words)"
   ]
  },
  {
   "cell_type": "code",
   "execution_count": 88,
   "metadata": {},
   "outputs": [],
   "source": [
    "new_words_example = \"\"\"\n",
    "[\n",
    "    {\n",
    "        \"Wort_DE\": \"infrage kommen\",\n",
    "        \"Wort_EN\": \"to come into question, be considered\",\n",
    "        \"Verbformen\": \"kommt infrage, kam infrage, ist infrage gekommen\",\n",
    "        \"Satz1_DE\": \"Für diese Stelle kommen nur erfahrene Kandidaten infrage.\",\n",
    "        \"Satz1_EN\": \"Only experienced candidates come into question for this position.\",\n",
    "        \"Satz2_DE\": \"Das Auto ist zu teuer, es kommt nicht infrage.\",\n",
    "        \"Satz2_EN\":\"The car is too expensive, it is not being considered.\",\n",
    "        \"Satz3_DE\":\"Alle Möglichkeiten, die infrage kommen, sollten geprüft werden.\",\n",
    "        \"Satz3_EN\": \"All possibilities that come into question should be checked.\",\n",
    "        \"Satz4_DE\":\"Für mich kam es nicht infrage, die Party zu verpassen.\",\n",
    "        \"Satz4_EN\": \"For me, missing the party was out of the question.\"\n",
    "    },\n",
    "    {\n",
    "        \"Wort_DE\": \"-bar bedeutet Möglich\",\n",
    "        \"Wort_EN\": \"-able means possible\",\n",
    "        \"Satz1_DE\": \"Die Worte 'essbar', 'lesbar', und 'tragbar' zeigen, dass '-bar' 'möglich' bedeutet.\",\n",
    "        \"Satz1_EN\": \"The words 'edible', 'readable', and 'wearable' show that '-able' means 'possible'.\",\n",
    "        \"Satz2_DE\": \"'Waschbar' bedeutet, dass es möglich ist, es zu waschen.\",\n",
    "        \"Satz2_EN\": \"'Washable' means it is possible to wash it.\"\n",
    "    },\n",
    "    {\n",
    "        \"Wort_DE\": \"Es kam mir darauf an,\",\n",
    "        \"Wort_EN\": \"It mattered to me,\",\n",
    "        \"Verbformen\": \"es kommt mir darauf an, es kam mir darauf an, es ist mir darauf angekommen\",\n",
    "        \"Satz1_DE\": \"Es kam mir darauf an, dass wir alle zusammenbleiben.\",\n",
    "        \"Satz1_EN\": \"It mattered to me that we all stick together.\",\n",
    "        \"Satz2_DE\": \"Es kam mir darauf an, meine Prüfung gut zu bestehen.\",\n",
    "        \"Satz2_EN\":\"It was important to me to pass my exam well.\",\n",
    "        \"Satz3_DE\":\"Es kam mir darauf an, pünktlich zu sein.\",\n",
    "        \"Satz3_EN\": \"It mattered to me to be on time.\",\n",
    "        \"Satz4_DE\":\"Es kam mir darauf an, dass du ehrlich zu mir bist.\",\n",
    "        \"Satz4_EN\": \"It mattered to me that you are honest with me.\"\n",
    "    },\n",
    "    {\n",
    "        \"Wort_DE\": \"Ich konnte es kaum erwarten, bis...\",\n",
    "        \"Wort_EN\": \"I could hardly wait until...\",\n",
    "        \"Verbformen\": \"kann kaum erwarten, konnte kaum erwarten, hat kaum erwarten können\",\n",
    "        \"Satz1_DE\": \"Ich konnte es kaum erwarten, bis der Film startete.\",\n",
    "        \"Satz1_EN\": \"I could hardly wait for the film to start.\",\n",
    "        \"Satz2_DE\": \"Ich konnte es kaum erwarten, bis wir in den Urlaub fuhren.\",\n",
    "        \"Satz2_EN\":\"I could hardly wait until we went on vacation.\",\n",
    "        \"Satz3_DE\":\"Ich konnte es kaum erwarten, bis das Buch veröffentlicht wurde.\",\n",
    "        \"Satz3_EN\": \"I could hardly wait until the book was published.\",\n",
    "        \"Satz4_DE\":\"Ich konnte es kaum erwarten, bis ich dich wieder sah.\",\n",
    "        \"Satz4_EN\": \"I could hardly wait until I saw you again.\"\n",
    "    }\n",
    "]\n",
    "\"\"\"\n",
    "new_words = json.loads(new_words)"
   ]
  },
  {
   "cell_type": "code",
   "execution_count": 23,
   "metadata": {},
   "outputs": [
    {
     "name": "stdout",
     "output_type": "stream",
     "text": [
      "{'result': 1704638897384, 'error': None}\n"
     ]
    }
   ],
   "source": [
    "# Remove None fields\n",
    "for word in new_words:\n",
    "    for key in list(word.keys()):\n",
    "        if word[key] is None:\n",
    "            del word[key]\n",
    "    invoke('addNote', \n",
    "       note={\n",
    "           'deckName': 'German::Deutsch B1', \n",
    "           'modelName': 'Basic (and reversed card)-75aea', \n",
    "           'fields': word, \n",
    "           'options': {'allowDuplicate': False}, \n",
    "           'tags': ['German', 'B1']})\n"
   ]
  },
  {
   "cell_type": "code",
   "execution_count": null,
   "metadata": {},
   "outputs": [],
   "source": []
  }
 ],
 "metadata": {
  "kernelspec": {
   "display_name": "Python 3",
   "language": "python",
   "name": "python3"
  },
  "language_info": {
   "codemirror_mode": {
    "name": "ipython",
    "version": 3
   },
   "file_extension": ".py",
   "mimetype": "text/x-python",
   "name": "python",
   "nbconvert_exporter": "python",
   "pygments_lexer": "ipython3",
   "version": "3.10.10"
  },
  "orig_nbformat": 4
 },
 "nbformat": 4,
 "nbformat_minor": 2
}
