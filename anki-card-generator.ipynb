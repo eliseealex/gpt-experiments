{
 "cells": [
  {
   "cell_type": "code",
   "execution_count": 1,
   "metadata": {},
   "outputs": [
    {
     "name": "stdout",
     "output_type": "stream",
     "text": [
      "Started\n"
     ]
    }
   ],
   "source": [
    "import requests\n",
    "import json\n",
    "import openai\n",
    "\n",
    "openai.api_key = open(\".tokens/openai\", \"r\").read()\n",
    "print(\"Started\")"
   ]
  },
  {
   "cell_type": "code",
   "execution_count": 2,
   "metadata": {},
   "outputs": [
    {
     "name": "stdout",
     "output_type": "stream",
     "text": [
      "{'result': ['A2_Wortliste_Goethe', 'B1_Wortliste_DTZ_Goethe', 'Deutsch B1', 'Deutsch B1+', 'DW Nicos Weg B1', 'English', 'Standard'], 'error': None}\n"
     ]
    }
   ],
   "source": [
    "# Uses anki-connect to connect to anki\n",
    "response = requests.post('http://localhost:8765', data='{\"action\": \"deckNames\", \"version\": 6}', headers={'Content-type': 'application/json'})\n",
    "print(response.json())"
   ]
  },
  {
   "cell_type": "code",
   "execution_count": 9,
   "metadata": {},
   "outputs": [],
   "source": [
    "def invoke(method, **params):\n",
    "    request_data = json.dumps({\n",
    "        'action': method,\n",
    "        'params': params,\n",
    "        'version': 6\n",
    "    })\n",
    "\n",
    "    response = requests.post('http://localhost:8765', data=request_data)\n",
    "    response_data = json.loads(response.text)\n",
    "    print(response_data)\n",
    "\n",
    "    if response_data.get('error'):\n",
    "        raise Exception(f\"Error: {response_data['error']}\")\n",
    "    else:\n",
    "        return response_data['result']"
   ]
  },
  {
   "cell_type": "code",
   "execution_count": null,
   "metadata": {},
   "outputs": [],
   "source": [
    "# TODO probably I could use verhalten as an example below"
   ]
  },
  {
   "cell_type": "code",
   "execution_count": null,
   "metadata": {},
   "outputs": [],
   "source": [
    "prompt_template = \"\"\"\n",
    "Help me to mark up new words with the following structure:\n",
    "\n",
    "```json\n",
    "[\n",
    "    {\n",
    "        \"Wort_DE\": \"abnehmen\",\n",
    "        \"Wort_EN\": \"slimming; lose weight\",\n",
    "        \"Artikel\": null,\n",
    "        \"Plural\": null,\n",
    "        \"Hinweis\": null,\n",
    "        \"Verbformen\": \"nummt ab, nahm ab, hat abgenommen\",\n",
    "        \"Satz1_DE\": \"Die neue Diät verspricht schnelles Abnehmen.\",\n",
    "        \"Satz1_EN\": \"The new diet promises quick weight loss.\",\n",
    "        \"Satz2_DE\": null,\n",
    "        \"Satz2_EN\": null,\n",
    "        \"Satz3_DE\": null,\n",
    "        \"Satz3_EN\": null,\n",
    "        \"Satz4_DE\": null,\n",
    "        \"Satz4_EN\": null\n",
    "    },\n",
    "    {\n",
    "        \"Wort_DE\": \"Pflicht\",\n",
    "        \"Wort_EN\": \"Duty; Obligation; Mandatory\",\n",
    "        \"Artikel\": \"die\",\n",
    "        \"Plural\": \"-en\",\n",
    "        \"Hinweis\": null,\n",
    "        \"Verbformen\": null,\n",
    "        \"Satz1_DE\": \"Eltern haben die Pflicht, ihre Kinder vor Schaden zu bewahren.\",\n",
    "        \"Satz1_EN\": \"Parents have an obligation to protect their children from harm.\",\n",
    "        \"Satz2_DE\": \"Er hatte seine vertraglichen Pflichten erfüllt.\",\n",
    "        \"Satz2_EN\": \"He had met his contractual obligations.\",\n",
    "        \"Satz3_DE\": null,\n",
    "        \"Satz3_EN\": null,\n",
    "        \"Satz4_DE\": null,\n",
    "        \"Satz4_EN\": null\n",
    "    }\n",
    "]\n",
    "```\n",
    "\n",
    "Follow the same structure for the next words:\n",
    "Leidenschaft\n",
    "Beruflicher\n",
    "Siezen\n",
    "\"\"\""
   ]
  },
  {
   "cell_type": "code",
   "execution_count": 18,
   "metadata": {},
   "outputs": [],
   "source": [
    "new_words = \"\"\"[\n",
    "    {\n",
    "        \"Wort_DE\": \"Mitteilung\",\n",
    "        \"Wort_EN\": \"message; announcement; notification\",\n",
    "        \"Artikel\": \"die\",\n",
    "        \"Plural\": \"-en\",\n",
    "        \"Hinweis\": null,\n",
    "        \"Verbformen\": null,\n",
    "        \"Satz1_DE\": \"Ich habe eine wichtige Mitteilung für dich.\",\n",
    "        \"Satz1_EN\": \"I have an important message for you.\",\n",
    "        \"Satz2_DE\": \"Die Schule schickte eine Mitteilung über den bevorstehenden Elternabend.\",\n",
    "        \"Satz2_EN\": \"The school sent a notification about the upcoming parents' evening.\",\n",
    "        \"Satz3_DE\": null,\n",
    "        \"Satz3_EN\": null,\n",
    "        \"Satz4_DE\": null,\n",
    "        \"Satz4_EN\": null\n",
    "    },\n",
    "    {\n",
    "        \"Wort_DE\": \"Ansicht\",\n",
    "        \"Wort_EN\": \"view; opinion; perspective\",\n",
    "        \"Artikel\": \"die\",\n",
    "        \"Plural\": \"-en\",\n",
    "        \"Hinweis\": null,\n",
    "        \"Verbformen\": null,\n",
    "        \"Satz1_DE\": \"Nach meiner Ansicht ist das eine gute Idee.\",\n",
    "        \"Satz1_EN\": \"In my view, that's a good idea.\",\n",
    "        \"Satz2_DE\": \"Die verschiedenen Ansichten der Experten führten zu einer lebhaften Diskussion.\",\n",
    "        \"Satz2_EN\": \"The different opinions of the experts led to a lively discussion.\",\n",
    "        \"Satz3_DE\": null,\n",
    "        \"Satz3_EN\": null,\n",
    "        \"Satz4_DE\": null,\n",
    "        \"Satz4_EN\": null\n",
    "    },\n",
    "    {\n",
    "        \"Wort_DE\": \"behaupten\",\n",
    "        \"Wort_EN\": \"claim; assert; maintain\",\n",
    "        \"Artikel\": null,\n",
    "        \"Plural\": null,\n",
    "        \"Hinweis\": null,\n",
    "        \"Verbformen\": \"behauptet, behauptete, hat behauptet\",\n",
    "        \"Satz1_DE\": \"Er behauptet, dass er unschuldig ist.\",\n",
    "        \"Satz1_EN\": \"He claims that he is innocent.\",\n",
    "        \"Satz2_DE\": \"Sie behauptete, die Wahrheit zu sagen.\",\n",
    "        \"Satz2_EN\": \"She asserted that she was telling the truth.\",\n",
    "        \"Satz3_DE\": null,\n",
    "        \"Satz3_EN\": null,\n",
    "        \"Satz4_DE\": null,\n",
    "        \"Satz4_EN\": null\n",
    "    }\n",
    "]\n",
    "\"\"\"\n",
    "new_words = json.loads(new_words)"
   ]
  },
  {
   "cell_type": "code",
   "execution_count": 20,
   "metadata": {},
   "outputs": [
    {
     "name": "stdout",
     "output_type": "stream",
     "text": [
      "{'result': 1683478720350, 'error': None}\n",
      "{'result': 1683478720379, 'error': None}\n",
      "{'result': 1683478720420, 'error': None}\n"
     ]
    }
   ],
   "source": [
    "# Remove None fields\n",
    "for word in new_words:\n",
    "    for key in list(word.keys()):\n",
    "        if word[key] is None:\n",
    "            del word[key]\n",
    "    invoke('addNote', \n",
    "       note={\n",
    "           'deckName': 'Deutsch B1', \n",
    "           'modelName': 'Basic (and reversed card)-75aea', \n",
    "           'fields': word, \n",
    "           'options': {'allowDuplicate': True}, \n",
    "           'tags': ['German', 'B1']})\n"
   ]
  },
  {
   "cell_type": "code",
   "execution_count": 15,
   "metadata": {},
   "outputs": [
    {
     "name": "stdout",
     "output_type": "stream",
     "text": [
      "{'result': 1683477442796, 'error': None}\n"
     ]
    },
    {
     "data": {
      "text/plain": [
       "1683477442796"
      ]
     },
     "execution_count": 15,
     "metadata": {},
     "output_type": "execute_result"
    }
   ],
   "source": []
  },
  {
   "cell_type": "code",
   "execution_count": null,
   "metadata": {},
   "outputs": [],
   "source": []
  }
 ],
 "metadata": {
  "kernelspec": {
   "display_name": "Python 3",
   "language": "python",
   "name": "python3"
  },
  "language_info": {
   "codemirror_mode": {
    "name": "ipython",
    "version": 3
   },
   "file_extension": ".py",
   "mimetype": "text/x-python",
   "name": "python",
   "nbconvert_exporter": "python",
   "pygments_lexer": "ipython3",
   "version": "3.10.10"
  },
  "orig_nbformat": 4
 },
 "nbformat": 4,
 "nbformat_minor": 2
}
